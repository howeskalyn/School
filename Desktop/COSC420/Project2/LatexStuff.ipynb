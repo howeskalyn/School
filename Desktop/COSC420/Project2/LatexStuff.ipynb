{
 "cells": [
  {
   "cell_type": "markdown",
   "id": "e14a7f77-38ab-4f4d-bd34-3789608d0ef8",
   "metadata": {},
   "source": [
    "$$\\begin{pmatrix} 0 & 0 & 1 & 0 \\\\ 1 & 0 & 0 & 0 \\\\ 0 & 0 & 0 & 0 \\\\ 1 & 1 & 1 & 0 \\end{pmatrix}$$"
   ]
  },
  {
   "cell_type": "markdown",
   "id": "2722858c-a23b-4f6b-96d7-c381d4e7bc95",
   "metadata": {},
   "source": [
    "$$\\begin{pmatrix} 0 \\\\ 1/\\sqrt{11} \\\\ 0 \\\\ 2/\\sqrt{11}\\end{pmatrix}$$"
   ]
  },
  {
   "cell_type": "code",
   "execution_count": null,
   "id": "d0347007-9411-4880-af3b-59c8fa4c38dc",
   "metadata": {},
   "outputs": [],
   "source": [
    "0, 1/sqrt(11), 0 , 2/sqrt(11),"
   ]
  },
  {
   "cell_type": "markdown",
   "id": "da26da65-507d-496e-8db1-c308bcb2050e",
   "metadata": {},
   "source": [
    "$$X_{1}$$ \n",
    "$$X_{2}$$ \n",
    "$$X_{3}$$ \n",
    "$$X_{4}$$ "
   ]
  },
  {
   "cell_type": "markdown",
   "id": "0bf39df1-9e6f-4ced-a9c7-d42977ee12bb",
   "metadata": {},
   "source": [
    "$$X_{3}$$ \n",
    "$$old X_{1}$$ \n",
    "$$0 * old X_{1} + 0 * old X_{2} + 0 * old X_{3} + 0 * old X_{4}$$ \n",
    "$$1 * old X_{1} + 1 * old X_{2} + 1 * old X_{3} + 0 * old X_{4} $$ "
   ]
  },
  {
   "cell_type": "markdown",
   "id": "3c7a5c56-1cfb-4138-91e9-5a7278577be9",
   "metadata": {},
   "source": [
    "$$old X_{3} = 0$$ \n",
    "$$old X_{1} = 1/\\sqrt{11} $$ \n",
    "$$0$$ \n",
    "$$1/\\sqrt{11} + 1/\\sqrt{11} + 0 = 2/\\sqrt{11}$$ "
   ]
  },
  {
   "cell_type": "code",
   "execution_count": null,
   "id": "fc803276-38a9-4c87-a377-b8c09530d0cc",
   "metadata": {},
   "outputs": [],
   "source": [
    "NORM: SQRT ( 1^2 +1^2 +3^2 ) "
   ]
  },
  {
   "cell_type": "markdown",
   "id": "4a0cb4e4-ec02-4273-a931-b2c0ec7e94ac",
   "metadata": {},
   "source": [
    "$$Norm = \\sqrt{0^2 + (1/\\sqrt{11})^2 + 0^2 + (2/\\sqrt{11})^2}$$ "
   ]
  },
  {
   "cell_type": "code",
   "execution_count": null,
   "id": "31f14f13-32e3-455a-a6d8-ca16e3c3b759",
   "metadata": {},
   "outputs": [],
   "source": []
  }
 ],
 "metadata": {
  "kernelspec": {
   "display_name": "Python 3 (ipykernel)",
   "language": "python",
   "name": "python3"
  },
  "language_info": {
   "codemirror_mode": {
    "name": "ipython",
    "version": 3
   },
   "file_extension": ".py",
   "mimetype": "text/x-python",
   "name": "python",
   "nbconvert_exporter": "python",
   "pygments_lexer": "ipython3",
   "version": "3.8.12"
  }
 },
 "nbformat": 4,
 "nbformat_minor": 5
}
