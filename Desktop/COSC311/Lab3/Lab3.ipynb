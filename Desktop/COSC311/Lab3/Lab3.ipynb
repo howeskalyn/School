{
 "cells": [
  {
   "cell_type": "markdown",
   "id": "64fb9a3a",
   "metadata": {},
   "source": [
    "# Lab 3\n",
    "\n",
    "Kalyn Howes & Chloe VanCory\n",
    "\n",
    "10.29.21\n",
    "\n",
    "COSC 311\n",
    "\n",
    "Gain familiarity with statistical tools - Iris.data"
   ]
  },
  {
   "cell_type": "markdown",
   "id": "1ac74cb7",
   "metadata": {},
   "source": [
    "# Setup"
   ]
  },
  {
   "cell_type": "code",
   "execution_count": 1,
   "id": "a4adcdd6",
   "metadata": {},
   "outputs": [],
   "source": [
    "import numpy as np\n",
    "import pandas as pd\n",
    "from matplotlib import pyplot as plt\n",
    "import stats\n",
    "import probability\n",
    "import math"
   ]
  },
  {
   "cell_type": "code",
   "execution_count": 2,
   "id": "590d1547",
   "metadata": {},
   "outputs": [
    {
     "data": {
      "text/html": [
       "<div>\n",
       "<style scoped>\n",
       "    .dataframe tbody tr th:only-of-type {\n",
       "        vertical-align: middle;\n",
       "    }\n",
       "\n",
       "    .dataframe tbody tr th {\n",
       "        vertical-align: top;\n",
       "    }\n",
       "\n",
       "    .dataframe thead th {\n",
       "        text-align: right;\n",
       "    }\n",
       "</style>\n",
       "<table border=\"1\" class=\"dataframe\">\n",
       "  <thead>\n",
       "    <tr style=\"text-align: right;\">\n",
       "      <th></th>\n",
       "      <th>sepal_length</th>\n",
       "      <th>sepal_width</th>\n",
       "      <th>petal_length</th>\n",
       "      <th>petal_width</th>\n",
       "      <th>class</th>\n",
       "    </tr>\n",
       "  </thead>\n",
       "  <tbody>\n",
       "    <tr>\n",
       "      <th>0</th>\n",
       "      <td>5.1</td>\n",
       "      <td>3.5</td>\n",
       "      <td>1.4</td>\n",
       "      <td>0.2</td>\n",
       "      <td>Iris-setosa</td>\n",
       "    </tr>\n",
       "    <tr>\n",
       "      <th>1</th>\n",
       "      <td>4.9</td>\n",
       "      <td>3.0</td>\n",
       "      <td>1.4</td>\n",
       "      <td>0.2</td>\n",
       "      <td>Iris-setosa</td>\n",
       "    </tr>\n",
       "    <tr>\n",
       "      <th>2</th>\n",
       "      <td>4.7</td>\n",
       "      <td>3.2</td>\n",
       "      <td>1.3</td>\n",
       "      <td>0.2</td>\n",
       "      <td>Iris-setosa</td>\n",
       "    </tr>\n",
       "    <tr>\n",
       "      <th>3</th>\n",
       "      <td>4.6</td>\n",
       "      <td>3.1</td>\n",
       "      <td>1.5</td>\n",
       "      <td>0.2</td>\n",
       "      <td>Iris-setosa</td>\n",
       "    </tr>\n",
       "    <tr>\n",
       "      <th>4</th>\n",
       "      <td>5.0</td>\n",
       "      <td>3.6</td>\n",
       "      <td>1.4</td>\n",
       "      <td>0.2</td>\n",
       "      <td>Iris-setosa</td>\n",
       "    </tr>\n",
       "    <tr>\n",
       "      <th>...</th>\n",
       "      <td>...</td>\n",
       "      <td>...</td>\n",
       "      <td>...</td>\n",
       "      <td>...</td>\n",
       "      <td>...</td>\n",
       "    </tr>\n",
       "    <tr>\n",
       "      <th>145</th>\n",
       "      <td>6.7</td>\n",
       "      <td>3.0</td>\n",
       "      <td>5.2</td>\n",
       "      <td>2.3</td>\n",
       "      <td>Iris-virginica</td>\n",
       "    </tr>\n",
       "    <tr>\n",
       "      <th>146</th>\n",
       "      <td>6.3</td>\n",
       "      <td>2.5</td>\n",
       "      <td>5.0</td>\n",
       "      <td>1.9</td>\n",
       "      <td>Iris-virginica</td>\n",
       "    </tr>\n",
       "    <tr>\n",
       "      <th>147</th>\n",
       "      <td>6.5</td>\n",
       "      <td>3.0</td>\n",
       "      <td>5.2</td>\n",
       "      <td>2.0</td>\n",
       "      <td>Iris-virginica</td>\n",
       "    </tr>\n",
       "    <tr>\n",
       "      <th>148</th>\n",
       "      <td>6.2</td>\n",
       "      <td>3.4</td>\n",
       "      <td>5.4</td>\n",
       "      <td>2.3</td>\n",
       "      <td>Iris-virginica</td>\n",
       "    </tr>\n",
       "    <tr>\n",
       "      <th>149</th>\n",
       "      <td>5.9</td>\n",
       "      <td>3.0</td>\n",
       "      <td>5.1</td>\n",
       "      <td>1.8</td>\n",
       "      <td>Iris-virginica</td>\n",
       "    </tr>\n",
       "  </tbody>\n",
       "</table>\n",
       "<p>150 rows × 5 columns</p>\n",
       "</div>"
      ],
      "text/plain": [
       "     sepal_length  sepal_width  petal_length  petal_width           class\n",
       "0             5.1          3.5           1.4          0.2     Iris-setosa\n",
       "1             4.9          3.0           1.4          0.2     Iris-setosa\n",
       "2             4.7          3.2           1.3          0.2     Iris-setosa\n",
       "3             4.6          3.1           1.5          0.2     Iris-setosa\n",
       "4             5.0          3.6           1.4          0.2     Iris-setosa\n",
       "..            ...          ...           ...          ...             ...\n",
       "145           6.7          3.0           5.2          2.3  Iris-virginica\n",
       "146           6.3          2.5           5.0          1.9  Iris-virginica\n",
       "147           6.5          3.0           5.2          2.0  Iris-virginica\n",
       "148           6.2          3.4           5.4          2.3  Iris-virginica\n",
       "149           5.9          3.0           5.1          1.8  Iris-virginica\n",
       "\n",
       "[150 rows x 5 columns]"
      ]
     },
     "execution_count": 2,
     "metadata": {},
     "output_type": "execute_result"
    }
   ],
   "source": [
    "iris = pd.read_csv('data/iris.data', header=None, \n",
    "                   names=['sepal_length', 'sepal_width', 'petal_length', 'petal_width', 'class'])\n",
    "iris"
   ]
  },
  {
   "cell_type": "code",
   "execution_count": 3,
   "id": "b541fad1",
   "metadata": {},
   "outputs": [
    {
     "name": "stdout",
     "output_type": "stream",
     "text": [
      "<class 'pandas.core.frame.DataFrame'>\n",
      "RangeIndex: 150 entries, 0 to 149\n",
      "Data columns (total 5 columns):\n",
      " #   Column        Non-Null Count  Dtype  \n",
      "---  ------        --------------  -----  \n",
      " 0   sepal_length  150 non-null    float64\n",
      " 1   sepal_width   150 non-null    float64\n",
      " 2   petal_length  150 non-null    float64\n",
      " 3   petal_width   150 non-null    float64\n",
      " 4   class         150 non-null    object \n",
      "dtypes: float64(4), object(1)\n",
      "memory usage: 6.0+ KB\n"
     ]
    }
   ],
   "source": [
    "iris.info()"
   ]
  },
  {
   "cell_type": "code",
   "execution_count": 4,
   "id": "aba81eda",
   "metadata": {},
   "outputs": [
    {
     "data": {
      "text/html": [
       "<div>\n",
       "<style scoped>\n",
       "    .dataframe tbody tr th:only-of-type {\n",
       "        vertical-align: middle;\n",
       "    }\n",
       "\n",
       "    .dataframe tbody tr th {\n",
       "        vertical-align: top;\n",
       "    }\n",
       "\n",
       "    .dataframe thead th {\n",
       "        text-align: right;\n",
       "    }\n",
       "</style>\n",
       "<table border=\"1\" class=\"dataframe\">\n",
       "  <thead>\n",
       "    <tr style=\"text-align: right;\">\n",
       "      <th></th>\n",
       "      <th>sepal_length</th>\n",
       "      <th>sepal_width</th>\n",
       "      <th>petal_length</th>\n",
       "      <th>petal_width</th>\n",
       "    </tr>\n",
       "  </thead>\n",
       "  <tbody>\n",
       "    <tr>\n",
       "      <th>count</th>\n",
       "      <td>150.000000</td>\n",
       "      <td>150.000000</td>\n",
       "      <td>150.000000</td>\n",
       "      <td>150.000000</td>\n",
       "    </tr>\n",
       "    <tr>\n",
       "      <th>mean</th>\n",
       "      <td>5.843333</td>\n",
       "      <td>3.054000</td>\n",
       "      <td>3.758667</td>\n",
       "      <td>1.198667</td>\n",
       "    </tr>\n",
       "    <tr>\n",
       "      <th>std</th>\n",
       "      <td>0.828066</td>\n",
       "      <td>0.433594</td>\n",
       "      <td>1.764420</td>\n",
       "      <td>0.763161</td>\n",
       "    </tr>\n",
       "    <tr>\n",
       "      <th>min</th>\n",
       "      <td>4.300000</td>\n",
       "      <td>2.000000</td>\n",
       "      <td>1.000000</td>\n",
       "      <td>0.100000</td>\n",
       "    </tr>\n",
       "    <tr>\n",
       "      <th>25%</th>\n",
       "      <td>5.100000</td>\n",
       "      <td>2.800000</td>\n",
       "      <td>1.600000</td>\n",
       "      <td>0.300000</td>\n",
       "    </tr>\n",
       "    <tr>\n",
       "      <th>50%</th>\n",
       "      <td>5.800000</td>\n",
       "      <td>3.000000</td>\n",
       "      <td>4.350000</td>\n",
       "      <td>1.300000</td>\n",
       "    </tr>\n",
       "    <tr>\n",
       "      <th>75%</th>\n",
       "      <td>6.400000</td>\n",
       "      <td>3.300000</td>\n",
       "      <td>5.100000</td>\n",
       "      <td>1.800000</td>\n",
       "    </tr>\n",
       "    <tr>\n",
       "      <th>max</th>\n",
       "      <td>7.900000</td>\n",
       "      <td>4.400000</td>\n",
       "      <td>6.900000</td>\n",
       "      <td>2.500000</td>\n",
       "    </tr>\n",
       "  </tbody>\n",
       "</table>\n",
       "</div>"
      ],
      "text/plain": [
       "       sepal_length  sepal_width  petal_length  petal_width\n",
       "count    150.000000   150.000000    150.000000   150.000000\n",
       "mean       5.843333     3.054000      3.758667     1.198667\n",
       "std        0.828066     0.433594      1.764420     0.763161\n",
       "min        4.300000     2.000000      1.000000     0.100000\n",
       "25%        5.100000     2.800000      1.600000     0.300000\n",
       "50%        5.800000     3.000000      4.350000     1.300000\n",
       "75%        6.400000     3.300000      5.100000     1.800000\n",
       "max        7.900000     4.400000      6.900000     2.500000"
      ]
     },
     "execution_count": 4,
     "metadata": {},
     "output_type": "execute_result"
    }
   ],
   "source": [
    "iris.describe()"
   ]
  },
  {
   "cell_type": "code",
   "execution_count": 5,
   "id": "0ba2c69f",
   "metadata": {},
   "outputs": [],
   "source": [
    "# class set up/separation\n",
    "setosa = iris[iris['class'] == 'Iris-setosa']\n",
    "virginica = iris[iris['class'] == 'Iris-virginica']\n",
    "versicolor = iris[iris['class'] == 'Iris-versicolor']"
   ]
  },
  {
   "cell_type": "markdown",
   "id": "bba6a471",
   "metadata": {},
   "source": [
    "# 4\n",
    "\n",
    "Among the sepal/petal length/width measurements, we can define six different pairwise comparisons (sepal length vs petal width, sepal length vs sepal width, etc.) - show these two parameters together in (six) different scatter plots, where each class is shown by a different color and shape marker\n",
    "\n",
    "(a) What is the correlation coefficient for each pair of measurements when class is disregarded?\n",
    "   \n",
    "(b) What is the correlation coefficient for each pair of measurements when taking into account only measurements within the same class. I.e. what is the correlation between sepal length and width overall, and what is the correlation coefficient between sepal length and width among the Setosa class, Versicolour class, and Virginica class?"
   ]
  },
  {
   "cell_type": "code",
   "execution_count": 6,
   "id": "ddc65afe",
   "metadata": {},
   "outputs": [
    {
     "name": "stdout",
     "output_type": "stream",
     "text": [
      "Correlation Coefficient bewteen Sepal Length & Petal Width: 0.8179536333691633\n",
      "Correlation Coefficient bewteen Sepal Length & Petal Width for the Setosa Class: 0.2790915749995968\n",
      "Correlation Coefficient bewteen Sepal Length & Petal Width for the Virginica Class: 0.2811077091573195\n",
      "Correlation Coefficient bewteen Sepal Length & Petal Width for the Versicolor Class: 0.5464610715986299\n"
     ]
    },
    {
     "data": {
      "image/png": "[encoded data removed]",
      "text/plain": [
       "<Figure size 432x288 with 1 Axes>"
      ]
     },
     "metadata": {
      "needs_background": "light"
     },
     "output_type": "display_data"
    }
   ],
   "source": [
    "# 1) sepal length vs petal width\n",
    "plt.scatter(x=setosa['sepal_length'], y=setosa['petal_width'], color='b')\n",
    "plt.scatter(x=virginica['sepal_length'], y=virginica['petal_width'], color='r', marker='^')\n",
    "plt.scatter(x=versicolor['sepal_length'], y=versicolor['petal_width'], color='g', marker='*')\n",
    "plt.legend(['Setosa', 'Virginica', 'Versicolor'])\n",
    "plt.title(\"Sepal Length vs Petal Width\")\n",
    "plt.xlabel(\"Sepal Length\")\n",
    "plt.ylabel(\"Petal Width\")\n",
    "\n",
    "# correlation coefficient (disregarding class)\n",
    "coco = stats.correlation(iris['sepal_length'], iris['petal_width'])\n",
    "print(\"Correlation Coefficient bewteen Sepal Length & Petal Width:\", coco)\n",
    "\n",
    "# correlation by class\n",
    "print(\"Correlation Coefficient bewteen Sepal Length & Petal Width for the Setosa Class:\", \n",
    "      stats.correlation(setosa['sepal_length'].values, setosa['petal_width'].values))\n",
    "print(\"Correlation Coefficient bewteen Sepal Length & Petal Width for the Virginica Class:\", \n",
    "      stats.correlation(virginica['sepal_length'].values, virginica['petal_width'].values))\n",
    "print(\"Correlation Coefficient bewteen Sepal Length & Petal Width for the Versicolor Class:\", \n",
    "      stats.correlation(versicolor['sepal_length'].values, versicolor['petal_width'].values))"
   ]
  },
  {
   "cell_type": "code",
   "execution_count": 7,
   "id": "e524b2f3",
   "metadata": {},
   "outputs": [
    {
     "name": "stdout",
     "output_type": "stream",
     "text": [
      "Correlation Coefficient bewteen Sepal Length & Sepal Width: -0.10936924995064935\n",
      "Correlation Coefficient bewteen Sepal Length & Sepal Width for the Setosa Class: 0.7467803732639269\n",
      "Correlation Coefficient bewteen Sepal Length & Sepal Width for the Virginica Class: 0.45722781639411275\n",
      "Correlation Coefficient bewteen Sepal Length & Sepal Width for the Versicolor Class: 0.5259107172828243\n"
     ]
    },
    {
     "data": {
      "image/png": "[encoded data removed]",
      "text/plain": [
       "<Figure size 432x288 with 1 Axes>"
      ]
     },
     "metadata": {
      "needs_background": "light"
     },
     "output_type": "display_data"
    }
   ],
   "source": [
    "# 2) sepal length vs sepal width\n",
    "plt.scatter(x=setosa['sepal_length'], y=setosa['sepal_width'], color='b')\n",
    "plt.scatter(x=virginica['sepal_length'], y=virginica['sepal_width'], color='r', marker='^')\n",
    "plt.scatter(x=versicolor['sepal_length'], y=versicolor['sepal_width'], color='g', marker='*')\n",
    "plt.legend(['Setosa', 'Viginica', 'Versicolor'])\n",
    "plt.title(\"Sepal Length vs Sepal Width\")\n",
    "plt.xlabel(\"Sepal Length\")\n",
    "plt.ylabel(\"Sepal Width\")\n",
    "\n",
    "# correlation coefficient (disregarding class)\n",
    "coco = stats.correlation(iris['sepal_length'], iris['sepal_width'])\n",
    "print(\"Correlation Coefficient bewteen Sepal Length & Sepal Width:\", coco)\n",
    "\n",
    "# correlation by class\n",
    "print(\"Correlation Coefficient bewteen Sepal Length & Sepal Width for the Setosa Class:\", \n",
    "      stats.correlation(setosa['sepal_length'].values, setosa['sepal_width'].values))\n",
    "print(\"Correlation Coefficient bewteen Sepal Length & Sepal Width for the Virginica Class:\", \n",
    "      stats.correlation(virginica['sepal_length'].values, virginica['sepal_width'].values))\n",
    "print(\"Correlation Coefficient bewteen Sepal Length & Sepal Width for the Versicolor Class:\", \n",
    "      stats.correlation(versicolor['sepal_length'].values, versicolor['sepal_width'].values))"
   ]
  },
  {
   "cell_type": "code",
   "execution_count": 8,
   "id": "a13c8e17",
   "metadata": {},
   "outputs": [
    {
     "name": "stdout",
     "output_type": "stream",
     "text": [
      "Correlation Coefficient bewteen Sepal Length & Petal Length: 0.8717541573048718\n",
      "Correlation Coefficient bewteen Sepal Length & Petal Length for the Setosa Class: 0.2638740929186869\n",
      "Correlation Coefficient bewteen Sepal Length & Petal Length for the Virginica Class: 0.8642247329355761\n",
      "Correlation Coefficient bewteen Sepal Length & Petal Length for the Versicolor Class: 0.754048958592016\n"
     ]
    },
    {
     "data": {
      "image/png": "[encoded data removed]",
      "text/plain": [
       "<Figure size 432x288 with 1 Axes>"
      ]
     },
     "metadata": {
      "needs_background": "light"
     },
     "output_type": "display_data"
    }
   ],
   "source": [
    "# 3) sepal length vs petal length\n",
    "plt.scatter(x=setosa['sepal_length'], y=setosa['petal_length'], color='b')\n",
    "plt.scatter(x=virginica['sepal_length'], y=virginica['petal_length'], color='r', marker='^')\n",
    "plt.scatter(x=versicolor['sepal_length'], y=versicolor['petal_length'], color='g', marker='*')\n",
    "plt.legend(['Setosa', 'Viginica', 'Versicolor'])\n",
    "plt.title(\"Sepal Length vs Petal Length\")\n",
    "plt.xlabel(\"Sepal Length\")\n",
    "plt.ylabel(\"Petal Length\")\n",
    "\n",
    "# correlation coefficient (disregarding class)\n",
    "coco = stats.correlation(iris['sepal_length'], iris['petal_length'])\n",
    "print(\"Correlation Coefficient bewteen Sepal Length & Petal Length:\", coco)\n",
    "\n",
    "# correlation by class\n",
    "print(\"Correlation Coefficient bewteen Sepal Length & Petal Length for the Setosa Class:\", \n",
    "      stats.correlation(setosa['sepal_length'].values, setosa['petal_length'].values))\n",
    "print(\"Correlation Coefficient bewteen Sepal Length & Petal Length for the Virginica Class:\", \n",
    "      stats.correlation(virginica['sepal_length'].values, virginica['petal_length'].values))\n",
    "print(\"Correlation Coefficient bewteen Sepal Length & Petal Length for the Versicolor Class:\", \n",
    "      stats.correlation(versicolor['sepal_length'].values, versicolor['petal_length'].values))"
   ]
  },
  {
   "cell_type": "code",
   "execution_count": 9,
   "id": "02bb74e3",
   "metadata": {},
   "outputs": [
    {
     "name": "stdout",
     "output_type": "stream",
     "text": [
      "Correlation Coefficient bewteen Petal Width & Petal Length: 0.9627570970509667\n",
      "Correlation Coefficient bewteen Petal Width & Petal Length for the Setosa Class: 0.3063082111580356\n",
      "Correlation Coefficient bewteen Petal Width & Petal Length for the Virginica Class: 0.32210821590031824\n",
      "Correlation Coefficient bewteen Petal Width & Petal Length for the Versicolor Class: 0.7866680885228168\n"
     ]
    },
    {
     "data": {
      "image/png": "[encoded data removed]",
      "text/plain": [
       "<Figure size 432x288 with 1 Axes>"
      ]
     },
     "metadata": {
      "needs_background": "light"
     },
     "output_type": "display_data"
    }
   ],
   "source": [
    "# 4) petal width vs petal length\n",
    "plt.scatter(x=setosa['petal_width'], y=setosa['petal_length'], color='b')\n",
    "plt.scatter(x=virginica['petal_width'], y=virginica['petal_length'], color='r', marker='^')\n",
    "plt.scatter(x=versicolor['petal_width'], y=versicolor['petal_length'], color='g', marker='*')\n",
    "plt.legend(['Setosa', 'Viginica', 'Versicolor'])\n",
    "plt.title(\"Petal Width vs Petal Length\")\n",
    "plt.xlabel(\"Petal Width\")\n",
    "plt.ylabel(\"Petal Length\")\n",
    "\n",
    "# correlation coefficient (disregarding class)\n",
    "coco = stats.correlation(iris['petal_width'], iris['petal_length'])\n",
    "print(\"Correlation Coefficient bewteen Petal Width & Petal Length:\", coco)\n",
    "\n",
    "# correlation by class\n",
    "print(\"Correlation Coefficient bewteen Petal Width & Petal Length for the Setosa Class:\", \n",
    "      stats.correlation(setosa['petal_width'].values, setosa['petal_length'].values))\n",
    "print(\"Correlation Coefficient bewteen Petal Width & Petal Length for the Virginica Class:\", \n",
    "      stats.correlation(virginica['petal_width'].values, virginica['petal_length'].values))\n",
    "print(\"Correlation Coefficient bewteen Petal Width & Petal Length for the Versicolor Class:\", \n",
    "      stats.correlation(versicolor['petal_width'].values, versicolor['petal_length'].values))"
   ]
  },
  {
   "cell_type": "code",
   "execution_count": 10,
   "id": "c48a42da",
   "metadata": {},
   "outputs": [
    {
     "name": "stdout",
     "output_type": "stream",
     "text": [
      "Correlation Coefficient bewteen Petal Width & Sepal Width: -0.3565440896138055\n",
      "Correlation Coefficient bewteen Petal Width & Sepal Width for the Setosa Class: 0.27997288851690444\n",
      "Correlation Coefficient bewteen Petal Width & Sepal Width for the Virginica Class: 0.5377280262661887\n",
      "Correlation Coefficient bewteen Petal Width & Sepal Width for the Versicolor Class: 0.6639987200241115\n"
     ]
    },
    {
     "data": {
      "image/png": "[encoded data removed]",
      "text/plain": [
       "<Figure size 432x288 with 1 Axes>"
      ]
     },
     "metadata": {
      "needs_background": "light"
     },
     "output_type": "display_data"
    }
   ],
   "source": [
    "# 5) petal width vs sepal width\n",
    "plt.scatter(x=setosa['petal_width'], y=setosa['sepal_width'], color='b')\n",
    "plt.scatter(x=virginica['petal_width'], y=virginica['sepal_width'], color='r', marker='^')\n",
    "plt.scatter(x=versicolor['petal_width'], y=versicolor['sepal_width'], color='g', marker='*')\n",
    "plt.legend(['Setosa', 'Viginica', 'Versicolor'])\n",
    "plt.title(\"Petal Width vs Sepal Width\")\n",
    "plt.xlabel(\"Petal Width\")\n",
    "plt.ylabel(\"Sepal Width\")\n",
    "\n",
    "# correlation coefficient (disregarding class)\n",
    "coco = stats.correlation(iris['petal_width'], iris['sepal_width'])\n",
    "print(\"Correlation Coefficient bewteen Petal Width & Sepal Width:\", coco)\n",
    "\n",
    "# correlation by class\n",
    "print(\"Correlation Coefficient bewteen Petal Width & Sepal Width for the Setosa Class:\", \n",
    "      stats.correlation(setosa['petal_width'].values, setosa['sepal_width'].values))\n",
    "print(\"Correlation Coefficient bewteen Petal Width & Sepal Width for the Virginica Class:\", \n",
    "      stats.correlation(virginica['petal_width'].values, virginica['sepal_width'].values))\n",
    "print(\"Correlation Coefficient bewteen Petal Width & Sepal Width for the Versicolor Class:\", \n",
    "      stats.correlation(versicolor['petal_width'].values, versicolor['sepal_width'].values))"
   ]
  },
  {
   "cell_type": "code",
   "execution_count": 11,
   "id": "2aa19a6a",
   "metadata": {},
   "outputs": [
    {
     "name": "stdout",
     "output_type": "stream",
     "text": [
      "Correlation Coefficient bewteen Sepal Width & Petal Length: -0.42051609640115495\n",
      "Correlation Coefficient bewteen Sepal Width & Petal Length for the Setosa Class: 0.17669462869680694\n",
      "Correlation Coefficient bewteen Sepal Width & Petal Length for the Virginica Class: 0.4010445773427851\n",
      "Correlation Coefficient bewteen Sepal Width & Petal Length for the Versicolor Class: 0.560522091692982\n"
     ]
    },
    {
     "data": {
      "image/png": "[encoded data removed]",
      "text/plain": [
       "<Figure size 432x288 with 1 Axes>"
      ]
     },
     "metadata": {
      "needs_background": "light"
     },
     "output_type": "display_data"
    }
   ],
   "source": [
    "# 6) sepal width vs petal length\n",
    "plt.scatter(x=setosa['sepal_width'], y=setosa['petal_length'], color='b')\n",
    "plt.scatter(x=virginica['sepal_width'], y=virginica['petal_length'], color='r', marker='^')\n",
    "plt.scatter(x=versicolor['sepal_width'], y=versicolor['petal_length'], color='g', marker='*')\n",
    "plt.legend(['Setosa', 'Viginica', 'Versicolor'])\n",
    "plt.title(\"Sepal Width vs Petal Length\")\n",
    "plt.xlabel(\"Sepal Width\")\n",
    "plt.ylabel(\"Petal Length\")\n",
    "\n",
    "# correlation coefficient (disregarding class)\n",
    "coco = stats.correlation(iris['sepal_width'], iris['petal_length'])\n",
    "print(\"Correlation Coefficient bewteen Sepal Width & Petal Length:\", coco)\n",
    "\n",
    "# correlation by class\n",
    "print(\"Correlation Coefficient bewteen Sepal Width & Petal Length for the Setosa Class:\", \n",
    "      stats.correlation(setosa['sepal_width'].values, setosa['petal_length'].values))\n",
    "print(\"Correlation Coefficient bewteen Sepal Width & Petal Length for the Virginica Class:\", \n",
    "      stats.correlation(virginica['sepal_width'].values, virginica['petal_length'].values))\n",
    "print(\"Correlation Coefficient bewteen Sepal Width & Petal Length for the Versicolor Class:\", \n",
    "      stats.correlation(versicolor['sepal_width'].values, versicolor['petal_length'].values))"
   ]
  },
  {
   "cell_type": "markdown",
   "id": "324686b8",
   "metadata": {},
   "source": [
    "# 5\n",
    "\n",
    "For each of the four numerical categories, compute the mean with a 95% confidence interval and show them in a bar chart."
   ]
  },
  {
   "cell_type": "code",
   "execution_count": 12,
   "id": "bc292dba",
   "metadata": {},
   "outputs": [
    {
     "name": "stdout",
     "output_type": "stream",
     "text": [
      "Sepal Length:\n",
      "    mean: 5.843333333333335\n",
      "    95% confidence interval: [4.225742801434459, 7.4609238652322105]\n",
      "\n",
      "\n",
      "Sepal Width:\n",
      "    mean: 3.0540000000000007\n",
      "    95% confidence interval: [2.2069927030617356, 3.901007296938266]\n",
      "\n",
      "\n",
      "Petal Length:\n",
      "    mean: 3.7586666666666693\n",
      "    95% confidence interval: [0.3119494671918499, 7.205383866141489]\n",
      "\n",
      "\n",
      "Petal Width:\n",
      "    mean: 1.1986666666666672\n",
      "    95% confidence interval: [-0.29213406576614975, 2.689467399099484]\n"
     ]
    },
    {
     "data": {
      "text/plain": [
       "Text(0, 0.5, 'Mean')"
      ]
     },
     "execution_count": 12,
     "metadata": {},
     "output_type": "execute_result"
    },
    {
     "data": {
      "image/png": "[encoded data removed]",
      "text/plain": [
       "<Figure size 432x288 with 1 Axes>"
      ]
     },
     "metadata": {
      "needs_background": "light"
     },
     "output_type": "display_data"
    }
   ],
   "source": [
    "# 1) sepal length\n",
    "xbar = iris['sepal_length'].mean()\n",
    "std = stats.std(iris['sepal_length']) # have to send in all of the x's\n",
    "interval = [xbar - 1.96 * std, xbar + 1.96 * std]\n",
    "print(\"Sepal Length:\")\n",
    "print(\"    mean:\", xbar)\n",
    "print(\"    95% confidence interval:\", interval)\n",
    "print(\"\\n\")\n",
    "\n",
    "# 2) sepal width\n",
    "xbar = iris['sepal_width'].mean()\n",
    "std = stats.std(iris['sepal_width']) # have to send in all of the x's\n",
    "interval = [xbar - 1.96 * std, xbar + 1.96 * std]\n",
    "print(\"Sepal Width:\")\n",
    "print(\"    mean:\", xbar)\n",
    "print(\"    95% confidence interval:\", interval)\n",
    "print(\"\\n\")\n",
    "\n",
    "# 3) petal length\n",
    "xbar = iris['petal_length'].mean()\n",
    "std = stats.std(iris['petal_length']) # have to send in all of the x's\n",
    "interval = [xbar - 1.96 * std, xbar + 1.96 * std]\n",
    "print(\"Petal Length:\")\n",
    "print(\"    mean:\", xbar)\n",
    "print(\"    95% confidence interval:\", interval)\n",
    "print(\"\\n\")\n",
    "\n",
    "# 4) petal width\n",
    "xbar = iris['petal_width'].mean()\n",
    "std = stats.std(iris['petal_width']) # have to send in all of the x's\n",
    "interval = [xbar - 1.96 * std, xbar + 1.96 * std]\n",
    "print(\"Petal Width:\")\n",
    "print(\"    mean:\", xbar)\n",
    "print(\"    95% confidence interval:\", interval)\n",
    "\n",
    "# bar chart for the means\n",
    "features = ['Sepal Length', 'Sepal Width', 'Petal Length', 'Petal Width']\n",
    "means = [iris['sepal_length'].mean(), iris['sepal_width'].mean(), \n",
    "         iris['petal_length'].mean(), iris['petal_width'].mean()]\n",
    "plt.bar(features, means)\n",
    "plt.title(\"Means of Sepal & Petal Measurements\")\n",
    "plt.xlabel(\"Category\")\n",
    "plt.ylabel(\"Mean\")"
   ]
  },
  {
   "cell_type": "markdown",
   "id": "f59e1319",
   "metadata": {},
   "source": [
    "# 6\n",
    "\n",
    "Compute the mean of sepal and petal measurements with 95% confidence intervals, but this time separated by each of the three classes (so you will have a total of 12 bars and intervals)."
   ]
  },
  {
   "cell_type": "code",
   "execution_count": 13,
   "id": "b5c944fd",
   "metadata": {},
   "outputs": [
    {
     "name": "stdout",
     "output_type": "stream",
     "text": [
      "Sepal Length - Setosa:\n",
      "    mean: 5.005999999999999\n",
      "    95% confidence interval: [4.322063904739631, 5.689936095260368]\n",
      "Sepal Length - Virginica:\n",
      "    mean: 6.587999999999998\n",
      "    95% confidence interval: [5.354202184472673, 7.821797815527324]\n",
      "Sepal Length - Versicolor:\n",
      "    mean: 5.936\n",
      "    95% confidence interval: [4.934472603270384, 6.937527396729616]\n",
      "\n",
      "\n",
      "Sepal Width - Setosa:\n",
      "    mean: 3.4180000000000006\n",
      "    95% confidence interval: [2.678697976737518, 4.157302023262483]\n",
      "Sepal Width - Virginica:\n",
      "    mean: 2.9739999999999998\n",
      "    95% confidence interval: [2.348259448013795, 3.5997405519862045]\n",
      "Sepal Width - Versicolor:\n",
      "    mean: 2.7700000000000005\n",
      "    95% confidence interval: [2.161136796973245, 3.378863203026756]\n",
      "\n",
      "\n",
      "Petal Length - Setosa:\n",
      "    mean: 1.464\n",
      "    95% confidence interval: [1.1273361225198046, 1.8006638774801953]\n",
      "Petal Length - Virginica:\n",
      "    mean: 5.552\n",
      "    95% confidence interval: [4.481158165927385, 6.622841834072614]\n",
      "Petal Length - Versicolor:\n",
      "    mean: 4.26\n",
      "    95% confidence interval: [3.34823125739034, 5.17176874260966]\n",
      "\n",
      "\n",
      "Petal Width - Setosa:\n",
      "    mean: 0.2439999999999999\n",
      "    95% confidence interval: [0.03598129314890927, 0.4520187068510906]\n",
      "Petal Width - Virginica:\n",
      "    mean: 2.026\n",
      "    95% confidence interval: [1.4930962203174007, 2.558903779682599]\n",
      "Petal Width - Versicolor:\n",
      "    mean: 1.3259999999999998\n",
      "    95% confidence interval: [0.9423002757363512, 1.7096997242636485]\n"
     ]
    }
   ],
   "source": [
    "# 1) sepal length - setosa\n",
    "xbar = setosa['sepal_length'].mean()\n",
    "std = stats.std(setosa['sepal_length'].values)\n",
    "interval = [xbar - 1.96 * std, xbar + 1.96 * std]\n",
    "print(\"Sepal Length - Setosa:\")\n",
    "print(\"    mean:\", xbar)\n",
    "print(\"    95% confidence interval:\", interval)\n",
    "\n",
    "# 2) sepal length - virginica\n",
    "xbar = virginica['sepal_length'].mean()\n",
    "std = stats.std(virginica['sepal_length'].values)\n",
    "interval = [xbar - 1.96 * std, xbar + 1.96 * std]\n",
    "print(\"Sepal Length - Virginica:\")\n",
    "print(\"    mean:\", xbar)\n",
    "print(\"    95% confidence interval:\", interval)\n",
    "\n",
    "# 3) sepal length - versicolor\n",
    "xbar = versicolor['sepal_length'].mean()\n",
    "std = stats.std(versicolor['sepal_length'].values)\n",
    "interval = [xbar - 1.96 * std, xbar + 1.96 * std]\n",
    "print(\"Sepal Length - Versicolor:\")\n",
    "print(\"    mean:\", xbar)\n",
    "print(\"    95% confidence interval:\", interval)\n",
    "print(\"\\n\")\n",
    "\n",
    "# 4) sepal width - setosa\n",
    "xbar = setosa['sepal_width'].mean()\n",
    "std = stats.std(setosa['sepal_width'].values) # have to send in all of the x's\n",
    "interval = [xbar - 1.96 * std, xbar + 1.96 * std]\n",
    "print(\"Sepal Width - Setosa:\")\n",
    "print(\"    mean:\", xbar)\n",
    "print(\"    95% confidence interval:\", interval)\n",
    "\n",
    "# 5) sepal width - virginica\n",
    "xbar = virginica['sepal_width'].mean()\n",
    "std = stats.std(virginica['sepal_width'].values) # have to send in all of the x's\n",
    "interval = [xbar - 1.96 * std, xbar + 1.96 * std]\n",
    "print(\"Sepal Width - Virginica:\")\n",
    "print(\"    mean:\", xbar)\n",
    "print(\"    95% confidence interval:\", interval)\n",
    "\n",
    "# 6) sepal width - versicolor\n",
    "xbar = versicolor['sepal_width'].mean()\n",
    "std = stats.std(versicolor['sepal_width'].values) # have to send in all of the x's\n",
    "interval = [xbar - 1.96 * std, xbar + 1.96 * std]\n",
    "print(\"Sepal Width - Versicolor:\")\n",
    "print(\"    mean:\", xbar)\n",
    "print(\"    95% confidence interval:\", interval)\n",
    "print(\"\\n\")\n",
    "\n",
    "# 7) petal length - setosa\n",
    "xbar = setosa['petal_length'].mean()\n",
    "std = stats.std(setosa['petal_length'].values) # have to send in all of the x's\n",
    "interval = [xbar - 1.96 * std, xbar + 1.96 * std]\n",
    "print(\"Petal Length - Setosa:\")\n",
    "print(\"    mean:\", xbar)\n",
    "print(\"    95% confidence interval:\", interval)\n",
    "\n",
    "# 8) petal length - virginica\n",
    "xbar = virginica['petal_length'].mean()\n",
    "std = stats.std(virginica['petal_length'].values) # have to send in all of the x's\n",
    "interval = [xbar - 1.96 * std, xbar + 1.96 * std]\n",
    "print(\"Petal Length - Virginica:\")\n",
    "print(\"    mean:\", xbar)\n",
    "print(\"    95% confidence interval:\", interval)\n",
    "\n",
    "# 9) petal length - versicolor\n",
    "xbar = versicolor['petal_length'].mean()\n",
    "std = stats.std(versicolor['petal_length'].values) # have to send in all of the x's\n",
    "interval = [xbar - 1.96 * std, xbar + 1.96 * std]\n",
    "print(\"Petal Length - Versicolor:\")\n",
    "print(\"    mean:\", xbar)\n",
    "print(\"    95% confidence interval:\", interval)\n",
    "print(\"\\n\")\n",
    "\n",
    "# 10) petal width - setosa\n",
    "xbar = setosa['petal_width'].mean()\n",
    "std = stats.std(setosa['petal_width'].values) # have to send in all of the x's\n",
    "interval = [xbar - 1.96 * std, xbar + 1.96 * std]\n",
    "print(\"Petal Width - Setosa:\")\n",
    "print(\"    mean:\", xbar)\n",
    "print(\"    95% confidence interval:\", interval)\n",
    "\n",
    "# 11) petal width - virginica\n",
    "xbar = virginica['petal_width'].mean()\n",
    "std = stats.std(virginica['petal_width'].values) # have to send in all of the x's\n",
    "interval = [xbar - 1.96 * std, xbar + 1.96 * std]\n",
    "print(\"Petal Width - Virginica:\")\n",
    "print(\"    mean:\", xbar)\n",
    "print(\"    95% confidence interval:\", interval)\n",
    "\n",
    "# 12) petal width - versicolor\n",
    "xbar = versicolor['petal_width'].mean()\n",
    "std = stats.std(versicolor['petal_width'].values) # have to send in all of the x's\n",
    "interval = [xbar - 1.96 * std, xbar + 1.96 * std]\n",
    "print(\"Petal Width - Versicolor:\")\n",
    "print(\"    mean:\", xbar)\n",
    "print(\"    95% confidence interval:\", interval)"
   ]
  },
  {
   "cell_type": "code",
   "execution_count": 14,
   "id": "6495f1de",
   "metadata": {},
   "outputs": [
    {
     "data": {
      "text/plain": [
       "<matplotlib.legend.Legend at 0x7ffc8c81a4f0>"
      ]
     },
     "execution_count": 14,
     "metadata": {},
     "output_type": "execute_result"
    },
    {
     "data": {
      "image/png": "[encoded data removed]",
      "text/plain": [
       "<Figure size 432x288 with 1 Axes>"
      ]
     },
     "metadata": {
      "needs_background": "light"
     },
     "output_type": "display_data"
    }
   ],
   "source": [
    "# grouped bar chart\n",
    "labels = ['Sepal Length', 'Sepal Width', 'Petal Length', 'Petal Width']\n",
    "setosa_means = [setosa['sepal_length'].mean(), setosa['sepal_width'].mean(),\n",
    "                setosa['petal_length'].mean(), setosa['petal_width'].mean()]\n",
    "virginica_means = [virginica['sepal_length'].mean(), virginica['sepal_width'].mean(),\n",
    "                   virginica['petal_length'].mean(), virginica['petal_width'].mean()]\n",
    "versicolor_means = [versicolor['sepal_length'].mean(), versicolor['sepal_width'].mean(),\n",
    "                    versicolor['petal_length'].mean(), versicolor['petal_width'].mean()]\n",
    "\n",
    "x = np.arange(len(labels)) \n",
    "width = 0.2\n",
    "plt.bar(x-0.2, setosa_means, width, color = \"blue\")\n",
    "plt.bar(x, virginica_means, width, color = \"red\")\n",
    "plt.bar(x+0.2, versicolor_means, width, color = \"green\")\n",
    "plt.xticks(x, labels)\n",
    "plt.title(\"Means of Sepal & Petal Measurements, By Class\")\n",
    "plt.xlabel(\"Category\")\n",
    "plt.ylabel(\"Mean\")\n",
    "plt.legend([\"Setosa\", \"Virginica\", \"Versicolor\"])"
   ]
  },
  {
   "cell_type": "markdown",
   "id": "1f406244",
   "metadata": {},
   "source": [
    "# 7 \n",
    "\n",
    "From the two mean estimates above, draw at least one relationship conclusion (e.g. the mean of X is larger than the mean of Y) and find the p-value that shows the strength of that conclusion. Does this mean you can reject your hypothesis or not?\n",
    "\n",
    "The mean of the Setosa Sepal Width is equal to the mean of the Versicolor Sepal Width."
   ]
  },
  {
   "cell_type": "code",
   "execution_count": 15,
   "id": "e1773346",
   "metadata": {},
   "outputs": [
    {
     "name": "stdout",
     "output_type": "stream",
     "text": [
      "Mu for the Setosa Sepal Widths is: 3.4180000000000006\n",
      "Sigma for the Setosa Sepal Width is: 0.37719490982779713\n",
      "95% confidence interval: [2.678697976737518, 4.157302023262483]\n",
      "Sampling 50 times from the Setosa Sepal Widths, the average mean is: 3.423333333333336\n",
      "The p-value for the Setosa Sepal Width is: 0.9887187169679743\n"
     ]
    }
   ],
   "source": [
    "# SETOSA SEPAL WIDTHS\n",
    "# find mu & sigma from the CLT - tells what normal is (gives population measurements)\n",
    "# mu = (1/N)* SUM(x1 + x2 + ... + xN)\n",
    "sepal_sums = 0\n",
    "for x in setosa['sepal_width']:\n",
    "    sepal_sums = sepal_sums + x\n",
    "mu = sepal_sums / len(setosa['sepal_width'])\n",
    "print(\"Mu for the Setosa Sepal Widths is:\", mu)\n",
    "\n",
    "# sigma = (1/N-1) * SUM(xi - mu)^2\n",
    "sum_of_squares = 0\n",
    "for x in setosa['sepal_width']:\n",
    "    sum_of_squares = sum_of_squares + (x - mu)**2\n",
    "variance = sum_of_squares / (len(setosa['sepal_width'] - 1))\n",
    "sigma = math.sqrt(variance)\n",
    "print(\"Sigma for the Setosa Sepal Width is:\", sigma)\n",
    "\n",
    "# confidence interval\n",
    "interval = [mu - 1.96 * sigma, mu + 1.96 * sigma]\n",
    "print(\"95% confidence interval:\", interval)\n",
    "\n",
    "# draw mean a bunch of times and use the average\n",
    "sample_means_sum = 0\n",
    "for i in range(50):\n",
    "    sample_set = setosa['sepal_width'].sample(n=30, random_state = 1)\n",
    "    sample_means_sum = sample_means_sum + sample_set.mean()\n",
    "avg_sample_mean = sample_means_sum / 50\n",
    "print(\"Sampling 50 times from the Setosa Sepal Widths, the average mean is:\", avg_sample_mean)    \n",
    "\n",
    "# what is tail probability from what it should be (population measurements)\n",
    "# t is the value you're putting a p-value, one observation of the mean\n",
    "print(\"The p-value for the Setosa Sepal Width is:\", probability.two_sided_p(avg_sample_mean, mu, sigma))"
   ]
  },
  {
   "cell_type": "code",
   "execution_count": 16,
   "id": "2356461d",
   "metadata": {
    "scrolled": true
   },
   "outputs": [
    {
     "data": {
      "text/plain": [
       "Text(0, 0.5, 'Frequency')"
      ]
     },
     "execution_count": 16,
     "metadata": {},
     "output_type": "execute_result"
    },
    {
     "data": {
      "image/png": "[encoded data removed]",
      "text/plain": [
       "<Figure size 432x288 with 1 Axes>"
      ]
     },
     "metadata": {
      "needs_background": "light"
     },
     "output_type": "display_data"
    }
   ],
   "source": [
    "# (a) Looking at the data (in the form of a histogram), how close is it to a Normal distribution?\n",
    "setosa['sepal_width'].hist()\n",
    "plt.title(\"Setosa Sepal Width Distribution\")\n",
    "plt.xlabel(\"Setosa Sepal Width\")\n",
    "plt.ylabel(\"Frequency\")"
   ]
  },
  {
   "cell_type": "markdown",
   "id": "b60b1800",
   "metadata": {},
   "source": [
    "The Setosa Sepal Widths do not have a very normal distribution. The highest frequencies are somewhat in the middle with lower ones on the edges, but it is nowhere near perfect."
   ]
  },
  {
   "cell_type": "code",
   "execution_count": 17,
   "id": "0f304426",
   "metadata": {},
   "outputs": [
    {
     "name": "stdout",
     "output_type": "stream",
     "text": [
      "Mu for the Versicolor Sepal Widths is: 2.7700000000000005\n",
      "Sigma for the Versicolor Sepal Width is: 0.31064449134018135\n",
      "95% confidence interval: [2.161136796973245, 3.378863203026756]\n",
      "Sampling 50 times from the Versicolor Sepal Widths, the average mean is: 2.739999999999999\n",
      "The p-value for the Versicolor Sepal Width is: 0.9230651679593637\n"
     ]
    }
   ],
   "source": [
    "# VERSICOLOR SEPAL WIDTHS\n",
    "sepal_sums = 0\n",
    "for x in versicolor['sepal_width']:\n",
    "    sepal_sums = sepal_sums + x\n",
    "mu = sepal_sums / len(versicolor['sepal_width'])\n",
    "print(\"Mu for the Versicolor Sepal Widths is:\", mu)\n",
    "\n",
    "# sigma = (1/N-1) * SUM(xi - mu)^2\n",
    "sum_of_squares = 0\n",
    "for x in versicolor['sepal_width']:\n",
    "    sum_of_squares = sum_of_squares + (x - mu)**2\n",
    "variance = sum_of_squares / (len(versicolor['sepal_width'] - 1))\n",
    "sigma = math.sqrt(variance)\n",
    "print(\"Sigma for the Versicolor Sepal Width is:\", sigma)\n",
    "\n",
    "# confidence interval\n",
    "interval = [mu - 1.96 * sigma, mu + 1.96 * sigma]\n",
    "print(\"95% confidence interval:\", interval)\n",
    "\n",
    "# draw mean a bunch of times and use the average\n",
    "sample_means_sum = 0\n",
    "for i in range(50):\n",
    "    sample_set = versicolor['sepal_width'].sample(n=30, random_state = 1)\n",
    "    sample_means_sum = sample_means_sum + sample_set.mean()\n",
    "avg_sample_mean = sample_means_sum / 50\n",
    "print(\"Sampling 50 times from the Versicolor Sepal Widths, the average mean is:\", avg_sample_mean)    \n",
    "\n",
    "# what is tail probability from what it should be (population measurements)\n",
    "# t is the value you're putting a p-value, one observation of the mean\n",
    "print(\"The p-value for the Versicolor Sepal Width is:\", probability.two_sided_p(avg_sample_mean, mu, sigma))"
   ]
  },
  {
   "cell_type": "code",
   "execution_count": 18,
   "id": "dce31271",
   "metadata": {},
   "outputs": [
    {
     "data": {
      "text/plain": [
       "Text(0, 0.5, 'Frequency')"
      ]
     },
     "execution_count": 18,
     "metadata": {},
     "output_type": "execute_result"
    },
    {
     "data": {
      "image/png": "[encoded data removed]",
      "text/plain": [
       "<Figure size 432x288 with 1 Axes>"
      ]
     },
     "metadata": {
      "needs_background": "light"
     },
     "output_type": "display_data"
    }
   ],
   "source": [
    "# (a) Looking at the data (in the form of a histogram), how close is it to a Normal distribution?\n",
    "versicolor['sepal_width'].hist()\n",
    "plt.title(\"Versicolor Sepal Width Distribution\")\n",
    "plt.xlabel(\"Versicolor Sepal Width\")\n",
    "plt.ylabel(\"Frequency\")"
   ]
  },
  {
   "cell_type": "markdown",
   "id": "217c3a90",
   "metadata": {},
   "source": [
    "The Versicolor Sepal Widths do not resemble a normal distribution much at all. "
   ]
  },
  {
   "cell_type": "code",
   "execution_count": 23,
   "id": "0cea03d6",
   "metadata": {},
   "outputs": [
    {
     "name": "stdout",
     "output_type": "stream",
     "text": [
      "50\n",
      "50\n",
      "150\n",
      "The test statistic, z is: 0.0\n"
     ]
    }
   ],
   "source": [
    "# nA = # sampled, NA = population size\n",
    "# so, nA = Sepal Widths in Setosa class, NA = all Sepal Widths\n",
    "z = probability.ab_statistic(len(setosa['sepal_width']), len(iris['sepal_width']),\n",
    "                              len(versicolor['sepal_width']), len(iris['sepal_width']))\n",
    "print(len(setosa['sepal_width']))\n",
    "print(len(versicolor['sepal_width']))\n",
    "print(len(iris['sepal_width']))\n",
    "print(\"The test statistic, z is:\", z)                              "
   ]
  },
  {
   "cell_type": "markdown",
   "id": "bb796238",
   "metadata": {},
   "source": [
    "With z being 0, which is less than 0.05, we reject the hypothesis. This means the mean of the Setosa Sepal Widths is not equal to the mean of the Versicolor Sepal Widths. As a matter of fact, this means they are not even close. We can somewhat see this from the graph from earlier."
   ]
  }
 ],
 "metadata": {
  "kernelspec": {
   "display_name": "Python 3",
   "language": "python",
   "name": "python3"
  },
  "language_info": {
   "codemirror_mode": {
    "name": "ipython",
    "version": 3
   },
   "file_extension": ".py",
   "mimetype": "text/x-python",
   "name": "python",
   "nbconvert_exporter": "python",
   "pygments_lexer": "ipython3",
   "version": "3.8.8"
  }
 },
 "nbformat": 4,
 "nbformat_minor": 5
}
