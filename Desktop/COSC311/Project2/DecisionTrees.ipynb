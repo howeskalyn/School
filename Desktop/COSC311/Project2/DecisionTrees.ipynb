{
 "cells": [
  {
   "cell_type": "markdown",
   "id": "75e9cc35-d2c4-4b9f-8ba2-5668cb478887",
   "metadata": {
    "tags": []
   },
   "source": [
    "# Decision Tree Algorithm\n",
    "\n",
    "Implementation & testing on smaller data sets"
   ]
  },
  {
   "cell_type": "code",
   "execution_count": 1,
   "id": "f9e41cc1-2da0-418b-b6b5-0bb56b0d96f7",
   "metadata": {},
   "outputs": [],
   "source": [
    "from matplotlib import pyplot as plt"
   ]
  },
  {
   "cell_type": "markdown",
   "id": "f7b17394-71f3-43ce-a313-3216936d8e6d",
   "metadata": {
    "jp-MarkdownHeadingCollapsed": true,
    "tags": []
   },
   "source": [
    "### Functions"
   ]
  },
  {
   "cell_type": "code",
   "execution_count": 2,
   "id": "726327ec-ce78-4b03-9049-acf051753e5f",
   "metadata": {},
   "outputs": [],
   "source": [
    "# calculates & returns the Gini Index/Value (0-0.5)\n",
    "# 0 = perfect split, 0.5 = 50/50 classes in each group\n",
    "def get_gini(groups, classes):\n",
    "    n = float(sum([len(g) for g in groups])) # count all samples at split point\n",
    "    \n",
    "    # sum weighted Gini index for each group\n",
    "    gini = 0.0\n",
    "    for g in groups:\n",
    "        size = float(len(g))\n",
    "        \n",
    "        # avoid divide by zero\n",
    "        if size == 0:\n",
    "            continue\n",
    "        score = 0.0\n",
    "        \n",
    "        # score the group based on the score for each class\n",
    "        for class_val in classes:\n",
    "            p = [row[-1] for row in g].count(class_val) / size\n",
    "            score += p * p\n",
    "            \n",
    "        # weight the group score by its relative size\n",
    "        gini += (1.0 - score) * (size / n)\n",
    "        \n",
    "    return gini\n",
    " \n",
    "# separating a dataset into two lists of \"rows\" from the data\n",
    "# parameters: the index of an attribute, split value for that attribute, data\n",
    "# returns left and right lists\n",
    "def test_split(i, val, dataset):\n",
    "    left = list() # holds all \"rows\" with a value at the index < the split value\n",
    "    right = list() # holds all \"rows\" with a value at the index >= the split value\n",
    "    \n",
    "    for d in dataset:\n",
    "        if d[i] < val:\n",
    "            left.append(d)\n",
    "        else:\n",
    "            right.append(d)\n",
    "    return left, right\n",
    " \n",
    "# finds the best split point for a dataset\n",
    "# uses test_split to find all possible splits first, then uses Gini to determine the best\n",
    "def best_split(dataset):\n",
    "    class_vals = list(set(row[-1] for row in dataset))\n",
    "    node_index, node_value, node_score, node_groups = 999, 999, 999, None # initalize data for node dictionary\n",
    "    \n",
    "    # for each index in the data\n",
    "    for i in range(len(dataset[0])-1):\n",
    "        # for each row in the data\n",
    "        for row in dataset:\n",
    "            groups = test_split(i, row[i], dataset)\n",
    "            gini = get_gini(groups, class_vals)\n",
    "            #print(f'X{i+1} < {row[i]:0.3} Gini={gini:.03}')\n",
    "             \n",
    "            if gini < node_score:\n",
    "                node_index = i\n",
    "                node_value = row[i]\n",
    "                node_score = gini\n",
    "                node_groups = groups\n",
    "\n",
    "    return {'index':node_index, 'value':node_value, 'groups':node_groups} # dont need to return gini score\n",
    "\n",
    "# returns most common output value in a list of rows\n",
    "def common_value(group):\n",
    "    outcomes = [row[-1] for row in group]\n",
    "    return max(set(outcomes), key=outcomes.count)\n",
    " \n",
    "# creates children splits for a node or creates a terminal node (no children)\n",
    "# NO RETURN\n",
    "def split(node, max_depth, min_size, depth):\n",
    "    left, right = node['groups'] # splits 2 groups into left & right\n",
    "    del(node['groups']) # get rid of current node that holds the groups (since we're splitting)\n",
    "\n",
    "    # check for a no split \n",
    "    if not left or not right:\n",
    "        node['left'] = node['right'] = common_value(left + right)\n",
    "        return\n",
    "    # check for max depth\n",
    "    if depth >= max_depth:\n",
    "        node['left'], node['right'] = common_value(left), common_value(right)\n",
    "        return\n",
    "    # process left child\n",
    "    if len(left) <= min_size:\n",
    "        node['left'] = common_value(left)\n",
    "    else:\n",
    "        node['left'] = best_split(left)\n",
    "        split(node['left'], max_depth, min_size, depth+1)\n",
    "    # process right child\n",
    "    if len(right) <= min_size:\n",
    "        node['right'] = common_value(right)\n",
    "    else:\n",
    "        node['right'] = best_split(right)\n",
    "        split(node['right'], max_depth, min_size, depth+1)\n",
    "        \n",
    "    return 0\n",
    " \n",
    "# build tree with recursive splitting\n",
    "# parameters: data to be trained with, max tree depth, and minimum tree size\n",
    "def build_tree(data, max_depth, min_size):\n",
    "    root = best_split(data)\n",
    "    split(root, max_depth, min_size, 1)\n",
    "    return root\n",
    " \n",
    "# prints the decision tree nicely\n",
    "# NO RETURN\n",
    "def print_tree(node, depth = 0):\n",
    "    # isinstance - returns True if the input is the type, otherwise False\n",
    "    # if the node is a dictionary\n",
    "    if isinstance(node, dict):\n",
    "        print('%s[X%d < %.3f]' % ((depth*' ', (node['index']+1), node['value'])))\n",
    "        print_tree(node['left'], depth+1)\n",
    "        print_tree(node['right'], depth+1)\n",
    "    else:\n",
    "        print('%s[%s]' % ((depth*' ', node)))\n",
    "        \n",
    "    return 0\n",
    "     \n",
    "# uses decision tree to predict a values 'class'\n",
    "def predict(node, row):\n",
    "    \n",
    "    # if less then, append to left\n",
    "    if row[node['index']] < node['value']:\n",
    "        \n",
    "        # if the node is a dictionary\n",
    "        if isinstance(node['left'], dict):\n",
    "            return predict(node['left'], row)\n",
    "        else:\n",
    "            return node['left']\n",
    "        \n",
    "    # if greather than or equal to, append right\n",
    "    else:\n",
    "        if isinstance(node['right'], dict):\n",
    "            return predict(node['right'], row)\n",
    "        else:\n",
    "            return node['right']"
   ]
  },
  {
   "cell_type": "markdown",
   "id": "810ef91b-f3ef-44d5-9214-f26d25c93480",
   "metadata": {
    "jp-MarkdownHeadingCollapsed": true,
    "tags": []
   },
   "source": [
    "### Function Testing"
   ]
  },
  {
   "cell_type": "code",
   "execution_count": 3,
   "id": "ca8eda47-c861-469f-a3ae-44874e77d235",
   "metadata": {},
   "outputs": [],
   "source": [
    "# random data for testing\n",
    "dataset = [[2.771244718,1.784783929,0],\n",
    "           [1.728571309,1.169761413,0],\n",
    "           [3.678319846,2.81281357,0],\n",
    "           [3.961043357,2.61995032,0],\n",
    "           [2.999208922,2.209014212,0],\n",
    "           [7.497545867,3.162953546,1],\n",
    "           [9.00220326,3.339047188,1],\n",
    "           [7.444542326,0.476683375,1],\n",
    "           [10.12493903,3.234550982,1],\n",
    "           [6.642287351,3.319983761,1]]"
   ]
  },
  {
   "cell_type": "markdown",
   "id": "15756794-5208-4e71-86ff-c94da5d720fe",
   "metadata": {
    "jp-MarkdownHeadingCollapsed": true,
    "tags": []
   },
   "source": [
    "##### Testing Gini Index"
   ]
  },
  {
   "cell_type": "code",
   "execution_count": 4,
   "id": "6852db2c-9dd5-491c-b6f2-0b38b6afe763",
   "metadata": {},
   "outputs": [
    {
     "name": "stdout",
     "output_type": "stream",
     "text": [
      "Gini Index 1 = 0.5\n",
      "Gini Index 2 = 0.0\n"
     ]
    }
   ],
   "source": [
    "classes = [0, 1]\n",
    "\n",
    "# 'worst' case\n",
    "group1 = [[1, 1], [1, 0]]\n",
    "group2 = [[1, 1], [1, 0]]\n",
    "gini1 = get_gini([group1, group2], classes) # send in 2 groups and classes\n",
    "print(f'Gini Index 1 = {gini1}')\n",
    "\n",
    "# 'best' case\n",
    "group3 = [[0, 0], [0, 0]]\n",
    "group4 = [[1, 1], [1, 1]]\n",
    "gini2 = get_gini([group3, group4], classes) # send in 2 groups and classes\n",
    "print(f'Gini Index 2 = {gini2}')"
   ]
  },
  {
   "cell_type": "markdown",
   "id": "eb3805d0-e284-4a81-9220-6ea4b9f53176",
   "metadata": {
    "jp-MarkdownHeadingCollapsed": true,
    "tags": []
   },
   "source": [
    "##### Testing Best Split"
   ]
  },
  {
   "cell_type": "code",
   "execution_count": 5,
   "id": "f4e15e10-070a-4d78-adc7-351032407fb0",
   "metadata": {},
   "outputs": [
    {
     "name": "stdout",
     "output_type": "stream",
     "text": [
      "[[2.771244718, 1.784783929, 0], [1.728571309, 1.169761413, 0], [3.678319846, 2.81281357, 0], [3.961043357, 2.61995032, 0], [2.999208922, 2.209014212, 0], [7.497545867, 3.162953546, 1], [9.00220326, 3.339047188, 1], [7.444542326, 0.476683375, 1], [10.12493903, 3.234550982, 1], [6.642287351, 3.319983761, 1]]\n",
      "Split: 6.642287351\n"
     ]
    },
    {
     "data": {
      "text/plain": [
       "<matplotlib.collections.PathCollection at 0x7faf2c8a5d90>"
      ]
     },
     "execution_count": 5,
     "metadata": {},
     "output_type": "execute_result"
    },
    {
     "data": {
      "image/png": "[encoded data removed]",
      "text/plain": [
       "<Figure size 432x288 with 1 Axes>"
      ]
     },
     "metadata": {
      "needs_background": "light"
     },
     "output_type": "display_data"
    }
   ],
   "source": [
    "split_dict = best_split(dataset)\n",
    "print(dataset)\n",
    "print('Split:', split_dict['value'])\n",
    "\n",
    "# plot to see where split should be\n",
    "x = [2.771244718, 1.728571309, 3.678319846, 3.961043357, 2.999208922]\n",
    "x2 = [7.497545867, 9.00220326, 7.444542326, 10.12493903, 6.642287351]\n",
    "y = [1.784783929, 1.169761413, 2.81281357, 2.61995032, 2.209014212]\n",
    "y2 = [3.162953546, 3.339047188, 0.476683375, 3.234550982, 3.319983761]\n",
    "plt.scatter(x, y)\n",
    "plt.scatter(x2, y2, color='r')"
   ]
  },
  {
   "cell_type": "markdown",
   "id": "2c429d41-8c8b-4d45-9579-72c87a382463",
   "metadata": {
    "jp-MarkdownHeadingCollapsed": true,
    "tags": []
   },
   "source": [
    "##### Testing Tree Build"
   ]
  },
  {
   "cell_type": "code",
   "execution_count": 14,
   "id": "ad6fc8f5-8a08-4c1b-af66-751f69053ee4",
   "metadata": {},
   "outputs": [
    {
     "name": "stdout",
     "output_type": "stream",
     "text": [
      "[X1 < 6.642]\n",
      " [X1 < 2.771]\n",
      "  [0]\n",
      "  [X1 < 2.771]\n",
      "   [0]\n",
      "   [0]\n",
      " [X1 < 7.498]\n",
      "  [X1 < 7.445]\n",
      "   [1]\n",
      "   [1]\n",
      "  [X1 < 7.498]\n",
      "   [1]\n",
      "   [1]\n"
     ]
    },
    {
     "data": {
      "text/plain": [
       "0"
      ]
     },
     "execution_count": 14,
     "metadata": {},
     "output_type": "execute_result"
    }
   ],
   "source": [
    "max_depth = 10\n",
    "min_size = 1\n",
    "tree = build_tree(dataset, max_depth, min_size)\n",
    "#print(tree)\n",
    "print_tree(tree)"
   ]
  },
  {
   "cell_type": "markdown",
   "id": "b3809106-4a9b-4328-9f62-0368a46a634f",
   "metadata": {
    "tags": []
   },
   "source": [
    "##### Testing Predict"
   ]
  },
  {
   "cell_type": "code",
   "execution_count": 15,
   "id": "81e805d6-822e-4362-904a-b02b152f1082",
   "metadata": {},
   "outputs": [
    {
     "name": "stdout",
     "output_type": "stream",
     "text": [
      "Expected=0, Got=0\n",
      "Expected=0, Got=0\n",
      "Expected=0, Got=0\n",
      "Expected=0, Got=0\n",
      "Expected=0, Got=0\n",
      "Expected=1, Got=1\n",
      "Expected=1, Got=1\n",
      "Expected=1, Got=1\n",
      "Expected=1, Got=1\n",
      "Expected=1, Got=1\n"
     ]
    }
   ],
   "source": [
    "# predict with a stump node\n",
    "# value is top node in tree\n",
    "stump = {'index': 0, 'right': 1, 'value': 6.642, 'left': 0}\n",
    "for row in dataset:\n",
    "    prediction = predict(stump, row)\n",
    "    print('Expected=%d, Got=%d' % (row[-1], prediction))"
   ]
  },
  {
   "cell_type": "markdown",
   "id": "7df3e5a8-2f83-4a71-882f-40c67fd1cb34",
   "metadata": {
    "jp-MarkdownHeadingCollapsed": true,
    "tags": []
   },
   "source": [
    "### Iris Testing"
   ]
  },
  {
   "cell_type": "code",
   "execution_count": 2,
   "id": "52b7ac2d-f58a-442d-82c5-ecf9a546144f",
   "metadata": {},
   "outputs": [],
   "source": [
    "# testing on iris set\n",
    "import pandas as pd\n",
    "iris = pd.read_csv('data/iris.data', header=None, \n",
    "                   names=['sepal_length', 'sepal_width', 'petal_length', 'petal_width', 'class'])\n",
    "\n",
    "# give classes numerical values instead\n",
    "classes = iris['class'].values\n",
    "classes[classes == 'Iris-setosa'] = 0 # replace Iris-setosa entries with 0\n",
    "classes[classes == 'Iris-versicolor'] = 1 # Iris-versicolor = 1\n",
    "classes[classes == 'Iris-virginica'] = 2 # Iris-virginica = 2\n",
    "#print(classes)\n",
    "\n",
    "data_iris = [ [iris['sepal_length'][i], iris['sepal_width'][i], iris['petal_length'][i], iris['petal_width'][i], \n",
    "       iris['class'][i]] for i in range(len(iris['sepal_length']))]\n",
    "#print(data_iris)"
   ]
  },
  {
   "cell_type": "code",
   "execution_count": 29,
   "id": "282a1957-d11e-4ed2-8991-e3249de937b3",
   "metadata": {},
   "outputs": [
    {
     "name": "stdout",
     "output_type": "stream",
     "text": [
      "Split: 3.0\n"
     ]
    }
   ],
   "source": [
    "max_depth = 10\n",
    "min_size = 1\n",
    "tree = build_tree(data_iris, max_depth, min_size)\n",
    "#print(tree)\n",
    "#print_tree(tree)\n",
    "\n",
    "split_dict = best_split(data_iris)\n",
    "print('Split:', split_dict['value'])"
   ]
  },
  {
   "cell_type": "code",
   "execution_count": 3,
   "id": "124c7b11-a299-4b2f-9f5d-a62a8e4806e5",
   "metadata": {},
   "outputs": [
    {
     "ename": "NameError",
     "evalue": "name 'predict' is not defined",
     "output_type": "error",
     "traceback": [
      "\u001b[0;31m---------------------------------------------------------------------------\u001b[0m",
      "\u001b[0;31mNameError\u001b[0m                                 Traceback (most recent call last)",
      "\u001b[0;32m/tmp/ipykernel_38901/3224016021.py\u001b[0m in \u001b[0;36m<module>\u001b[0;34m\u001b[0m\n\u001b[1;32m     11\u001b[0m \u001b[0;32mfor\u001b[0m \u001b[0md\u001b[0m \u001b[0;32min\u001b[0m \u001b[0mdata_iris\u001b[0m\u001b[0;34m:\u001b[0m\u001b[0;34m\u001b[0m\u001b[0;34m\u001b[0m\u001b[0m\n\u001b[1;32m     12\u001b[0m     \u001b[0;31m#print(d[:-1]) # dont include class at end\u001b[0m\u001b[0;34m\u001b[0m\u001b[0;34m\u001b[0m\u001b[0;34m\u001b[0m\u001b[0m\n\u001b[0;32m---> 13\u001b[0;31m     \u001b[0mprediction\u001b[0m \u001b[0;34m=\u001b[0m \u001b[0;34m(\u001b[0m\u001b[0mpredict\u001b[0m\u001b[0;34m(\u001b[0m\u001b[0mtree\u001b[0m\u001b[0;34m,\u001b[0m \u001b[0md\u001b[0m\u001b[0;34m[\u001b[0m\u001b[0;34m:\u001b[0m\u001b[0;34m-\u001b[0m\u001b[0;36m1\u001b[0m\u001b[0;34m]\u001b[0m\u001b[0;34m)\u001b[0m\u001b[0;34m)\u001b[0m\u001b[0;34m\u001b[0m\u001b[0;34m\u001b[0m\u001b[0m\n\u001b[0m\u001b[1;32m     14\u001b[0m     \u001b[0mpredictions\u001b[0m\u001b[0;34m.\u001b[0m\u001b[0mappend\u001b[0m\u001b[0;34m(\u001b[0m\u001b[0mprediction\u001b[0m\u001b[0;34m)\u001b[0m\u001b[0;34m\u001b[0m\u001b[0;34m\u001b[0m\u001b[0m\n\u001b[1;32m     15\u001b[0m     \u001b[0mexpectations\u001b[0m\u001b[0;34m.\u001b[0m\u001b[0mappend\u001b[0m\u001b[0;34m(\u001b[0m\u001b[0md\u001b[0m\u001b[0;34m[\u001b[0m\u001b[0;34m-\u001b[0m\u001b[0;36m1\u001b[0m\u001b[0;34m]\u001b[0m\u001b[0;34m)\u001b[0m\u001b[0;34m\u001b[0m\u001b[0;34m\u001b[0m\u001b[0m\n",
      "\u001b[0;31mNameError\u001b[0m: name 'predict' is not defined"
     ]
    }
   ],
   "source": [
    "# terminal node / \"stump\" - uses first split value as its value\n",
    "# stump = {'index': 0, 'right': 1, 'value': split_dict['value'], 'left': 0}\n",
    "\n",
    "# print(predict(tree, [5.1, 3.5, 1.4, 0.2])) # should be 0\n",
    "# print(predict(tree, [4.9, 3.0, 1.4, 0.2])) # should be 0\n",
    "# print(predict(tree, [6.7, 3.0, 5.2, 2.3])) # should be 2\n",
    "\n",
    "# track expected & predicted for further analysis\n",
    "expectations = []\n",
    "predictions = []\n",
    "for d in data_iris:\n",
    "    #print(d[:-1]) # dont include class at end\n",
    "    prediction = (predict(tree, d[:-1]))\n",
    "    predictions.append(prediction)\n",
    "    expectations.append(d[-1])\n",
    "    #print(f'Expected: {d[-1]}, Predicted={prediction}')\n",
    "\n",
    "print(predictions)"
   ]
  },
  {
   "cell_type": "code",
   "execution_count": null,
   "id": "8bd9baef-e0d6-4d33-b9b7-18ac7e0a45b9",
   "metadata": {},
   "outputs": [],
   "source": []
  }
 ],
 "metadata": {
  "kernelspec": {
   "display_name": "Python 3 (ipykernel)",
   "language": "python",
   "name": "python3"
  },
  "language_info": {
   "codemirror_mode": {
    "name": "ipython",
    "version": 3
   },
   "file_extension": ".py",
   "mimetype": "text/x-python",
   "name": "python",
   "nbconvert_exporter": "python",
   "pygments_lexer": "ipython3",
   "version": "3.8.12"
  }
 },
 "nbformat": 4,
 "nbformat_minor": 5
}
