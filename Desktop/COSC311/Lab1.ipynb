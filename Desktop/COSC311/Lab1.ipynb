{
 "cells": [
  {
   "cell_type": "markdown",
   "id": "fae9dc80",
   "metadata": {},
   "source": [
    "# Lab 1\n",
    "\n",
    "Kalyn Howes\n",
    "\n",
    "9.13.21\n",
    "\n",
    "Familiarity with Python & Jupyter Notebook"
   ]
  },
  {
   "cell_type": "code",
   "execution_count": 1,
   "id": "56edebe7",
   "metadata": {},
   "outputs": [],
   "source": [
    "artists = [\n",
    "{ \"id\": 0, \"name\": \"Susan Tedeschi\" },\n",
    "{ \"id\": 1, \"name\": \"Bob Dylan\" },\n",
    "{ \"id\": 2, \"name\": \"Harry Styles\" },\n",
    "{ \"id\": 3, \"name\": \"Hippo Campus\" },\n",
    "{ \"id\": 4, \"name\": \"Tame Impala\" },\n",
    "{ \"id\": 5, \"name\": \"Greta Van Fleet\" },\n",
    "{ \"id\": 6, \"name\": \"Tom Petty\" },\n",
    "{ \"id\": 7, \"name\": \"Drake\" },\n",
    "{ \"id\": 8, \"name\": \"Kanye West\" },\n",
    "{ \"id\": 9, \"name\": \"John Mayer\" },\n",
    "]"
   ]
  },
  {
   "cell_type": "code",
   "execution_count": 2,
   "id": "4ea66cfe",
   "metadata": {},
   "outputs": [],
   "source": [
    "songs = [\n",
    "{\"id\": 0, \"name\": \"Watermelon Sugar\" },\n",
    "{\"id\": 1, \"name\": \"Don't Think Twice, It's Alright\" },\n",
    "{\"id\": 2, \"name\": \"It Hurt So Bad\" },\n",
    "{\"id\": 3, \"name\": \"Simple Twist of Fate\" },\n",
    "{\"id\": 4, \"name\": \"Free Falling\" },\n",
    "{\"id\": 5, \"name\": \"Buttercup\" },\n",
    "{\"id\": 6, \"name\": \"Borderline\" },\n",
    "{\"id\": 7, \"name\": \"Highway Tune\" },\n",
    "{\"id\": 8, \"name\": \"One Dance\" },\n",
    "{\"id\": 9, \"name\": \"Stronger\" },\n",
    "{\"id\": 10, \"name\": \"New Light\" },\n",
    "]"
   ]
  },
  {
   "cell_type": "code",
   "execution_count": 3,
   "id": "5b30b72b",
   "metadata": {},
   "outputs": [],
   "source": [
    "artists_songs = [\n",
    "(0, 2), (1, 1), (1, 3),\n",
    "(2, 0), (3, 5), (4, 6),\n",
    "(5, 7), (6, 4), (7, 8),\n",
    "(8, 9), (9, 4), (9, 10)\n",
    "]"
   ]
  },
  {
   "cell_type": "code",
   "execution_count": 4,
   "id": "a6eeb516",
   "metadata": {},
   "outputs": [],
   "source": [
    "# takes the name of a song as an argument and returns a list of names of artists who have covered that song\n",
    "def who_covered(songname):\n",
    "    artist_list = [] # list of artists\n",
    "    songname_id = 0 # temp hold\n",
    "\n",
    "    # find songname's id number\n",
    "    for i in songs:\n",
    "#         print()\n",
    "#         print(i[\"name\"])\n",
    "#         print(songname)\n",
    "        if i[\"name\"] == songname: # this conditional only works with ==, not is\n",
    "            songname_id += i[\"id\"]\n",
    "\n",
    "#     print(songname_id)\n",
    "            \n",
    "    for t in artists_songs:\n",
    "        # a = t[0] - current tuple's artist id\n",
    "        # s = t[1] - current tuple's song id\n",
    "        \n",
    "        # if songname id is equal to current tuple's id\n",
    "        if songname_id == t[1]:\n",
    "            print(t[0]) # artist id \n",
    "            print(artists[t[0]][\"name\"]) # artist name\n",
    "            artist_list += (artists[t[0]][\"name\"]) # add name to new list - WHY IS IT DOING IT ONE CHAR AT A TIME\n",
    "            \n",
    "    return artist_list\n",
    "    "
   ]
  },
  {
   "cell_type": "code",
   "execution_count": 5,
   "id": "cfdc9828",
   "metadata": {},
   "outputs": [
    {
     "name": "stdout",
     "output_type": "stream",
     "text": [
      "6\n",
      "Tom Petty\n",
      "9\n",
      "John Mayer\n",
      "['T', 'o', 'm', ' ', 'P', 'e', 't', 't', 'y', 'J', 'o', 'h', 'n', ' ', 'M', 'a', 'y', 'e', 'r']\n"
     ]
    }
   ],
   "source": [
    "print(who_covered(\"Free Falling\"))"
   ]
  },
  {
   "cell_type": "code",
   "execution_count": 6,
   "id": "54e47b22",
   "metadata": {},
   "outputs": [],
   "source": [
    "#  takes an artist name and returns a list of songs they share with other artists\n",
    "def shared_songs(artistname):\n",
    "    song_list = [] # list of artists\n",
    "    artistname_id = 0 # temp hold\n",
    "\n",
    "    # find artistname's id number\n",
    "    for i in artists:\n",
    "#         print()\n",
    "#         print(i[\"name\"])\n",
    "#         print(artistname)\n",
    "        if i[\"name\"] == artistname: # this conditional only works with ==, not is\n",
    "            artistname_id += i[\"id\"]\n",
    "\n",
    "#     print(artistname_id)\n",
    "            \n",
    "    for t in artists_songs:\n",
    "        # a = t[0] - current tuple's artist id\n",
    "        # s = t[1] - current tuple's song id\n",
    "        \n",
    "        # if artistname id is equal to current tuple's artist id\n",
    "        if artistname_id == t[0]:\n",
    "            print(t[1]) # song id \n",
    "            print(songs[t[1]][\"name\"]) # song name\n",
    "            song_list += (songs[t[1]][\"name\"]) # add name to new list - WHY IS IT DOING IT ONE CHAR AT A TIME\n",
    "            \n",
    "    return song_list"
   ]
  },
  {
   "cell_type": "code",
   "execution_count": 7,
   "id": "c71fc1c9",
   "metadata": {},
   "outputs": [
    {
     "name": "stdout",
     "output_type": "stream",
     "text": [
      "4\n",
      "Free Falling\n",
      "10\n",
      "New Light\n",
      "['F', 'r', 'e', 'e', ' ', 'F', 'a', 'l', 'l', 'i', 'n', 'g', 'N', 'e', 'w', ' ', 'L', 'i', 'g', 'h', 't']\n"
     ]
    }
   ],
   "source": [
    "print(shared_songs(\"John Mayer\"))"
   ]
  },
  {
   "cell_type": "code",
   "execution_count": 8,
   "id": "dd71ffd8",
   "metadata": {},
   "outputs": [],
   "source": [
    "# prints out – in order from most to least covers – the name and number of times each song has been covered\n",
    "def song_popularity():\n",
    "    \n",
    "    # track number of times the song_id shows in artists_songs\n",
    "    # search for number of times a song_id is in artist_songs, store them, & sort\n",
    "    print('hello')"
   ]
  },
  {
   "cell_type": "code",
   "execution_count": 9,
   "id": "fb120a0a",
   "metadata": {},
   "outputs": [
    {
     "name": "stdout",
     "output_type": "stream",
     "text": [
      "hello\n"
     ]
    }
   ],
   "source": [
    "song_popularity()"
   ]
  },
  {
   "cell_type": "code",
   "execution_count": 10,
   "id": "7651e4a8",
   "metadata": {},
   "outputs": [],
   "source": [
    "keywords = [\n",
    "(0, \"blues\"), (0, \"female lead\"), (0, \"guitar\"),\n",
    "(1, \"folk\"), (1, \"guitar\"), (1, \"male lead\"),\n",
    "(2, \"pop\"), (2, \"male lead\"), (2, \"rock\"),\n",
    "(3, \"pop\"), (3, \"indie\"), (3, \"alternative\"),\n",
    "(4, \"indie\"), (4, \"alternative\"), (4, \"pop\"),\n",
    "(5, \"rock\"), (5, \"hard rock\"), (5, \"classic rock\"),\n",
    "(6, \"rock\"), (6, \"country\"), (6, \"songwriter\"),\n",
    "(7, \"rap\"), (7, \"r&b\"), (7, \"hip-hop\"),\n",
    "(8, \"rap\"), (8, \"hip-hop\"), (8, \"r&b\"),\n",
    "(9, \"pop\"), (9, \"rock\"), (9, \"guitar\"),\n",
    "]"
   ]
  },
  {
   "cell_type": "code",
   "execution_count": 11,
   "id": "0a5381aa",
   "metadata": {},
   "outputs": [],
   "source": [
    "# takes an artists name and returns the top three other artists that have the most keywords in common\n",
    "def similar_artists(artistname):\n",
    "    print('hello')"
   ]
  },
  {
   "cell_type": "code",
   "execution_count": 12,
   "id": "944b3e89",
   "metadata": {},
   "outputs": [
    {
     "name": "stdout",
     "output_type": "stream",
     "text": [
      "hello\n",
      "None\n"
     ]
    }
   ],
   "source": [
    "print(similar_artists(\"John Mayer\"))"
   ]
  },
  {
   "cell_type": "code",
   "execution_count": null,
   "id": "b1c54f35",
   "metadata": {},
   "outputs": [],
   "source": []
  }
 ],
 "metadata": {
  "kernelspec": {
   "display_name": "Python 3",
   "language": "python",
   "name": "python3"
  },
  "language_info": {
   "codemirror_mode": {
    "name": "ipython",
    "version": 3
   },
   "file_extension": ".py",
   "mimetype": "text/x-python",
   "name": "python",
   "nbconvert_exporter": "python",
   "pygments_lexer": "ipython3",
   "version": "3.8.8"
  }
 },
 "nbformat": 4,
 "nbformat_minor": 5
}
