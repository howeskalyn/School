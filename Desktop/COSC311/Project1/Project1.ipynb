{
 "cells": [
  {
   "cell_type": "markdown",
   "id": "6fe57765",
   "metadata": {},
   "source": [
    "# Project 1\n",
    "Kalyn Howes & Chloe VanCory\n",
    "\n",
    "COSC 311\n",
    "\n",
    "10.24.21\n"
   ]
  },
  {
   "cell_type": "markdown",
   "id": "155eae49",
   "metadata": {},
   "source": [
    "# Data Set 1\n",
    "\n",
    "# Concussions in the NFL (2012-2014): \n",
    "\n",
    "Kaggle, https://www.kaggle.com/rishidamarla/concussions-in-the-nfl-20122014"
   ]
  },
  {
   "cell_type": "markdown",
   "id": "d44e611d",
   "metadata": {},
   "source": [
    "(a) This population consists of NFL players who got concussions during NFL games between 2012 and 2014. This is a finite population since the number of NFL players are countable. Each row of data corresponds to a specific player and date of their concussion. There are 392 unique rows, however some players had more than one concussion between 2012 and 2014, leaving the player-specific row to have 343 values.\n",
    "\n",
    "(b) Each sample (NFL player) has the team they play for, the game date where the concussion occurred, the opposing team, the player's position, if they had a pre-season injury, if they were on the winning team, the week of the season the concussion occurred, the season, the number of weeks the player was injured, the number of games missed, if the injury was unknown, the reported injury type (head, concussion, etc), the total snaps in the game, the play time after injury and the playtime before injury.\n",
    "\n",
    "(c) Most of the features are qualitative and nominal besides the date,the week the concussion occurred, the number of weeks the player was injured, the number of games missed, total snaps, and time before/after injury. These features are quantitative since they include true numbers, and are oridnal since they can be ordered. Every feature is discrete except for the time before and after injury and maybe the dates of the games... depending on how you think about it. If the dates were to be specified into the time of the concussions, it would be a continous variable since time is continuous. The week of the NFL season when the concussion occurred could also be continous with the same logic, but seems to be more discrete because the NFL season is only a certain amount of weeks long.\n",
    "\n",
    "(d) The data is complete, meaning none of the samples have null or absent values for any features. I'm sure injuries in the NFL are very closely logged. Also, every feature in the set is not difficult to determine.\n",
    "    \n",
    "(e) The date and week of the game where the concussion occurred can give a nice chronological display to the data. It is also interesting to include the team information in an attempt to find the most \"hurtful\" team to play against per say. The position of the play who was concussed is also extremely important in determining which position can be most dangerous. Knowing whether or not the player had a pre-season injury could greatly effect their chances of suffering from a concussion, depending on the type of earlier injury.\n",
    "\n",
    "(f) I feel the pre-season injury section should be more specific to include what type of previous injury the player had. Even more so, it may be helpful to include any previous head injuries that could relate to a concussion later on, for each player. Some other helpful features could include the concussed players age, height, weight, a description of how the concussion occurred (head to ground, head to head, etc.), the other players involved (if there were any), and maybe even the type of play it occurred on (long throw, lateral toss, fumble, field goal attempt, punt, etc.). \n",
    "    \n",
    "(g) You could pivot this data to show the concussions based on position and opposing team rather than by person. This would allow for a ranking of the most \"dangerous\" teams to play against and/or the most \"dangerous\" positions. You could create a bar chart that counts the number of concussions a team/position has given, you could construct a pie chart to see which percentage of the concussions were caused by a specific team/position, etc.\n",
    "    \n",
    "(h) The position of a player is likely to affect the number of concussions that player has had. It is also possible that if a player had a pre-season injury they are more likely to get concussed during the season. Also, perhaps more concussions occur near the end of the regular season due to an increase in competition and therefore violence. As for relationships between two features, I'm sure there is a relationship between the number of games missed and the number of weeks the player was injured."
   ]
  },
  {
   "cell_type": "code",
   "execution_count": 6,
   "id": "d9c065c2",
   "metadata": {
    "scrolled": true
   },
   "outputs": [
    {
     "data": {
      "text/plain": [
       "([0, 1, 2, 3, 4, 5, 6, 7, 8, 9, 10, 11, 12, 13, 14],\n",
       " [Text(0, 0, ''),\n",
       "  Text(0, 0, ''),\n",
       "  Text(0, 0, ''),\n",
       "  Text(0, 0, ''),\n",
       "  Text(0, 0, ''),\n",
       "  Text(0, 0, ''),\n",
       "  Text(0, 0, ''),\n",
       "  Text(0, 0, ''),\n",
       "  Text(0, 0, ''),\n",
       "  Text(0, 0, ''),\n",
       "  Text(0, 0, ''),\n",
       "  Text(0, 0, ''),\n",
       "  Text(0, 0, ''),\n",
       "  Text(0, 0, ''),\n",
       "  Text(0, 0, '')])"
      ]
     },
     "execution_count": 6,
     "metadata": {},
     "output_type": "execute_result"
    },
    {
     "data": {
      "image/png": "[encoded data removed]",
      "text/plain": [
       "<Figure size 432x288 with 1 Axes>"
      ]
     },
     "metadata": {
      "needs_background": "light"
     },
     "output_type": "display_data"
    }
   ],
   "source": [
    "# i. Show at least one plot or visualization to illustrate this (possible) relationship.\n",
    "import pandas as pd\n",
    "from matplotlib import pyplot as plt\n",
    "concussions = pd.read_csv('Data/Concussions.csv', header=None,\n",
    "    names = ['ID', 'Player', 'Team', 'Game', 'Date', 'Opposing Team', 'Position',\n",
    "            'Pre-Season Injury?', 'Winning Team?', 'Week of Injury', 'Season', 'Weeks Injured',\n",
    "            'Games Missed', 'Unknown Injury?', 'Reported Injury Type', 'Total Snaps', 'Play Time After Injury',\n",
    "            'Average Playtime Before Injury']\n",
    ")\n",
    "\n",
    "# print(concussions)\n",
    "positions = concussions['Position']\n",
    "concussions['Position'].hist(bins=20)\n",
    "plt.xlabel('Position in Game')\n",
    "plt.ylabel('Number of Concussions')\n",
    "plt.title('Football Position & Concussion Likelyhood')\n",
    "plt.xticks(rotation=90)"
   ]
  },
  {
   "cell_type": "markdown",
   "id": "caf30007",
   "metadata": {},
   "source": [
    "ii. You might want to consider finding the correlation coefficent between two features, for example games missed and number of weeks injured, to see how strong of a relationship they have. The closer the correlation coefficient is to 1, the stronger the positive relationship between the two features.\n",
    "            \n",
    "iii. There are definitely a lot of inferences being made here, one being that the positions are being played in their 'typical' manner. We are also assuming the players are in their designated positions at the time of injury. It is very possible that there is a relationship between concussion number and data not included in the set. For example, a player could be having an off day, or the opposing team's player could be very angry. There are a lot of outside forces that could affect the concussion numbers.\n",
    "            \n",
    "(i) From this data we could compute the most \"dangerous\" week of the regular NFL season by determining the number of concussions per week and ranking them. With this, you could determine the team or even player that gives the most concussions to other players. This information could be used to predcit which teams will need the most medical care and in which week of the season!"
   ]
  },
  {
   "cell_type": "markdown",
   "id": "1c5a117a",
   "metadata": {},
   "source": [
    "# Data Set 2\n",
    "\n",
    "# Spotify Top 200 Charts (2020-2021)\n",
    "\n",
    "Kaggle, https://www.kaggle.com/sashankpillai/spotify-top-200-charts-20202021"
   ]
  },
  {
   "cell_type": "markdown",
   "id": "ae912345",
   "metadata": {},
   "source": [
    "(a) This population consists of all the songs that have been on the Top 200 Weekly (Global) charts of Spotify in 2020 & 2021. This is a finite population since it is restricted to songs only on the Top 200 chart. Each row represents a song that was in the Top 200 in 2020 and 2021. \n",
    "\n",
    "\n",
    "(b) This population has many features including: the highest position of the song, the number of times that the song has charted, the week when the song had the highest position, the name of the song, the song ID (provided by Spotify), the approximate number of streams the song has, the artist, the number of followers the artist has on Spotify, the genre, the release date, the weeks charted, popularity (between 0-100), danceability (how suitable a track is for dancing based on a combination of musical elements including tempo, rhythm stability, beat strength, and overall regularity - a value of 0.0 is least danceable and 1.0 is most danceable), acousticness, energy, instrumentalness, liveness (audience during recording), loudness, speechiness (presence of spoken words), tempo, duration, valence (musical positiveness), and finally the main chord of the song.\n",
    "\n",
    "\n",
    "(c) Are the features quantitative or qualitative? Ordinal or nominal? Continuous or discrete?\n",
    "Most of these features were originally qualitiative but were put on a scale to make quantitative. Since they added the scaling system to most of these, the only features that are still qualitative are the song/artist name and the main chord of the song. All of the features with scales, like popularity, danceability, acousticness, etc, are ordinal since they can be ordered on their scales. The release date is also ordinal since it relates to time, as well as the positions on the chart, the week of charting, etc. The song name, artist name, and main chord are nominal. The only features that are continous have to do with time, such as the date the song was released. \n",
    "\n",
    "\n",
    "(d) The data is complete and there are no features missing for any songs from what I can see. Even if something is missing the samples are still useful since most of the data is there. Plus the most important features are easily attainable and present.\n",
    "\n",
    "\n",
    "(e) Besides the necessities such as song name and artist, the release date, chart date, etc. can be used to give the data a chronological order. It is very interesting that musical features about the songs themselves are included so we can look at which genres tend to chart the most. The danceability, acousticness, energy, instrumentalness, loudness, etc most likely are all a factor of a songs success on the charts as well. Looking at the number of followers an artist has could also be a factor into if their songs are on the charts. \n",
    "\n",
    " \n",
    "(f) What are some other features that are not included but that you think might make sense to\n",
    "include for this dataset?\n",
    "It might be interesting to include how many followers the aritsts had on spotify prior to getting a song on the charts versus after it had been on the charts. Another cool feature could be how many songs an artist has had on the top 200 chart so that we could rank the \"top\" artist in 2020/2021. It could also be important to see which countries contribute the most Spotify listeners to determine where these charted songs are most popular.\n",
    "\n",
    "\n",
    "(g) Since most of the features include numerical data, it may be smart to speparate one of them into categories/bins first. With this method, we could use the song name as the index, and bin the tempo for the columns. Then we could look at the number of times a song has charted in the values. With this, we could create a good bar graph of only songs that have charted over x amount of times. The x-axis would include these songs while the y-axis could indicate the tempo level.\n",
    "\n",
    "\n",
    "(h) There is a possible relationship between the tempo of a song and its number on the charts. There is most definitely a correlation between the number of streams a song has and its position on the charts. With this, there is a proabable relationship between the artists follow count and their spot on the charts as well, however this could also be effected by how many songs they've had on the charts before. There may even be a relationship between the duration of a song and how high it charts. The list goes on and on. "
   ]
  },
  {
   "cell_type": "code",
   "execution_count": 7,
   "id": "7fb60314",
   "metadata": {},
   "outputs": [
    {
     "data": {
      "text/plain": [
       "Text(0.5, 1.0, 'Number of Times Charted & Streams')"
      ]
     },
     "execution_count": 7,
     "metadata": {},
     "output_type": "execute_result"
    },
    {
     "data": {
      "image/png": "[encoded data removed]",
      "text/plain": [
       "<Figure size 432x288 with 1 Axes>"
      ]
     },
     "metadata": {
      "needs_background": "light"
     },
     "output_type": "display_data"
    }
   ],
   "source": [
    "# i. Show at least one plot or visualization to illustrate this (possible) relationship.\n",
    "# number of streams vs highest position on top charts\n",
    "import pandas as pd\n",
    "from matplotlib import pyplot as plt\n",
    "songs = pd.read_csv('Data/Spotify.csv', header=0)\n",
    "\n",
    "# de-string the streams\n",
    "songs['Streams Num'] = [int(s.replace(',','')) for s in songs['Streams']]\n",
    "\n",
    "streams = songs['Streams Num']\n",
    "num_charted = songs['Number of Times Charted']\n",
    "#print(streams)\n",
    "#print(num_charted)\n",
    "#songs.head()\n",
    "\n",
    "plot1 = songs[['Number of Times Charted', 'Streams Num']] #[adults['race'] == \"Black\"]\n",
    "plot1.plot.scatter(x = 'Number of Times Charted', y = 'Streams Num')\n",
    "plt.xlabel(\"Number of Times Charted\")\n",
    "plt.ylabel(\"Streams Num\")\n",
    "plt.title(\"Number of Times Charted & Streams\")"
   ]
  },
  {
   "cell_type": "markdown",
   "id": "7e180f91",
   "metadata": {},
   "source": [
    "ii. What numerical or statistical techniques might you consider using to determine whether the\n",
    "relationship is reliable? \n",
    "You might want to consider finding the correlation coeeficient between two features, such as the streams and the number of times it was charted, like the scatter plot shows above. Finding the correlation coefficient of any two of these features would greatly describe their relationship. The closer the correlation coefficient is to 1, the stronger the positive relationship between the two features.\n",
    "\n",
    "\n",
    "iii. A possible inference or factor to take into account is the occurrence of \"one hit wonders\". I'm sure a decent amount of the artists who have charted songs have only had one or two. This could be looked at by examining the followers the artist has on Spotify, but we would need outside data on the number of times an artist has charted to truly see the relationship.\n",
    "\n",
    "\n",
    "(i) From the data given, we could determine who the most popular artist was, globally, in 2020 and 2021. We could also determine which genre was most popular around the globe in 2020 and 2021. Maybe these directly relate to COVID and the music people needed to listen to during this time."
   ]
  },
  {
   "cell_type": "markdown",
   "id": "13baea60",
   "metadata": {},
   "source": [
    "# Data Set 3\n",
    "\n",
    "# Data Science and STEM Salaries\n",
    "\n",
    "Kaggle, https://www.kaggle.com/jackogozaly/data-science-and-stem-salaries"
   ]
  },
  {
   "cell_type": "markdown",
   "id": "67d4afaa",
   "metadata": {},
   "source": [
    "(a) The population being sampled are those who are employed in a STEM field and their corresponding salaries. There are 62,641 entries where the \"things\" getting measured are when an employee gets hired in a stem role at an employer. The time frame being captured is from June 2017 through August 2021.\n",
    "\n",
    "(b) Each sample (employee in the stem field) getting measured are attributes about the new hire such as race, education level and then about the company they are employed at including company name, job title, yearly compensation, stock bonuses, additional bonuses, and city. \n",
    "\n",
    "(c) The quantitative features of the dataset include the time stamp, base salary, stock values, bonuses, total year compensation since they are numeric and describe a unit of measurement (ie. how much money an indivudal makes ). While the qualitative include the company name, level, job title, location, genders, and race are descriptive attributes of the dataset. The data attributes which are numeric are ordinal as their value can be described in a list / ordered format where the value is sequential. So the higher the value of base salary, the larger amount of money a person makes. The nominal features include the things that cannot be ordered in a logical way ie company name. \n",
    "The discrete values include race, gender years of expereince etc. as they can take a range of values but the ceiling on that range is defined. While the continous attribute are timestamp which can be plotted over an interval of time. \n",
    "\n",
    "(d) The data has absent or null values for attributes under race and gender, other details and education. These samples are still useful as they still have other usefull pieces of data which are not null. These samples could be incomplete since it is not required to report this information to employers. \n",
    "\n",
    "(e) These features are choosen to paint a larger picture of potential employee candidates to be hired by a certain tech company. The data also models how certain companies might try to attract certain candidates to work for them by offering additional incentives outside of the norms. So bigger bonuses for a certain type of employee might imply that a company needs to hire a certain job title or this candidate has the technical skills to serve the company. \n",
    "\n",
    "(f) Some additonal information about the candidate such as their major or Phd concentration would be helpful to try and gain an understanding of what \"kind\" of person a company is hiring. \n",
    "\n",
    "(g) One pivot could average the total compensation per a given year by company. A bar graph where the index = year, columns = company, and values = average total compensation. Thus illistrating the average salary of stem jobs for a given year. Also, seeing the overall trends for the past 3 years. \n",
    "\n",
    "(h) \n",
    "- Job title and salary would have relationships and could showcase what each company is looking to hire at a given time.\n",
    "- Time and total compensation could also have a relationship as the industries are competeting to recruit the best talent total compensation could have a steady increase over time for each company and as an industry overall. \n",
    "- Location and salaries could have relationship since certain areas (tech hubs like the bay area) coud be offering higher salaries then east coast companies. \n",
    "- Years of experience and base salary \n",
    "- Race and gender with salary since STEM fields haveless people of color and women in the industry, charting this data might have a relationship. \n"
   ]
  },
  {
   "cell_type": "code",
   "execution_count": 8,
   "id": "99a71902",
   "metadata": {},
   "outputs": [
    {
     "data": {
      "text/html": [
       "<div>\n",
       "<style scoped>\n",
       "    .dataframe tbody tr th:only-of-type {\n",
       "        vertical-align: middle;\n",
       "    }\n",
       "\n",
       "    .dataframe tbody tr th {\n",
       "        vertical-align: top;\n",
       "    }\n",
       "\n",
       "    .dataframe thead th {\n",
       "        text-align: right;\n",
       "    }\n",
       "</style>\n",
       "<table border=\"1\" class=\"dataframe\">\n",
       "  <thead>\n",
       "    <tr style=\"text-align: right;\">\n",
       "      <th></th>\n",
       "      <th>timestamp</th>\n",
       "      <th>company</th>\n",
       "      <th>level</th>\n",
       "      <th>title</th>\n",
       "      <th>totalyearlycompensation</th>\n",
       "      <th>location</th>\n",
       "      <th>yearsofexperience</th>\n",
       "      <th>yearsatcompany</th>\n",
       "      <th>tag</th>\n",
       "      <th>basesalary</th>\n",
       "      <th>...</th>\n",
       "      <th>Doctorate_Degree</th>\n",
       "      <th>Highschool</th>\n",
       "      <th>Some_College</th>\n",
       "      <th>Race_Asian</th>\n",
       "      <th>Race_White</th>\n",
       "      <th>Race_Two_Or_More</th>\n",
       "      <th>Race_Black</th>\n",
       "      <th>Race_Hispanic</th>\n",
       "      <th>Race</th>\n",
       "      <th>Education</th>\n",
       "    </tr>\n",
       "  </thead>\n",
       "  <tbody>\n",
       "    <tr>\n",
       "      <th>0</th>\n",
       "      <td>6/7/2017 11:33:27</td>\n",
       "      <td>Oracle</td>\n",
       "      <td>L3</td>\n",
       "      <td>Product Manager</td>\n",
       "      <td>127000</td>\n",
       "      <td>Redwood City, CA</td>\n",
       "      <td>1.5</td>\n",
       "      <td>1.5</td>\n",
       "      <td>NaN</td>\n",
       "      <td>107000.0</td>\n",
       "      <td>...</td>\n",
       "      <td>0</td>\n",
       "      <td>0</td>\n",
       "      <td>0</td>\n",
       "      <td>0</td>\n",
       "      <td>0</td>\n",
       "      <td>0</td>\n",
       "      <td>0</td>\n",
       "      <td>0</td>\n",
       "      <td>NaN</td>\n",
       "      <td>NaN</td>\n",
       "    </tr>\n",
       "    <tr>\n",
       "      <th>1</th>\n",
       "      <td>6/10/2017 17:11:29</td>\n",
       "      <td>eBay</td>\n",
       "      <td>SE 2</td>\n",
       "      <td>Software Engineer</td>\n",
       "      <td>100000</td>\n",
       "      <td>San Francisco, CA</td>\n",
       "      <td>5.0</td>\n",
       "      <td>3.0</td>\n",
       "      <td>NaN</td>\n",
       "      <td>0.0</td>\n",
       "      <td>...</td>\n",
       "      <td>0</td>\n",
       "      <td>0</td>\n",
       "      <td>0</td>\n",
       "      <td>0</td>\n",
       "      <td>0</td>\n",
       "      <td>0</td>\n",
       "      <td>0</td>\n",
       "      <td>0</td>\n",
       "      <td>NaN</td>\n",
       "      <td>NaN</td>\n",
       "    </tr>\n",
       "    <tr>\n",
       "      <th>2</th>\n",
       "      <td>6/11/2017 14:53:57</td>\n",
       "      <td>Amazon</td>\n",
       "      <td>L7</td>\n",
       "      <td>Product Manager</td>\n",
       "      <td>310000</td>\n",
       "      <td>Seattle, WA</td>\n",
       "      <td>8.0</td>\n",
       "      <td>0.0</td>\n",
       "      <td>NaN</td>\n",
       "      <td>155000.0</td>\n",
       "      <td>...</td>\n",
       "      <td>0</td>\n",
       "      <td>0</td>\n",
       "      <td>0</td>\n",
       "      <td>0</td>\n",
       "      <td>0</td>\n",
       "      <td>0</td>\n",
       "      <td>0</td>\n",
       "      <td>0</td>\n",
       "      <td>NaN</td>\n",
       "      <td>NaN</td>\n",
       "    </tr>\n",
       "    <tr>\n",
       "      <th>3</th>\n",
       "      <td>6/17/2017 0:23:14</td>\n",
       "      <td>Apple</td>\n",
       "      <td>M1</td>\n",
       "      <td>Software Engineering Manager</td>\n",
       "      <td>372000</td>\n",
       "      <td>Sunnyvale, CA</td>\n",
       "      <td>7.0</td>\n",
       "      <td>5.0</td>\n",
       "      <td>NaN</td>\n",
       "      <td>157000.0</td>\n",
       "      <td>...</td>\n",
       "      <td>0</td>\n",
       "      <td>0</td>\n",
       "      <td>0</td>\n",
       "      <td>0</td>\n",
       "      <td>0</td>\n",
       "      <td>0</td>\n",
       "      <td>0</td>\n",
       "      <td>0</td>\n",
       "      <td>NaN</td>\n",
       "      <td>NaN</td>\n",
       "    </tr>\n",
       "    <tr>\n",
       "      <th>4</th>\n",
       "      <td>6/20/2017 10:58:51</td>\n",
       "      <td>Microsoft</td>\n",
       "      <td>60</td>\n",
       "      <td>Software Engineer</td>\n",
       "      <td>157000</td>\n",
       "      <td>Mountain View, CA</td>\n",
       "      <td>5.0</td>\n",
       "      <td>3.0</td>\n",
       "      <td>NaN</td>\n",
       "      <td>0.0</td>\n",
       "      <td>...</td>\n",
       "      <td>0</td>\n",
       "      <td>0</td>\n",
       "      <td>0</td>\n",
       "      <td>0</td>\n",
       "      <td>0</td>\n",
       "      <td>0</td>\n",
       "      <td>0</td>\n",
       "      <td>0</td>\n",
       "      <td>NaN</td>\n",
       "      <td>NaN</td>\n",
       "    </tr>\n",
       "  </tbody>\n",
       "</table>\n",
       "<p>5 rows × 29 columns</p>\n",
       "</div>"
      ],
      "text/plain": [
       "            timestamp    company level                         title  \\\n",
       "0   6/7/2017 11:33:27     Oracle    L3               Product Manager   \n",
       "1  6/10/2017 17:11:29       eBay  SE 2             Software Engineer   \n",
       "2  6/11/2017 14:53:57     Amazon    L7               Product Manager   \n",
       "3   6/17/2017 0:23:14      Apple    M1  Software Engineering Manager   \n",
       "4  6/20/2017 10:58:51  Microsoft    60             Software Engineer   \n",
       "\n",
       "   totalyearlycompensation           location  yearsofexperience  \\\n",
       "0                   127000   Redwood City, CA                1.5   \n",
       "1                   100000  San Francisco, CA                5.0   \n",
       "2                   310000        Seattle, WA                8.0   \n",
       "3                   372000      Sunnyvale, CA                7.0   \n",
       "4                   157000  Mountain View, CA                5.0   \n",
       "\n",
       "   yearsatcompany  tag  basesalary  ...  Doctorate_Degree  Highschool  \\\n",
       "0             1.5  NaN    107000.0  ...                 0           0   \n",
       "1             3.0  NaN         0.0  ...                 0           0   \n",
       "2             0.0  NaN    155000.0  ...                 0           0   \n",
       "3             5.0  NaN    157000.0  ...                 0           0   \n",
       "4             3.0  NaN         0.0  ...                 0           0   \n",
       "\n",
       "  Some_College Race_Asian  Race_White  Race_Two_Or_More  Race_Black  \\\n",
       "0            0          0           0                 0           0   \n",
       "1            0          0           0                 0           0   \n",
       "2            0          0           0                 0           0   \n",
       "3            0          0           0                 0           0   \n",
       "4            0          0           0                 0           0   \n",
       "\n",
       "   Race_Hispanic  Race  Education  \n",
       "0              0   NaN        NaN  \n",
       "1              0   NaN        NaN  \n",
       "2              0   NaN        NaN  \n",
       "3              0   NaN        NaN  \n",
       "4              0   NaN        NaN  \n",
       "\n",
       "[5 rows x 29 columns]"
      ]
     },
     "execution_count": 8,
     "metadata": {},
     "output_type": "execute_result"
    }
   ],
   "source": [
    "# i. Show at least one plot or visualization to illustrate this (possible) relationship.\n",
    "from matplotlib import pyplot as plt\n",
    "df1 = pd.read_csv('Data/Salary_Data.csv', header=0, skipinitialspace=True)\n",
    "df1.head()"
   ]
  },
  {
   "cell_type": "code",
   "execution_count": 9,
   "id": "fbb957dc",
   "metadata": {},
   "outputs": [
    {
     "data": {
      "text/plain": [
       "Text(0.5, 1.0, 'Average FAANG Salaries')"
      ]
     },
     "execution_count": 9,
     "metadata": {},
     "output_type": "execute_result"
    },
    {
     "data": {
      "image/png": "[encoded data removed]",
      "text/plain": [
       "<Figure size 432x288 with 1 Axes>"
      ]
     },
     "metadata": {
      "needs_background": "light"
     },
     "output_type": "display_data"
    }
   ],
   "source": [
    "graph = df1[['company', 'totalyearlycompensation']][(df1['company'] =='google') | (df1['company'] =='apple')|(df1['company'] =='amazon')|(df1['company'] =='Netflix')|(df1['company'] =='facebook')]\n",
    "graph = graph.groupby('company').mean()\n",
    "graph.plot.barh()\n",
    "plt.xlabel(\" Avg Yearly Compensation( USD)\")\n",
    "plt.title(\"Average FAANG Salaries\")"
   ]
  },
  {
   "cell_type": "markdown",
   "id": "87687920",
   "metadata": {},
   "source": [
    "ii\n",
    "- Since jobs in this space tend to pay more, using the standard deviation for some attributes to compare and recognize which salaries are truly \"high\" or low for this data set.\n",
    "\n",
    "- Using the correlation coeeficient to see if two relationships both increase or decrease ie years of experience and salary or years of education and salary\n",
    "\n",
    "- Calculating the averages and modes, ie the most common level of education for certain companies. Or the average level of experience for a given company. \n",
    "\n",
    "iii In this instance drawing conclusions about some companies as a whole compared to other companies may be difficult since every company is not being represented quickly. \n",
    "\n",
    "(i) Some observations that could be seen is if a company is trying to hire more of a particular job title in a small amount of time. This might indicate that they are trying to expand their company to tackle a different problem or expand into a different sector. "
   ]
  },
  {
   "cell_type": "code",
   "execution_count": null,
   "id": "79c99d39",
   "metadata": {},
   "outputs": [],
   "source": []
  }
 ],
 "metadata": {
  "kernelspec": {
   "display_name": "Python 3 (ipykernel)",
   "language": "python",
   "name": "python3"
  },
  "language_info": {
   "codemirror_mode": {
    "name": "ipython",
    "version": 3
   },
   "file_extension": ".py",
   "mimetype": "text/x-python",
   "name": "python",
   "nbconvert_exporter": "python",
   "pygments_lexer": "ipython3",
   "version": "3.8.12"
  }
 },
 "nbformat": 4,
 "nbformat_minor": 5
}
