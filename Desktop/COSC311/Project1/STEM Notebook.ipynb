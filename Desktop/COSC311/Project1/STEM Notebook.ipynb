{
 "cells": [
  {
   "cell_type": "markdown",
   "id": "fedd87ce",
   "metadata": {},
   "source": [
    "# Dataset 3 - Data Science and STEM Salaries"
   ]
  },
  {
   "cell_type": "markdown",
   "id": "7952f2e0-cd70-4bae-81d9-50f715134ddd",
   "metadata": {},
   "source": [
    "# (a) What type of population is being sampled? What are the “things” getting measured – usually one per row of data.\n",
    "- The population being sampled are those who are employed in the STEM Field and their corresponding salaries. There are 62,641 entries where the \"things\" getting measured are when an employee gets hired in a stem role at an employer. The time frame being captured is from June 2017 - Aug 2021.\n"
   ]
  },
  {
   "cell_type": "markdown",
   "id": "f3979058-601f-4036-bdfa-c365e5483438",
   "metadata": {},
   "source": [
    "# (b) What features does each sample have, i.e. what is being measured?\n",
    "- Each sample ( employee in the stem field ) getting measured are attributes about the new hire such as race, education level and then about the company they are employed at including company name , job title , yearly compensation , stock bonuses, additional bonuses , city. \n"
   ]
  },
  {
   "cell_type": "markdown",
   "id": "0b4b7b60-9b05-4860-8f5f-2ee5323e8384",
   "metadata": {},
   "source": [
    "# (c) Are the features quantitative or qualitative? Ordinal or nominal? Continuous or discrete?\n",
    "-The quantitative features of the dataset include the time stamp , base salary , stock values, bonuses , total year compensation since they are numeric and describe a unit of measurement ( ie . how much money an indivudal makes ) . While the  qualitative include the company name ,level , job title , location , genders, and race are descriptive attributes of the dataset.\n",
    "\n",
    "-The data attributes which are numeric are ordinal as their value can be described in a list / ordered format where the value is sequential.So the higher the value of base salary , the larger amount of money a person makes. The nominal features include the things that cannot be ordered in a logical way ie company name. \n",
    "\n",
    "-The discrete values include race, gender years of expereince etc. as they can take a range of values but the ceiling on that range is defined. While the continous attribute are timestamp which can be plotted over an interval of time. "
   ]
  },
  {
   "cell_type": "markdown",
   "id": "c8f81251-07e9-4b76-b223-f510800f1bdd",
   "metadata": {},
   "source": [
    "# (d) Is the data “complete” or do some of the samples have null or absent values for certain features? Why are these samples still useful? Why are they incomplete?\n",
    "- The data has absent or null values for attributes under race and gender , other details  and education. These samples are still useful as they still have other usefull pieces of data which are not null. These samples could be incomplete since it is not required to report this information to employers. \n"
   ]
  },
  {
   "cell_type": "markdown",
   "id": "cf28df62-46a0-4dc1-b895-cb57a635cc7a",
   "metadata": {},
   "source": [
    "# (e) Why are these features chosen to be part of the dataset?\n",
    "- These features are choosen to paint a larger picture of potential employee candidates to be hired by a certain tech company. The data also models how certain companies might try to attract certain candidates to work for them by offering additional incentives outside of the norms. So bigger bonuses for a certain type of employee might imply that a company needs to hire a certain job title or this candidate has the technical skills to serve the company. \n"
   ]
  },
  {
   "cell_type": "raw",
   "id": "e86fbdea-c946-4301-b987-b5ab21da38c4",
   "metadata": {},
   "source": [
    "# (f) What are some other features that are not included but that you think might make sense to include for this dataset?\n",
    "- Some additonal information about the candidate such as their major or Phd concentration would be helpful to try and gain an \n",
    "understanding of what \"kind\" of person a company is hiring. \n"
   ]
  },
  {
   "cell_type": "markdown",
   "id": "d66a4a01-0ce3-4659-a1d5-833efe570c82",
   "metadata": {},
   "source": [
    "# (g) Give at least one way that you can pivot the dataset to get a slightly different representation of some values. Explain what this is and how you would use it for a visualization.\n",
    "- One pivot could average the total compensation per a given year by company. \n",
    " - A bar graph where the Index = year columns = company values = average total compensation. Thus illistrating the average salary of stem jobs for a given year. Also , seeing the overall trends for the past 3 years. "
   ]
  },
  {
   "cell_type": "markdown",
   "id": "d6e2d9cf-ab19-4ade-876e-159f10ee63a4",
   "metadata": {},
   "source": [
    "# (h) Identify any possible relationships between features included in the data: which ones are likely to affect others?\n",
    "- Job title and salary would have relationships and could showcase what each company is looking to hire at a given time.\n",
    "- Time and total compensation could also have a relationship as the industries are competeting to recruit the best talent total compensation could have a steady increase over time for each company and as an industry overall. \n",
    "- Location and salaries could have relationship since certain areas ( tech hubs like the bay area) coud be offering higher salaries then east coast companies. \n",
    "- Years of experience and base salary \n",
    "- race and gender with salary since STEM Field has less people of color and women in the industry, charting this data might haev a relationship. "
   ]
  },
  {
   "cell_type": "markdown",
   "id": "5329ea8b-0ecd-4462-88aa-5157effc9a29",
   "metadata": {},
   "source": [
    "\n",
    "# (h) i. Show at least one plot or visualization to illustrate this (possible) relationship.\n"
   ]
  },
  {
   "cell_type": "code",
   "execution_count": 139,
   "id": "bd571f5b-fabe-4f2b-800c-2505738d7ed3",
   "metadata": {},
   "outputs": [
    {
     "data": {
      "text/html": [
       "<div>\n",
       "<style scoped>\n",
       "    .dataframe tbody tr th:only-of-type {\n",
       "        vertical-align: middle;\n",
       "    }\n",
       "\n",
       "    .dataframe tbody tr th {\n",
       "        vertical-align: top;\n",
       "    }\n",
       "\n",
       "    .dataframe thead th {\n",
       "        text-align: right;\n",
       "    }\n",
       "</style>\n",
       "<table border=\"1\" class=\"dataframe\">\n",
       "  <thead>\n",
       "    <tr style=\"text-align: right;\">\n",
       "      <th></th>\n",
       "      <th>timestamp</th>\n",
       "      <th>company</th>\n",
       "      <th>level</th>\n",
       "      <th>title</th>\n",
       "      <th>totalyearlycompensation</th>\n",
       "      <th>location</th>\n",
       "      <th>yearsofexperience</th>\n",
       "      <th>yearsatcompany</th>\n",
       "      <th>tag</th>\n",
       "      <th>basesalary</th>\n",
       "      <th>...</th>\n",
       "      <th>Doctorate_Degree</th>\n",
       "      <th>Highschool</th>\n",
       "      <th>Some_College</th>\n",
       "      <th>Race_Asian</th>\n",
       "      <th>Race_White</th>\n",
       "      <th>Race_Two_Or_More</th>\n",
       "      <th>Race_Black</th>\n",
       "      <th>Race_Hispanic</th>\n",
       "      <th>Race</th>\n",
       "      <th>Education</th>\n",
       "    </tr>\n",
       "  </thead>\n",
       "  <tbody>\n",
       "    <tr>\n",
       "      <th>0</th>\n",
       "      <td>6/7/17 11:33</td>\n",
       "      <td>Oracle</td>\n",
       "      <td>L3</td>\n",
       "      <td>Product Manager</td>\n",
       "      <td>127000</td>\n",
       "      <td>Redwood City, CA</td>\n",
       "      <td>1.5</td>\n",
       "      <td>1.5</td>\n",
       "      <td>NaN</td>\n",
       "      <td>107000</td>\n",
       "      <td>...</td>\n",
       "      <td>0</td>\n",
       "      <td>0</td>\n",
       "      <td>0</td>\n",
       "      <td>0</td>\n",
       "      <td>0</td>\n",
       "      <td>0</td>\n",
       "      <td>0</td>\n",
       "      <td>0</td>\n",
       "      <td>NaN</td>\n",
       "      <td>NaN</td>\n",
       "    </tr>\n",
       "    <tr>\n",
       "      <th>1</th>\n",
       "      <td>6/10/17 17:11</td>\n",
       "      <td>eBay</td>\n",
       "      <td>SE 2</td>\n",
       "      <td>Software Engineer</td>\n",
       "      <td>100000</td>\n",
       "      <td>San Francisco, CA</td>\n",
       "      <td>5.0</td>\n",
       "      <td>3.0</td>\n",
       "      <td>NaN</td>\n",
       "      <td>0</td>\n",
       "      <td>...</td>\n",
       "      <td>0</td>\n",
       "      <td>0</td>\n",
       "      <td>0</td>\n",
       "      <td>0</td>\n",
       "      <td>0</td>\n",
       "      <td>0</td>\n",
       "      <td>0</td>\n",
       "      <td>0</td>\n",
       "      <td>NaN</td>\n",
       "      <td>NaN</td>\n",
       "    </tr>\n",
       "    <tr>\n",
       "      <th>2</th>\n",
       "      <td>6/11/17 14:53</td>\n",
       "      <td>Amazon</td>\n",
       "      <td>L7</td>\n",
       "      <td>Product Manager</td>\n",
       "      <td>310000</td>\n",
       "      <td>Seattle, WA</td>\n",
       "      <td>8.0</td>\n",
       "      <td>0.0</td>\n",
       "      <td>NaN</td>\n",
       "      <td>155000</td>\n",
       "      <td>...</td>\n",
       "      <td>0</td>\n",
       "      <td>0</td>\n",
       "      <td>0</td>\n",
       "      <td>0</td>\n",
       "      <td>0</td>\n",
       "      <td>0</td>\n",
       "      <td>0</td>\n",
       "      <td>0</td>\n",
       "      <td>NaN</td>\n",
       "      <td>NaN</td>\n",
       "    </tr>\n",
       "    <tr>\n",
       "      <th>3</th>\n",
       "      <td>6/17/17 0:23</td>\n",
       "      <td>Apple</td>\n",
       "      <td>M1</td>\n",
       "      <td>Software Engineering Manager</td>\n",
       "      <td>372000</td>\n",
       "      <td>Sunnyvale, CA</td>\n",
       "      <td>7.0</td>\n",
       "      <td>5.0</td>\n",
       "      <td>NaN</td>\n",
       "      <td>157000</td>\n",
       "      <td>...</td>\n",
       "      <td>0</td>\n",
       "      <td>0</td>\n",
       "      <td>0</td>\n",
       "      <td>0</td>\n",
       "      <td>0</td>\n",
       "      <td>0</td>\n",
       "      <td>0</td>\n",
       "      <td>0</td>\n",
       "      <td>NaN</td>\n",
       "      <td>NaN</td>\n",
       "    </tr>\n",
       "    <tr>\n",
       "      <th>4</th>\n",
       "      <td>6/20/17 10:58</td>\n",
       "      <td>Microsoft</td>\n",
       "      <td>60</td>\n",
       "      <td>Software Engineer</td>\n",
       "      <td>157000</td>\n",
       "      <td>Mountain View, CA</td>\n",
       "      <td>5.0</td>\n",
       "      <td>3.0</td>\n",
       "      <td>NaN</td>\n",
       "      <td>0</td>\n",
       "      <td>...</td>\n",
       "      <td>0</td>\n",
       "      <td>0</td>\n",
       "      <td>0</td>\n",
       "      <td>0</td>\n",
       "      <td>0</td>\n",
       "      <td>0</td>\n",
       "      <td>0</td>\n",
       "      <td>0</td>\n",
       "      <td>NaN</td>\n",
       "      <td>NaN</td>\n",
       "    </tr>\n",
       "  </tbody>\n",
       "</table>\n",
       "<p>5 rows × 29 columns</p>\n",
       "</div>"
      ],
      "text/plain": [
       "       timestamp    company level                         title  \\\n",
       "0   6/7/17 11:33     Oracle    L3               Product Manager   \n",
       "1  6/10/17 17:11       eBay  SE 2             Software Engineer   \n",
       "2  6/11/17 14:53     Amazon    L7               Product Manager   \n",
       "3   6/17/17 0:23      Apple    M1  Software Engineering Manager   \n",
       "4  6/20/17 10:58  Microsoft    60             Software Engineer   \n",
       "\n",
       "   totalyearlycompensation           location  yearsofexperience  \\\n",
       "0                   127000   Redwood City, CA                1.5   \n",
       "1                   100000  San Francisco, CA                5.0   \n",
       "2                   310000        Seattle, WA                8.0   \n",
       "3                   372000      Sunnyvale, CA                7.0   \n",
       "4                   157000  Mountain View, CA                5.0   \n",
       "\n",
       "   yearsatcompany  tag  basesalary  ...  Doctorate_Degree  Highschool  \\\n",
       "0             1.5  NaN      107000  ...                 0           0   \n",
       "1             3.0  NaN           0  ...                 0           0   \n",
       "2             0.0  NaN      155000  ...                 0           0   \n",
       "3             5.0  NaN      157000  ...                 0           0   \n",
       "4             3.0  NaN           0  ...                 0           0   \n",
       "\n",
       "  Some_College Race_Asian  Race_White  Race_Two_Or_More  Race_Black  \\\n",
       "0            0          0           0                 0           0   \n",
       "1            0          0           0                 0           0   \n",
       "2            0          0           0                 0           0   \n",
       "3            0          0           0                 0           0   \n",
       "4            0          0           0                 0           0   \n",
       "\n",
       "   Race_Hispanic  Race  Education  \n",
       "0              0   NaN        NaN  \n",
       "1              0   NaN        NaN  \n",
       "2              0   NaN        NaN  \n",
       "3              0   NaN        NaN  \n",
       "4              0   NaN        NaN  \n",
       "\n",
       "[5 rows x 29 columns]"
      ]
     },
     "execution_count": 139,
     "metadata": {},
     "output_type": "execute_result"
    }
   ],
   "source": [
    "from matplotlib import pyplot as plt\n",
    "df1 = pd.read_csv('Salary_Data.csv', header=0, skipinitialspace=True)\n",
    "df1.head()\n"
   ]
  },
  {
   "cell_type": "code",
   "execution_count": 133,
   "id": "55ddc2bd-7a2a-4bc1-bbc5-e446f43b6af7",
   "metadata": {},
   "outputs": [
    {
     "data": {
      "text/plain": [
       "Text(0.5, 1.0, 'Average FAANG Salaries')"
      ]
     },
     "execution_count": 133,
     "metadata": {},
     "output_type": "execute_result"
    },
    {
     "data": {
      "image/png": "[encoded data removed]",
      "text/plain": [
       "<Figure size 432x288 with 1 Axes>"
      ]
     },
     "metadata": {
      "needs_background": "light"
     },
     "output_type": "display_data"
    }
   ],
   "source": [
    "\n",
    "graph = df1[['company', 'totalyearlycompensation']][(df1['company'] =='google') | (df1['company'] =='apple')|(df1['company'] =='amazon')|(df1['company'] =='Netflix')|(df1['company'] =='facebook')]\n",
    "graph = graph.groupby('company').mean()\n",
    "graph.plot.barh()\n",
    "plt.xlabel(\" Avg Yearly Compensation( USD)\")\n",
    "plt.title(\"Average FAANG Salaries\")\n",
    "\n",
    "\n"
   ]
  },
  {
   "cell_type": "markdown",
   "id": "d7b28698-f2eb-491d-b82b-77dcca8ed0f6",
   "metadata": {},
   "source": [
    "# ii. What numerical or statistical techniques might you consider using to determine whether the relationship is reliable?\n",
    "- Since jobs in this space tend to pay more using the standard deviation for some attributes to compare and recognize which salaries are truly \"high\" or low  for this data set.\n",
    "\n",
    "- Using the correlation coeficciant to see if two relationships both increase or decrease ie years of experience and salary or years of education and salary\n",
    "\n",
    "- Calculating the averages and modes. IE the most common level of education for certain companies. Or the average level of experience for a given company. "
   ]
  },
  {
   "cell_type": "markdown",
   "id": "b327a295-3547-492d-8abd-5f0e8ebb9ca5",
   "metadata": {},
   "source": [
    "# iii. Are there external inferences you think might be possible? For instance, can you hypothesize a relationship with data not included in the dataset? Why or why not?\n",
    "- In this instance drawing conclusions about some companies as a whole comapred to other companies may be diffiicult since every company is not being represented equickly. \n",
    "\n",
    "- "
   ]
  },
  {
   "cell_type": "markdown",
   "id": "9dd446c2-df09-4945-9f36-90b941bf4486",
   "metadata": {},
   "source": [
    "# (i) What “extra” features can you perhaps compute from the data? For example, if you have data that includes product dates of purchase, you can “engineer” the data to construct the most popular products over various lengths of time (e.g. a particular holiday season). How might you use this information? Using the holiday example, you might try to correlate holiday sales of a product to some mainstream event that popularized it.\n",
    "\n",
    "- Some obersvations that could be seen is if a company is trying to hire more of a particular job title in a small amount of time. This might indicate that they are trying to expand their company to tackle a different problem or expand into a different sector. \n",
    "\n"
   ]
  },
  {
   "cell_type": "code",
   "execution_count": null,
   "id": "e2a11199-acdf-4ef6-866e-6f34063c8ea1",
   "metadata": {},
   "outputs": [],
   "source": []
  }
 ],
 "metadata": {
  "kernelspec": {
   "display_name": "Python 3 (ipykernel)",
   "language": "python",
   "name": "python3"
  },
  "language_info": {
   "codemirror_mode": {
    "name": "ipython",
    "version": 3
   },
   "file_extension": ".py",
   "mimetype": "text/x-python",
   "name": "python",
   "nbconvert_exporter": "python",
   "pygments_lexer": "ipython3",
   "version": "3.8.12"
  }
 },
 "nbformat": 4,
 "nbformat_minor": 5
}
