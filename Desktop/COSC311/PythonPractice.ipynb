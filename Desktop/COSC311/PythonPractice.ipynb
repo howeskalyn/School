{
 "cells": [
  {
   "cell_type": "markdown",
   "id": "8d4ed6c5",
   "metadata": {},
   "source": [
    "# Python Practice"
   ]
  },
  {
   "cell_type": "code",
   "execution_count": 1,
   "id": "5a135ffe",
   "metadata": {},
   "outputs": [
    {
     "name": "stdout",
     "output_type": "stream",
     "text": [
      "x is = 10\n"
     ]
    }
   ],
   "source": [
    "x = 10\n",
    "print(f\"x is = {x}\")"
   ]
  },
  {
   "cell_type": "code",
   "execution_count": 3,
   "id": "9e0cee1f",
   "metadata": {},
   "outputs": [
    {
     "name": "stdout",
     "output_type": "stream",
     "text": [
      "US\n",
      "Mexico\n",
      "Canada\n"
     ]
    }
   ],
   "source": [
    "countries = [\"US\", \"Mexico\", \"Canada\"]\n",
    "for i in countries:\n",
    "    print(i)"
   ]
  },
  {
   "cell_type": "code",
   "execution_count": 8,
   "id": "f934bc7c",
   "metadata": {},
   "outputs": [
    {
     "name": "stdout",
     "output_type": "stream",
     "text": [
      "['USaaaa', 'Mexicoaaaa', 'Canadaaaaa']\n"
     ]
    }
   ],
   "source": [
    "for i, _ in enumerate(countries):\n",
    "    countries[i] += \"a\"\n",
    "print(countries)"
   ]
  }
 ],
 "metadata": {
  "kernelspec": {
   "display_name": "Python 3",
   "language": "python",
   "name": "python3"
  },
  "language_info": {
   "codemirror_mode": {
    "name": "ipython",
    "version": 3
   },
   "file_extension": ".py",
   "mimetype": "text/x-python",
   "name": "python",
   "nbconvert_exporter": "python",
   "pygments_lexer": "ipython3",
   "version": "3.8.8"
  }
 },
 "nbformat": 4,
 "nbformat_minor": 5
}
