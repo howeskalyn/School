{
 "cells": [
  {
   "cell_type": "markdown",
   "id": "bae86f70-72ee-4c8c-b1e3-4f2605641810",
   "metadata": {},
   "source": [
    "# Lab 5\n",
    "\n",
    "Kalyn Howes & Chloe VanCory\n",
    "\n",
    "COSC 311\n",
    "\n",
    "11/19/21\n",
    "\n",
    "Implementing the k-Nearest Neighbors (kNN) classification algorithm."
   ]
  },
  {
   "cell_type": "markdown",
   "id": "53c4c8d3-2bae-48b4-8cf4-a93290970635",
   "metadata": {},
   "source": [
    "(no README included - all questions are answered within this notebook - ensure cells are run sequentially)"
   ]
  },
  {
   "cell_type": "code",
   "execution_count": 1,
   "id": "b56bcaa2-3142-4c0a-bc71-ebbfe24079a1",
   "metadata": {},
   "outputs": [],
   "source": [
    "import numpy as np\n",
    "from matplotlib import pyplot as plt\n",
    "import pandas as pd\n",
    "import random\n",
    "from collections import Counter\n",
    "from sklearn.metrics import confusion_matrix\n",
    "import copy\n",
    "import tqdm"
   ]
  },
  {
   "cell_type": "code",
   "execution_count": 2,
   "id": "96d50094-8513-44bd-b67a-e9221eadd9c7",
   "metadata": {},
   "outputs": [
    {
     "data": {
      "text/html": [
       "<div>\n",
       "<style scoped>\n",
       "    .dataframe tbody tr th:only-of-type {\n",
       "        vertical-align: middle;\n",
       "    }\n",
       "\n",
       "    .dataframe tbody tr th {\n",
       "        vertical-align: top;\n",
       "    }\n",
       "\n",
       "    .dataframe thead th {\n",
       "        text-align: right;\n",
       "    }\n",
       "</style>\n",
       "<table border=\"1\" class=\"dataframe\">\n",
       "  <thead>\n",
       "    <tr style=\"text-align: right;\">\n",
       "      <th></th>\n",
       "      <th>sepal_length</th>\n",
       "      <th>sepal_width</th>\n",
       "      <th>petal_length</th>\n",
       "      <th>petal_width</th>\n",
       "      <th>class</th>\n",
       "    </tr>\n",
       "  </thead>\n",
       "  <tbody>\n",
       "    <tr>\n",
       "      <th>0</th>\n",
       "      <td>5.1</td>\n",
       "      <td>3.5</td>\n",
       "      <td>1.4</td>\n",
       "      <td>0.2</td>\n",
       "      <td>Iris-setosa</td>\n",
       "    </tr>\n",
       "    <tr>\n",
       "      <th>1</th>\n",
       "      <td>4.9</td>\n",
       "      <td>3.0</td>\n",
       "      <td>1.4</td>\n",
       "      <td>0.2</td>\n",
       "      <td>Iris-setosa</td>\n",
       "    </tr>\n",
       "    <tr>\n",
       "      <th>2</th>\n",
       "      <td>4.7</td>\n",
       "      <td>3.2</td>\n",
       "      <td>1.3</td>\n",
       "      <td>0.2</td>\n",
       "      <td>Iris-setosa</td>\n",
       "    </tr>\n",
       "    <tr>\n",
       "      <th>3</th>\n",
       "      <td>4.6</td>\n",
       "      <td>3.1</td>\n",
       "      <td>1.5</td>\n",
       "      <td>0.2</td>\n",
       "      <td>Iris-setosa</td>\n",
       "    </tr>\n",
       "    <tr>\n",
       "      <th>4</th>\n",
       "      <td>5.0</td>\n",
       "      <td>3.6</td>\n",
       "      <td>1.4</td>\n",
       "      <td>0.2</td>\n",
       "      <td>Iris-setosa</td>\n",
       "    </tr>\n",
       "  </tbody>\n",
       "</table>\n",
       "</div>"
      ],
      "text/plain": [
       "   sepal_length  sepal_width  petal_length  petal_width        class\n",
       "0           5.1          3.5           1.4          0.2  Iris-setosa\n",
       "1           4.9          3.0           1.4          0.2  Iris-setosa\n",
       "2           4.7          3.2           1.3          0.2  Iris-setosa\n",
       "3           4.6          3.1           1.5          0.2  Iris-setosa\n",
       "4           5.0          3.6           1.4          0.2  Iris-setosa"
      ]
     },
     "execution_count": 2,
     "metadata": {},
     "output_type": "execute_result"
    }
   ],
   "source": [
    "iris = pd.read_csv('data/iris.data', header=None, \n",
    "                   names=['sepal_length', 'sepal_width', 'petal_length', 'petal_width', 'class'])\n",
    "iris.head()"
   ]
  },
  {
   "cell_type": "markdown",
   "id": "894bd054-b314-411c-a24b-9a44785049f0",
   "metadata": {},
   "source": [
    "# Class knnalg"
   ]
  },
  {
   "cell_type": "code",
   "execution_count": 3,
   "id": "a38bd49f-4bfd-470f-a86f-a77af1fc48f5",
   "metadata": {},
   "outputs": [],
   "source": [
    "# Class with internal parameter k and methods train and predict\n",
    "class knnalg:\n",
    "    def __init__(self, k):\n",
    "        self.k = k\n",
    "        \n",
    "    # i.The train method should take in an array of pre-labeled data and store them to be used in the kNN calculation later.\n",
    "    # training the algorithm based on already found data\n",
    "    def train(self, data, labels):\n",
    "        self.data = data\n",
    "        self.labels = labels\n",
    "        \n",
    "    # ii. The predict method should take in a single data point (of the same dimension as those used in training) \n",
    "    # and return the label of the kNN decision. Keep in mind that, in general, you may have to choose between multiple labels. \n",
    "    # In this case, ties are possible, but you can just decide to break them randomly or increase k to get more votes\n",
    "    # send in a test point for it to be classified\n",
    "    def predict(self, x):\n",
    "        # need to find k closest neighbors to the point w the Euclidean norm\n",
    "        # pair up each distance with the label of its point\n",
    "        distances = [ (norm(x - self.data[i]), self.labels[i]) for i in range(len(self.data))]\n",
    "        #print('Distances: ', distances)\n",
    "        \n",
    "        # order all the distances\n",
    "        k_nearest = sorted(distances)\n",
    "        #print('k_nearest: ', distances)\n",
    "        \n",
    "        # determine the labels of the top k points & do majority vote\n",
    "        return max(Counter([p[1] for p in k_nearest[:k]]))"
   ]
  },
  {
   "cell_type": "code",
   "execution_count": 4,
   "id": "df8d89f0-af0a-4c07-8798-2e39af24f60a",
   "metadata": {},
   "outputs": [],
   "source": [
    "def norm(x):\n",
    "    return np.sqrt(np.sum(x**2))"
   ]
  },
  {
   "cell_type": "markdown",
   "id": "98133876-e0b9-4e76-9f0a-caa498476140",
   "metadata": {},
   "source": [
    "# 2(b) \n",
    "##### Test the algorithm (class) on some simple hand-made data that you can easily visualize or inspect to check for correct behavior"
   ]
  },
  {
   "cell_type": "code",
   "execution_count": 5,
   "id": "180e530a-b134-4a7b-89f2-35657e79d06b",
   "metadata": {},
   "outputs": [
    {
     "data": {
      "text/plain": [
       "'Red'"
      ]
     },
     "execution_count": 5,
     "metadata": {},
     "output_type": "execute_result"
    }
   ],
   "source": [
    "k = 3\n",
    "knn = knnalg(k) # create class instance\n",
    "\n",
    "# sample data for testing\n",
    "data = np.array([\n",
    "    [1,2],\n",
    "    [1,1],\n",
    "    [1,-1],\n",
    "    [2,-4],\n",
    "    [3,-2],\n",
    "    [3,1],\n",
    "    [-1,-1],\n",
    "    [-1,-3]\n",
    "])\n",
    "labels = np.random.choice(a=['Red', 'Black'], size=len(data))\n",
    "#print(data)\n",
    "#print(labels)\n",
    "\n",
    "unknown = [-.96, 1.3]\n",
    "\n",
    "knn.train(data, labels)\n",
    "knn.predict(unknown)"
   ]
  },
  {
   "cell_type": "markdown",
   "id": "aa2a3b3a-b9d6-49d3-850c-96fc3791c4ff",
   "metadata": {},
   "source": [
    "# 3\n",
    "##### Write a python routine to split a given data set (randomly) into testing and training subsets. It’s a good idea to parameterize this process with a percentage p so the data is split into sets of size np and n(1 − p); then you can “tune” p later for your specific training/testing procedure."
   ]
  },
  {
   "cell_type": "code",
   "execution_count": 6,
   "id": "7ed095d8-35fd-40f0-8bbc-92d447a157ec",
   "metadata": {},
   "outputs": [],
   "source": [
    "def divideSets(p,data):\n",
    "    copydata = copy.deepcopy(data)\n",
    "    # print(copydata)\n",
    "    np.random.shuffle(copydata)\n",
    "    list1 = copydata[:int(p*len(copydata))]\n",
    "    list2 = copydata[int(p*len(copydata)):]\n",
    "    #print('List 1: \\n', list1)\n",
    "    #print('\\nList 2: \\n',list2)\n",
    "    \n",
    "    return (list1, list2)"
   ]
  },
  {
   "cell_type": "code",
   "execution_count": 7,
   "id": "a69f06b3-b5b3-41c7-b2e3-dc827c9e0756",
   "metadata": {},
   "outputs": [
    {
     "name": "stdout",
     "output_type": "stream",
     "text": [
      "[ 1  2  3  4  5  6  7  8  9 10]\n",
      "(array([2, 9]), array([ 5,  6,  1,  3,  7,  8, 10,  4]))\n"
     ]
    }
   ],
   "source": [
    "temp = np.array([1, 2, 3, 4, 5, 6, 7, 8, 9, 10] )\n",
    "print(temp)\n",
    "print(divideSets(.2, temp))"
   ]
  },
  {
   "cell_type": "markdown",
   "id": "590fc703-4985-489f-b614-dcf046465ccf",
   "metadata": {},
   "source": [
    "# 4\n",
    "##### Using Python, implement the k-means algorithm and test this on the Iris dataset. Try using all of the columns versus only a subset. What works the best? How well does the algorithm do when setting k = 3, the true number of classes? Show the results visually (using only 2-d scatter plots) – be sure to indicate visually both the predicted cluster result and the true iris class."
   ]
  },
  {
   "cell_type": "markdown",
   "id": "52a631ff-9133-44ad-8ffa-c050782194e7",
   "metadata": {},
   "source": [
    "##### All columns in Iris:"
   ]
  },
  {
   "cell_type": "code",
   "execution_count": 8,
   "id": "e9224c8b-44ac-4d29-bd1e-d2ed6243ce1b",
   "metadata": {},
   "outputs": [
    {
     "name": "stdout",
     "output_type": "stream",
     "text": [
      "The unclassified point [7, 2.5, 4, 8] has been classified as: Iris-virginica\n"
     ]
    }
   ],
   "source": [
    "k = 3\n",
    "knn = knnalg(k)\n",
    "\n",
    "# need to pass an array of data points an array of labels for each of those points\n",
    "# extract two columns we want to classify\n",
    "x = iris[['sepal_length','sepal_width', 'petal_length', 'petal_width']].values\n",
    "labels = iris['class'].values\n",
    "#print(x)\n",
    "#print(labels)\n",
    "\n",
    "# Fit/train the model/algorithm/classifier to the data and labels\n",
    "knn.train(x, labels)\n",
    "\n",
    "unclassified = [7, 2.5, 4, 8]\n",
    "# It will return an array of predicted labels, one for each row\n",
    "print(f'The unclassified point {unclassified} has been classified as:', knn.predict(unclassified))"
   ]
  },
  {
   "cell_type": "code",
   "execution_count": 9,
   "id": "9917afad-8922-4151-82bc-e0a417457104",
   "metadata": {},
   "outputs": [
    {
     "data": {
      "text/plain": [
       "Text(0.5, 1.0, 'Sepal Length vs Width & Petal Length vs Width')"
      ]
     },
     "execution_count": 9,
     "metadata": {},
     "output_type": "execute_result"
    },
    {
     "data": {
      "image/png": "[encoded data removed]",
      "text/plain": [
       "<Figure size 432x288 with 1 Axes>"
      ]
     },
     "metadata": {
      "needs_background": "light"
     },
     "output_type": "display_data"
    }
   ],
   "source": [
    "# plotting original data & with new point(s)\n",
    "setosa = iris[iris['class'] == 'Iris-setosa']\n",
    "virginica = iris[iris['class'] == 'Iris-virginica']\n",
    "versicolor = iris[iris['class'] == 'Iris-versicolor']\n",
    "\n",
    "# original data - sepal\n",
    "plt.scatter(x=setosa['sepal_length'], y=setosa['sepal_width'], color='b')\n",
    "plt.scatter(x=virginica['sepal_length'], y=virginica['sepal_width'], color='r')\n",
    "plt.scatter(x=versicolor['sepal_length'], y=versicolor['sepal_width'], color='g')\n",
    "\n",
    "# original data - petal\n",
    "plt.scatter(x=setosa['petal_length'], y=setosa['petal_width'], color='cornflowerblue')\n",
    "plt.scatter(x=virginica['petal_length'], y=virginica['petal_width'], color='lightcoral')\n",
    "plt.scatter(x=versicolor['petal_length'], y=versicolor['petal_width'], color='lightgreen')\n",
    "\n",
    "plt.scatter(x=unclassified[0], y=unclassified[1], color='black') # new point - sepal\n",
    "plt.scatter(x=unclassified[2], y=unclassified[3], color='black') # new point - petal\n",
    "\n",
    "plt.legend(['setosa', 'viginica', 'versicolor'])\n",
    "plt.title(\"Sepal Length vs Width & Petal Length vs Width\")"
   ]
  },
  {
   "cell_type": "markdown",
   "id": "3fe1c229-d2be-4e31-9ccf-56d47bd02a5c",
   "metadata": {},
   "source": [
    "##### Subset of Iris: just sepal lengths & widths"
   ]
  },
  {
   "cell_type": "code",
   "execution_count": 10,
   "id": "b563dc8a-be62-4223-b29b-22fd32329141",
   "metadata": {},
   "outputs": [
    {
     "name": "stdout",
     "output_type": "stream",
     "text": [
      "The unclassified point [1, 4] has been classified as: Iris-setosa\n"
     ]
    }
   ],
   "source": [
    "k = 3\n",
    "knn = knnalg(k)\n",
    "\n",
    "# need to pass an array of data points an array of labels for each of those points\n",
    "# extract two columns we want to classify\n",
    "x = iris[['sepal_length','sepal_width']].values\n",
    "labels = iris['class'].values\n",
    "#print(x)\n",
    "#print(labels)\n",
    "\n",
    "# Fit/train the model/algorithm/classifier to the data and labels\n",
    "knn.train(x, labels)\n",
    "\n",
    "unclassified = [1, 4]\n",
    "# It will return an array of predicted labels, one for each row\n",
    "print(f'The unclassified point {unclassified} has been classified as:', knn.predict(unclassified))"
   ]
  },
  {
   "cell_type": "code",
   "execution_count": 11,
   "id": "457faf47-3027-4355-abac-664e1f92e776",
   "metadata": {},
   "outputs": [
    {
     "data": {
      "text/plain": [
       "Text(0.5, 1.0, 'Sepal Length vs Width & Petal Length vs Width')"
      ]
     },
     "execution_count": 11,
     "metadata": {},
     "output_type": "execute_result"
    },
    {
     "data": {
      "image/png": "[encoded data removed]",
      "text/plain": [
       "<Figure size 432x288 with 1 Axes>"
      ]
     },
     "metadata": {
      "needs_background": "light"
     },
     "output_type": "display_data"
    }
   ],
   "source": [
    "# plotting original data & with new point\n",
    "# original data - sepal\n",
    "plt.scatter(x=setosa['sepal_length'], y=setosa['sepal_width'], color='b')\n",
    "plt.scatter(x=virginica['sepal_length'], y=virginica['sepal_width'], color='r')\n",
    "plt.scatter(x=versicolor['sepal_length'], y=versicolor['sepal_width'], color='g')\n",
    "\n",
    "plt.scatter(x=unclassified[0], y=unclassified[1], color='black') # new point\n",
    "\n",
    "plt.legend(['setosa', 'viginica', 'versicolor'])\n",
    "plt.title(\"Sepal Length vs Width & Petal Length vs Width\")"
   ]
  },
  {
   "cell_type": "markdown",
   "id": "dc3bc5a4-d644-4976-b2ca-9103b0de3b73",
   "metadata": {},
   "source": [
    "# 5 \n",
    "##### Using the iris dataset, test your kNN algorithm to predict which class a given iris belongs to."
   ]
  },
  {
   "cell_type": "code",
   "execution_count": 12,
   "id": "219c8ac5-36fe-4131-aa72-eb210fbb7989",
   "metadata": {},
   "outputs": [
    {
     "name": "stdout",
     "output_type": "stream",
     "text": [
      "\n",
      "Data (List1):\n",
      " [5.0, 5.4, 6.5, 4.4, 6.0, 5.7, 5.1, 5.1, 5.4, 7.2, 6.5, 5.3, 6.5, 6.2, 5.7, 6.5, 6.9, 4.8, 6.0, 5.7, 5.5, 4.9, 6.0, 5.8, 5.8, 6.7, 5.7, 6.7, 6.8, 5.1, 6.6, 6.4, 5.8, 5.0, 5.1, 5.7, 6.7, 5.7, 6.3, 5.9, 6.4, 5.6, 5.1, 5.9, 6.9, 6.3, 6.3, 6.7, 6.7, 4.9, 5.6, 6.4, 7.1, 7.9, 4.6, 6.4, 7.7, 5.0, 6.7, 4.8, 6.1, 5.6, 6.8, 4.7, 5.8, 5.4, 6.0, 6.7, 6.5, 5.0, 5.4, 5.2, 6.2, 6.2, 6.1, 4.8, 5.5, 5.1, 7.2, 6.4, 5.2, 5.5, 4.5, 4.6, 5.8, 4.4, 5.2, 4.9, 6.1, 7.7]\n",
      "\n",
      "Labels (List1):\n",
      " ['Iris-setosa', 'Iris-versicolor', 'Iris-virginica', 'Iris-setosa', 'Iris-virginica', 'Iris-versicolor', 'Iris-setosa', 'Iris-setosa', 'Iris-setosa', 'Iris-virginica', 'Iris-virginica', 'Iris-setosa', 'Iris-virginica', 'Iris-virginica', 'Iris-setosa', 'Iris-versicolor', 'Iris-virginica', 'Iris-setosa', 'Iris-versicolor', 'Iris-setosa', 'Iris-setosa', 'Iris-versicolor', 'Iris-virginica', 'Iris-virginica', 'Iris-virginica', 'Iris-versicolor', 'Iris-versicolor', 'Iris-virginica', 'Iris-versicolor', 'Iris-setosa', 'Iris-versicolor', 'Iris-virginica', 'Iris-versicolor', 'Iris-versicolor', 'Iris-setosa', 'Iris-virginica', 'Iris-versicolor', 'Iris-versicolor', 'Iris-virginica', 'Iris-versicolor', 'Iris-versicolor', 'Iris-versicolor', 'Iris-setosa', 'Iris-virginica', 'Iris-virginica', 'Iris-virginica', 'Iris-virginica', 'Iris-virginica', 'Iris-virginica', 'Iris-setosa', 'Iris-versicolor', 'Iris-virginica', 'Iris-virginica', 'Iris-virginica', 'Iris-setosa', 'Iris-versicolor', 'Iris-virginica', 'Iris-setosa', 'Iris-virginica', 'Iris-setosa', 'Iris-versicolor', 'Iris-versicolor', 'Iris-virginica', 'Iris-setosa', 'Iris-versicolor', 'Iris-setosa', 'Iris-versicolor', 'Iris-virginica', 'Iris-virginica', 'Iris-setosa', 'Iris-setosa', 'Iris-versicolor', 'Iris-versicolor', 'Iris-versicolor', 'Iris-versicolor', 'Iris-setosa', 'Iris-versicolor', 'Iris-versicolor', 'Iris-virginica', 'Iris-virginica', 'Iris-setosa', 'Iris-versicolor', 'Iris-setosa', 'Iris-setosa', 'Iris-setosa', 'Iris-setosa', 'Iris-setosa', 'Iris-setosa', 'Iris-versicolor', 'Iris-virginica']\n",
      "\n",
      "Data (List2):\n",
      " [5.0, 6.9, 6.4, 7.3, 6.4, 5.0, 5.1, 5.5, 4.3, 4.6, 4.4, 7.7, 5.0, 5.5, 5.1, 6.1, 6.3, 5.0, 5.6, 5.7, 4.9, 6.1, 6.3, 7.0, 5.6, 7.2, 6.3, 6.0, 5.7, 4.8, 5.8, 7.7, 6.7, 5.2, 6.8, 5.9, 5.6, 6.6, 5.8, 6.3, 5.5, 5.4, 4.9, 5.0, 6.9, 6.2, 6.1, 5.4, 4.6, 4.7, 5.0, 4.8, 6.0, 5.5, 5.1, 6.3, 7.6, 4.9, 6.3, 7.4]\n",
      "\n",
      "Labels (List2):\n",
      " ['Iris-setosa', 'Iris-versicolor', 'Iris-virginica', 'Iris-virginica', 'Iris-virginica', 'Iris-versicolor', 'Iris-setosa', 'Iris-versicolor', 'Iris-setosa', 'Iris-setosa', 'Iris-setosa', 'Iris-virginica', 'Iris-setosa', 'Iris-versicolor', 'Iris-setosa', 'Iris-virginica', 'Iris-virginica', 'Iris-setosa', 'Iris-versicolor', 'Iris-versicolor', 'Iris-virginica', 'Iris-versicolor', 'Iris-versicolor', 'Iris-versicolor', 'Iris-virginica', 'Iris-virginica', 'Iris-versicolor', 'Iris-versicolor', 'Iris-versicolor', 'Iris-setosa', 'Iris-virginica', 'Iris-virginica', 'Iris-versicolor', 'Iris-setosa', 'Iris-virginica', 'Iris-versicolor', 'Iris-versicolor', 'Iris-versicolor', 'Iris-versicolor', 'Iris-virginica', 'Iris-versicolor', 'Iris-setosa', 'Iris-setosa', 'Iris-setosa', 'Iris-virginica', 'Iris-virginica', 'Iris-virginica', 'Iris-setosa', 'Iris-setosa', 'Iris-setosa', 'Iris-setosa', 'Iris-setosa', 'Iris-versicolor', 'Iris-setosa', 'Iris-setosa', 'Iris-versicolor', 'Iris-virginica', 'Iris-setosa', 'Iris-virginica', 'Iris-virginica']\n"
     ]
    }
   ],
   "source": [
    "# SET UP DATA - using sepal_lengths only for now...\n",
    "# List1 - used to train\n",
    "# List2 - to be predicted\n",
    "\n",
    "# need to keep their labels!\n",
    "sepal_lengths = [ (iris['sepal_length'][i], iris['class'][i]) for i in range(len(iris['sepal_length']))]\n",
    "# print(sepal_lengths)\n",
    "\n",
    "p = 0.6\n",
    "n = len(iris['sepal_length'])\n",
    "rets = divideSets(p, sepal_lengths)\n",
    "list1 = rets[0] \n",
    "list2 = rets[1] \n",
    "# print('List 1:\\n', list1)\n",
    "# print('\\nList 2:\\n', list2)\n",
    "\n",
    "# need to get the data in one array & the labels in another\n",
    "data1 = [t[0] for t in list1]\n",
    "print('\\nData (List1):\\n', data1)\n",
    "labels1 = [t[1] for t in list1]\n",
    "print('\\nLabels (List1):\\n', labels1)\n",
    "\n",
    "data2 = [t[0] for t in list2]\n",
    "print('\\nData (List2):\\n', data2)\n",
    "labels2 = [t[1] for t in list2]\n",
    "print('\\nLabels (List2):\\n', labels2)"
   ]
  },
  {
   "cell_type": "code",
   "execution_count": 13,
   "id": "9667f591-f125-42ab-a28c-85dc1c9a0e2c",
   "metadata": {},
   "outputs": [
    {
     "name": "stdout",
     "output_type": "stream",
     "text": [
      "[(5.0, 'Iris-setosa'), (6.9, 'Iris-virginica'), (6.4, 'Iris-virginica'), (7.3, 'Iris-virginica'), (6.4, 'Iris-virginica'), (5.0, 'Iris-setosa'), (5.1, 'Iris-setosa'), (5.5, 'Iris-versicolor'), (4.3, 'Iris-setosa'), (4.6, 'Iris-setosa'), (4.4, 'Iris-setosa'), (7.7, 'Iris-virginica'), (5.0, 'Iris-setosa'), (5.5, 'Iris-versicolor'), (5.1, 'Iris-setosa'), (6.1, 'Iris-versicolor'), (6.3, 'Iris-virginica'), (5.0, 'Iris-setosa'), (5.6, 'Iris-versicolor'), (5.7, 'Iris-versicolor'), (4.9, 'Iris-versicolor'), (6.1, 'Iris-versicolor'), (6.3, 'Iris-virginica'), (7.0, 'Iris-virginica'), (5.6, 'Iris-versicolor'), (7.2, 'Iris-virginica'), (6.3, 'Iris-virginica'), (6.0, 'Iris-virginica'), (5.7, 'Iris-versicolor'), (4.8, 'Iris-setosa'), (5.8, 'Iris-versicolor'), (7.7, 'Iris-virginica'), (6.7, 'Iris-virginica'), (5.2, 'Iris-versicolor'), (6.8, 'Iris-virginica'), (5.9, 'Iris-virginica'), (5.6, 'Iris-versicolor'), (6.6, 'Iris-virginica'), (5.8, 'Iris-versicolor'), (6.3, 'Iris-virginica'), (5.5, 'Iris-versicolor'), (5.4, 'Iris-setosa'), (4.9, 'Iris-versicolor'), (5.0, 'Iris-setosa'), (6.9, 'Iris-virginica'), (6.2, 'Iris-virginica'), (6.1, 'Iris-versicolor'), (5.4, 'Iris-setosa'), (4.6, 'Iris-setosa'), (4.7, 'Iris-setosa'), (5.0, 'Iris-setosa'), (4.8, 'Iris-setosa'), (6.0, 'Iris-virginica'), (5.5, 'Iris-versicolor'), (5.1, 'Iris-setosa'), (6.3, 'Iris-virginica'), (7.6, 'Iris-virginica'), (4.9, 'Iris-versicolor'), (6.3, 'Iris-virginica'), (7.4, 'Iris-virginica')]\n"
     ]
    }
   ],
   "source": [
    "k = 3\n",
    "knn = knnalg(k)\n",
    "\n",
    "knn.train(data1, labels1)\n",
    "\n",
    "predictions_labels = []\n",
    "for x in data2:\n",
    "    predictions_labels.append(knn.predict(x))\n",
    "    \n",
    "# want predictions with their points\n",
    "predictions = [ (data2[i], predictions_labels[i]) for i in range(len(predictions_labels))]\n",
    "print(predictions)"
   ]
  },
  {
   "cell_type": "markdown",
   "id": "32285167-292c-42ac-b784-50e79399707f",
   "metadata": {},
   "source": [
    "##### (a) Show some confusion matrices for different size testing versus training datasets."
   ]
  },
  {
   "cell_type": "code",
   "execution_count": 14,
   "id": "0a87be23-b6d7-4038-b6da-2a3ce4e1d1fb",
   "metadata": {},
   "outputs": [
    {
     "name": "stdout",
     "output_type": "stream",
     "text": [
      "True Labels:\n",
      " ['Iris-setosa', 'Iris-versicolor', 'Iris-virginica', 'Iris-virginica', 'Iris-virginica', 'Iris-versicolor', 'Iris-setosa', 'Iris-versicolor', 'Iris-setosa', 'Iris-setosa', 'Iris-setosa', 'Iris-virginica', 'Iris-setosa', 'Iris-versicolor', 'Iris-setosa', 'Iris-virginica', 'Iris-virginica', 'Iris-setosa', 'Iris-versicolor', 'Iris-versicolor', 'Iris-virginica', 'Iris-versicolor', 'Iris-versicolor', 'Iris-versicolor', 'Iris-virginica', 'Iris-virginica', 'Iris-versicolor', 'Iris-versicolor', 'Iris-versicolor', 'Iris-setosa', 'Iris-virginica', 'Iris-virginica', 'Iris-versicolor', 'Iris-setosa', 'Iris-virginica', 'Iris-versicolor', 'Iris-versicolor', 'Iris-versicolor', 'Iris-versicolor', 'Iris-virginica', 'Iris-versicolor', 'Iris-setosa', 'Iris-setosa', 'Iris-setosa', 'Iris-virginica', 'Iris-virginica', 'Iris-virginica', 'Iris-setosa', 'Iris-setosa', 'Iris-setosa', 'Iris-setosa', 'Iris-setosa', 'Iris-versicolor', 'Iris-setosa', 'Iris-setosa', 'Iris-versicolor', 'Iris-virginica', 'Iris-setosa', 'Iris-virginica', 'Iris-virginica']\n",
      "\n",
      "Predicted Labels:\n",
      " ['Iris-setosa', 'Iris-virginica', 'Iris-virginica', 'Iris-virginica', 'Iris-virginica', 'Iris-setosa', 'Iris-setosa', 'Iris-versicolor', 'Iris-setosa', 'Iris-setosa', 'Iris-setosa', 'Iris-virginica', 'Iris-setosa', 'Iris-versicolor', 'Iris-setosa', 'Iris-versicolor', 'Iris-virginica', 'Iris-setosa', 'Iris-versicolor', 'Iris-versicolor', 'Iris-versicolor', 'Iris-versicolor', 'Iris-virginica', 'Iris-virginica', 'Iris-versicolor', 'Iris-virginica', 'Iris-virginica', 'Iris-virginica', 'Iris-versicolor', 'Iris-setosa', 'Iris-versicolor', 'Iris-virginica', 'Iris-virginica', 'Iris-versicolor', 'Iris-virginica', 'Iris-virginica', 'Iris-versicolor', 'Iris-virginica', 'Iris-versicolor', 'Iris-virginica', 'Iris-versicolor', 'Iris-setosa', 'Iris-versicolor', 'Iris-setosa', 'Iris-virginica', 'Iris-virginica', 'Iris-versicolor', 'Iris-setosa', 'Iris-setosa', 'Iris-setosa', 'Iris-setosa', 'Iris-setosa', 'Iris-virginica', 'Iris-versicolor', 'Iris-setosa', 'Iris-virginica', 'Iris-virginica', 'Iris-versicolor', 'Iris-virginica', 'Iris-virginica']\n",
      "\n",
      "Confusion Matrix: \n",
      " [[17  4  0]\n",
      " [ 1  9 10]\n",
      " [ 0  5 14]]\n"
     ]
    }
   ],
   "source": [
    "# create confusion matrix with list2 vs. predictions\n",
    "# labels only: labels2 & predictions_labels\n",
    "print('True Labels:\\n', labels2)\n",
    "print('\\nPredicted Labels:\\n', predictions_labels)\n",
    "\n",
    "print('\\nConfusion Matrix: \\n', confusion_matrix(labels2, predictions_labels))"
   ]
  },
  {
   "cell_type": "markdown",
   "id": "10863c20-7c78-4e92-b8c5-6a57d5eaae33",
   "metadata": {},
   "source": [
    "##### (b) How does the accuracy change for different size training sets? Show how the accuracy changes within the training set and testing set separately.\n",
    "\n",
    "Dividing the set with a p of 0.1, 0.2, 0.3 ... , 0.9.\n",
    "(Earlier we used 60% as a standard)"
   ]
  },
  {
   "cell_type": "code",
   "execution_count": 15,
   "id": "9635aa08-8835-4fa1-84e2-dab850a5352c",
   "metadata": {},
   "outputs": [
    {
     "name": "stdout",
     "output_type": "stream",
     "text": [
      "\n",
      "p = 0.1\n",
      "Confusion Matrix: \n",
      " [[17 20 10]\n",
      " [ 1  5 36]\n",
      " [ 1 15 30]]\n",
      "\n",
      "p = 0.2\n",
      "Confusion Matrix: \n",
      " [[26 13  3]\n",
      " [ 3  9 26]\n",
      " [ 0  2 38]]\n",
      "\n",
      "p = 0.3\n",
      "Confusion Matrix: \n",
      " [[11 23  1]\n",
      " [ 0  9 31]\n",
      " [ 0  0 30]]\n",
      "\n",
      "p = 0.4\n",
      "Confusion Matrix: \n",
      " [[22  5  2]\n",
      " [ 4 11 19]\n",
      " [ 0  6 21]]\n",
      "\n",
      "p = 0.5\n",
      "Confusion Matrix: \n",
      " [[18  9  3]\n",
      " [ 2  6 18]\n",
      " [ 0  3 16]]\n",
      "\n",
      "p = 0.6\n",
      "Confusion Matrix: \n",
      " [[17  3  3]\n",
      " [ 0  5 11]\n",
      " [ 0  6 15]]\n",
      "\n",
      "p = 0.7\n",
      "Confusion Matrix: \n",
      " [[10  4  0]\n",
      " [ 1  5 14]\n",
      " [ 1  2  8]]\n",
      "\n",
      "p = 0.8\n",
      "Confusion Matrix: \n",
      " [[ 5  1  0]\n",
      " [ 0  4  5]\n",
      " [ 0  3 13]]\n",
      "\n",
      "p = 0.9\n",
      "Confusion Matrix: \n",
      " [[2 1 0]\n",
      " [0 0 4]\n",
      " [0 4 4]]\n"
     ]
    }
   ],
   "source": [
    "sepal_lengths = [ (iris['sepal_length'][i], iris['class'][i]) for i in range(len(iris['sepal_length']))]\n",
    "#print(sepal_lengths)\n",
    "\n",
    "p = 0.1\n",
    "n = len(iris['sepal_length'])\n",
    "for x in range(9):\n",
    "    rets = divideSets(p, sepal_lengths)\n",
    "    list1 = rets[0] \n",
    "    list2 = rets[1] \n",
    "\n",
    "    # need to get the data in one array & the labels in another\n",
    "    data1 = [t[0] for t in list1]\n",
    "    labels1 = [t[1] for t in list1]\n",
    "    data2 = [t[0] for t in list2]\n",
    "    labels2 = [t[1] for t in list2]\n",
    "\n",
    "    k = 3\n",
    "    knn = knnalg(k)\n",
    "    knn.train(data1, labels1)\n",
    "    predictions_labels = []\n",
    "    for x in data2:\n",
    "        predictions_labels.append(knn.predict(x))\n",
    "\n",
    "    # want predictions with their points\n",
    "    predictions = [ (data2[i], predictions_labels[i]) for i in range(len(predictions_labels))]\n",
    "    #print(predictions)\n",
    "    print(f'\\np = {p:1.1}')\n",
    "    print('Confusion Matrix: \\n', confusion_matrix(labels2, predictions_labels))\n",
    "    p += 0.1"
   ]
  },
  {
   "cell_type": "markdown",
   "id": "f7b790ac-84ef-4964-8dbf-a5c55ff8d430",
   "metadata": {},
   "source": [
    "##### (c) What if you repeat this process, keeping the training fraction p the same? Does the accuracy change drastically based on the “quality” of the testing set? How might you quantify this behavior?"
   ]
  },
  {
   "cell_type": "code",
   "execution_count": 16,
   "id": "ce919a96-c1b2-4c44-ac62-c913fea94218",
   "metadata": {},
   "outputs": [
    {
     "name": "stdout",
     "output_type": "stream",
     "text": [
      "\n",
      "p = 0.6\n",
      "Confusion Matrix: \n",
      " [[15  5  0]\n",
      " [ 3  6  8]\n",
      " [ 1  4 18]]\n",
      "\n",
      "p = 0.6\n",
      "Confusion Matrix: \n",
      " [[14  3  1]\n",
      " [ 2  5 12]\n",
      " [ 1  5 17]]\n",
      "\n",
      "p = 0.6\n",
      "Confusion Matrix: \n",
      " [[14  4  4]\n",
      " [ 1  4 11]\n",
      " [ 0  5 17]]\n",
      "\n",
      "p = 0.6\n",
      "Confusion Matrix: \n",
      " [[14  6  0]\n",
      " [ 2 10  5]\n",
      " [ 0  8 15]]\n",
      "\n",
      "p = 0.6\n",
      "Confusion Matrix: \n",
      " [[12  3  0]\n",
      " [ 3  7 11]\n",
      " [ 0  8 16]]\n"
     ]
    }
   ],
   "source": [
    "p = 0.6\n",
    "n = len(iris['sepal_length'])\n",
    "for x in range(5):\n",
    "    rets = divideSets(p, sepal_lengths)\n",
    "    list1 = rets[0] \n",
    "    list2 = rets[1] \n",
    "\n",
    "    # need to get the data in one array & the labels in another\n",
    "    data1 = [t[0] for t in list1]\n",
    "    labels1 = [t[1] for t in list1]\n",
    "    data2 = [t[0] for t in list2]\n",
    "    labels2 = [t[1] for t in list2]\n",
    "\n",
    "    k = 3\n",
    "    knn = knnalg(k)\n",
    "    knn.train(data1, labels1)\n",
    "    predictions_labels = []\n",
    "    for x in data2:\n",
    "        predictions_labels.append(knn.predict(x))\n",
    "\n",
    "    # want predictions with their points\n",
    "    predictions = [ (data2[i], predictions_labels[i]) for i in range(len(predictions_labels))]\n",
    "    #print(predictions)\n",
    "    print(f'\\np = {p:1.1}')\n",
    "    print('Confusion Matrix: \\n', confusion_matrix(labels2, predictions_labels))"
   ]
  },
  {
   "cell_type": "markdown",
   "id": "c1d071ba-cd42-4828-831f-c0553c393fc8",
   "metadata": {},
   "source": [
    "# 6\n",
    "##### Try using the adult dataset to also do some prediction of income level (more or less than $50k)."
   ]
  },
  {
   "cell_type": "code",
   "execution_count": 18,
   "id": "d3167f61-ad30-44fb-9dd4-f2a0083b9593",
   "metadata": {},
   "outputs": [],
   "source": [
    "adults = pd.read_csv('data/adult.data', header=None, skipinitialspace = True,\n",
    "         names = ['age', 'workclass', 'fnlwgt', 'education', 'education-num',\n",
    "                 'marital-status', 'occupation', 'relationship', 'race', 'sex',\n",
    "                 'capital-gain', 'capital-loss', 'hours-per-week', 'native-country', 'income']\n",
    ")"
   ]
  },
  {
   "cell_type": "code",
   "execution_count": 19,
   "id": "fdbaee1c-8ad9-4466-8351-a15af0e11ca1",
   "metadata": {},
   "outputs": [
    {
     "data": {
      "text/plain": [
       "32561"
      ]
     },
     "execution_count": 19,
     "metadata": {},
     "output_type": "execute_result"
    }
   ],
   "source": [
    "len(adults['education-num'])"
   ]
  },
  {
   "cell_type": "code",
   "execution_count": 20,
   "id": "999d7438-3d03-4f61-831d-9b55f0970c6d",
   "metadata": {},
   "outputs": [
    {
     "name": "stderr",
     "output_type": "stream",
     "text": [
      "100%|██████████| 400/400 [00:02<00:00, 164.71it/s]"
     ]
    },
    {
     "name": "stdout",
     "output_type": "stream",
     "text": [
      "\n",
      "p = 0.6\n",
      "Confusion Matrix: \n",
      " [[297   2]\n",
      " [ 91  10]]\n"
     ]
    },
    {
     "name": "stderr",
     "output_type": "stream",
     "text": [
      "\n"
     ]
    }
   ],
   "source": [
    "# predict income based on education-num\n",
    "education_income = [ (adults['education-num'][i], adults['income'][i]) for i in range(1000)]\n",
    "#print(education_income)\n",
    "\n",
    "p = 0.6\n",
    "n = len(adults['education-num'])\n",
    "rets = divideSets(p, education_income)\n",
    "list1 = rets[0] \n",
    "list2 = rets[1] \n",
    "\n",
    "# need to get the data in one array & the labels in another\n",
    "data1 = [t[0] for t in list1]\n",
    "labels1 = [t[1] for t in list1]\n",
    "#print('\\nData (List1):\\n', data1)\n",
    "#print('\\nLabels (List1):\\n', labels1)\n",
    "\n",
    "data2 = [t[0] for t in list2]\n",
    "labels2 = [t[1] for t in list2]\n",
    "#print('\\nData (List2):\\n', data2)\n",
    "#print('\\nLabels (List2):\\n', labels2)\n",
    "\n",
    "k = 3\n",
    "knn = knnalg(k)\n",
    "knn.train(data1, labels1)\n",
    "predictions_labels = []\n",
    "for i in tqdm.tqdm(range(len(data2))):\n",
    "    predictions_labels.append(knn.predict(data2[i]))\n",
    "\n",
    "# want predictions with their points\n",
    "predictions = [ (data2[i], predictions_labels[i]) for i in range(len(predictions_labels))]\n",
    "#print(predictions)\n",
    "print(f'\\np = {p:1.1}')\n",
    "print('Confusion Matrix: \\n', confusion_matrix(labels2, predictions_labels))"
   ]
  },
  {
   "cell_type": "markdown",
   "id": "fd19093d-50a2-4963-8550-c320ac47465c",
   "metadata": {},
   "source": [
    "When we ran on the entire adults data set, len(adults['education-num'])\n",
    "\n",
    "p = 0.6\n",
    "\n",
    "Confusion Matrix: \n",
    " [[9900    0]\n",
    " [3125    0]]"
   ]
  },
  {
   "cell_type": "markdown",
   "id": "b48775f2-3d1b-4fcb-b9c6-63a563d4a83e",
   "metadata": {},
   "source": [
    "##### (a) How can you try to quantify the “distance” between two adults? Write some small python functions to try and transform this data into something that can be used by the kNN classifier. Try a couple different approaches, report their different behaviors and illustrate using learning curves, confusion matrices, and possibly some statistical measurements."
   ]
  },
  {
   "cell_type": "code",
   "execution_count": 21,
   "id": "ded9c153-7586-4839-b1fc-592fd8ca19aa",
   "metadata": {},
   "outputs": [
    {
     "data": {
      "text/html": [
       "<div>\n",
       "<style scoped>\n",
       "    .dataframe tbody tr th:only-of-type {\n",
       "        vertical-align: middle;\n",
       "    }\n",
       "\n",
       "    .dataframe tbody tr th {\n",
       "        vertical-align: top;\n",
       "    }\n",
       "\n",
       "    .dataframe thead th {\n",
       "        text-align: right;\n",
       "    }\n",
       "</style>\n",
       "<table border=\"1\" class=\"dataframe\">\n",
       "  <thead>\n",
       "    <tr style=\"text-align: right;\">\n",
       "      <th></th>\n",
       "      <th>age</th>\n",
       "      <th>workclass</th>\n",
       "      <th>fnlwgt</th>\n",
       "      <th>education</th>\n",
       "      <th>education-num</th>\n",
       "      <th>marital-status</th>\n",
       "      <th>occupation</th>\n",
       "      <th>relationship</th>\n",
       "      <th>race</th>\n",
       "      <th>sex</th>\n",
       "      <th>capital-gain</th>\n",
       "      <th>capital-loss</th>\n",
       "      <th>hours-per-week</th>\n",
       "      <th>native-country</th>\n",
       "      <th>income</th>\n",
       "    </tr>\n",
       "  </thead>\n",
       "  <tbody>\n",
       "    <tr>\n",
       "      <th>0</th>\n",
       "      <td>39</td>\n",
       "      <td>State-gov</td>\n",
       "      <td>77516</td>\n",
       "      <td>Bachelors</td>\n",
       "      <td>13</td>\n",
       "      <td>Never-married</td>\n",
       "      <td>Adm-clerical</td>\n",
       "      <td>Not-in-family</td>\n",
       "      <td>White</td>\n",
       "      <td>Male</td>\n",
       "      <td>2174</td>\n",
       "      <td>0</td>\n",
       "      <td>40</td>\n",
       "      <td>United-States</td>\n",
       "      <td>&lt;=50K</td>\n",
       "    </tr>\n",
       "    <tr>\n",
       "      <th>1</th>\n",
       "      <td>50</td>\n",
       "      <td>Self-emp-not-inc</td>\n",
       "      <td>83311</td>\n",
       "      <td>Bachelors</td>\n",
       "      <td>13</td>\n",
       "      <td>Married-civ-spouse</td>\n",
       "      <td>Exec-managerial</td>\n",
       "      <td>Husband</td>\n",
       "      <td>White</td>\n",
       "      <td>Male</td>\n",
       "      <td>0</td>\n",
       "      <td>0</td>\n",
       "      <td>13</td>\n",
       "      <td>United-States</td>\n",
       "      <td>&lt;=50K</td>\n",
       "    </tr>\n",
       "    <tr>\n",
       "      <th>2</th>\n",
       "      <td>38</td>\n",
       "      <td>Private</td>\n",
       "      <td>215646</td>\n",
       "      <td>HS-grad</td>\n",
       "      <td>9</td>\n",
       "      <td>Divorced</td>\n",
       "      <td>Handlers-cleaners</td>\n",
       "      <td>Not-in-family</td>\n",
       "      <td>White</td>\n",
       "      <td>Male</td>\n",
       "      <td>0</td>\n",
       "      <td>0</td>\n",
       "      <td>40</td>\n",
       "      <td>United-States</td>\n",
       "      <td>&lt;=50K</td>\n",
       "    </tr>\n",
       "    <tr>\n",
       "      <th>3</th>\n",
       "      <td>53</td>\n",
       "      <td>Private</td>\n",
       "      <td>234721</td>\n",
       "      <td>11th</td>\n",
       "      <td>7</td>\n",
       "      <td>Married-civ-spouse</td>\n",
       "      <td>Handlers-cleaners</td>\n",
       "      <td>Husband</td>\n",
       "      <td>Black</td>\n",
       "      <td>Male</td>\n",
       "      <td>0</td>\n",
       "      <td>0</td>\n",
       "      <td>40</td>\n",
       "      <td>United-States</td>\n",
       "      <td>&lt;=50K</td>\n",
       "    </tr>\n",
       "    <tr>\n",
       "      <th>4</th>\n",
       "      <td>28</td>\n",
       "      <td>Private</td>\n",
       "      <td>338409</td>\n",
       "      <td>Bachelors</td>\n",
       "      <td>13</td>\n",
       "      <td>Married-civ-spouse</td>\n",
       "      <td>Prof-specialty</td>\n",
       "      <td>Wife</td>\n",
       "      <td>Black</td>\n",
       "      <td>Female</td>\n",
       "      <td>0</td>\n",
       "      <td>0</td>\n",
       "      <td>40</td>\n",
       "      <td>Cuba</td>\n",
       "      <td>&lt;=50K</td>\n",
       "    </tr>\n",
       "  </tbody>\n",
       "</table>\n",
       "</div>"
      ],
      "text/plain": [
       "   age         workclass  fnlwgt  education  education-num  \\\n",
       "0   39         State-gov   77516  Bachelors             13   \n",
       "1   50  Self-emp-not-inc   83311  Bachelors             13   \n",
       "2   38           Private  215646    HS-grad              9   \n",
       "3   53           Private  234721       11th              7   \n",
       "4   28           Private  338409  Bachelors             13   \n",
       "\n",
       "       marital-status         occupation   relationship   race     sex  \\\n",
       "0       Never-married       Adm-clerical  Not-in-family  White    Male   \n",
       "1  Married-civ-spouse    Exec-managerial        Husband  White    Male   \n",
       "2            Divorced  Handlers-cleaners  Not-in-family  White    Male   \n",
       "3  Married-civ-spouse  Handlers-cleaners        Husband  Black    Male   \n",
       "4  Married-civ-spouse     Prof-specialty           Wife  Black  Female   \n",
       "\n",
       "   capital-gain  capital-loss  hours-per-week native-country income  \n",
       "0          2174             0              40  United-States  <=50K  \n",
       "1             0             0              13  United-States  <=50K  \n",
       "2             0             0              40  United-States  <=50K  \n",
       "3             0             0              40  United-States  <=50K  \n",
       "4             0             0              40           Cuba  <=50K  "
      ]
     },
     "execution_count": 21,
     "metadata": {},
     "output_type": "execute_result"
    }
   ],
   "source": [
    "adults.head()"
   ]
  },
  {
   "cell_type": "code",
   "execution_count": 22,
   "id": "4e1fcccc-0498-499e-aa93-bbecbe42c0af",
   "metadata": {},
   "outputs": [
    {
     "name": "stdout",
     "output_type": "stream",
     "text": [
      "Occupations and their ranks based on their probability to have an income >50k:\n",
      "\n",
      "[('Priv-house-serv', 0), ('Other-service', 1), ('Handlers-cleaners', 2), ('?', 3), ('Armed-Forces', 4), ('Farming-fishing', 5), ('Machine-op-inspct', 6), ('Adm-clerical', 7), ('Transport-moving', 8), ('Craft-repair', 9), ('Sales', 10), ('Tech-support', 11), ('Protective-serv', 12), ('Prof-specialty', 13), ('Exec-managerial', 14)]\n"
     ]
    }
   ],
   "source": [
    "# using our probability from lab 4, quantify each occupation\n",
    "# probability gives each occupation a weight\n",
    "# scale the occupations based one which are more likely to earn >50k\n",
    "\n",
    "num_occupations = len(adults['occupation'].unique())\n",
    "\n",
    "# loop through all occupations\n",
    "probabilities = [] # holds occupations & their probabilities\n",
    "for i in adults['occupation'].unique():\n",
    "    current = adults[ (adults['occupation'] == i) & (adults['income'] == '>50K') ]\n",
    "    #probability person works in occupation ___ & has income >50k\n",
    "    pAnB = len(current) / len(adults)\n",
    "    B = adults[ (adults['occupation'] == i) ]\n",
    "    pB = len(B) / len(adults)\n",
    "    pAgivenB = pAnB / pB\n",
    "    probabilities.append((pAgivenB, i))\n",
    "    \n",
    "probabilities_sorted = sorted(probabilities)\n",
    "#print(probabilities_sorted)\n",
    "\n",
    "ranks = []\n",
    "count = 0\n",
    "for p in probabilities_sorted:\n",
    "    ranks.append((p[1], count))\n",
    "    count += 1\n",
    "\n",
    "print('Occupations and their ranks based on their probability to have an income >50k:\\n')\n",
    "print(ranks)"
   ]
  },
  {
   "cell_type": "code",
   "execution_count": 23,
   "id": "f67bea0a-04a6-4d63-ae0f-64f921f47881",
   "metadata": {},
   "outputs": [],
   "source": [
    "# replace occupations with their ranks in that adult subset\n",
    "occupations = adults['occupation']\n",
    "#print(occupations)\n",
    "\n",
    "# go through each rank tuple\n",
    "for job in ranks:\n",
    "    # replace occupation string with its rank\n",
    "    occupations = occupations.replace(job[0], job[1])\n",
    "    \n",
    "#print(occupations)"
   ]
  },
  {
   "cell_type": "code",
   "execution_count": 24,
   "id": "e1c62e9a-0a1a-44b1-ad5f-045c5e839993",
   "metadata": {},
   "outputs": [
    {
     "data": {
      "text/html": [
       "<div>\n",
       "<style scoped>\n",
       "    .dataframe tbody tr th:only-of-type {\n",
       "        vertical-align: middle;\n",
       "    }\n",
       "\n",
       "    .dataframe tbody tr th {\n",
       "        vertical-align: top;\n",
       "    }\n",
       "\n",
       "    .dataframe thead th {\n",
       "        text-align: right;\n",
       "    }\n",
       "</style>\n",
       "<table border=\"1\" class=\"dataframe\">\n",
       "  <thead>\n",
       "    <tr style=\"text-align: right;\">\n",
       "      <th></th>\n",
       "      <th>age</th>\n",
       "      <th>workclass</th>\n",
       "      <th>fnlwgt</th>\n",
       "      <th>education</th>\n",
       "      <th>education-num</th>\n",
       "      <th>marital-status</th>\n",
       "      <th>occupation</th>\n",
       "      <th>relationship</th>\n",
       "      <th>race</th>\n",
       "      <th>sex</th>\n",
       "      <th>capital-gain</th>\n",
       "      <th>capital-loss</th>\n",
       "      <th>hours-per-week</th>\n",
       "      <th>native-country</th>\n",
       "      <th>income</th>\n",
       "      <th>occupation_num</th>\n",
       "    </tr>\n",
       "  </thead>\n",
       "  <tbody>\n",
       "    <tr>\n",
       "      <th>0</th>\n",
       "      <td>39</td>\n",
       "      <td>State-gov</td>\n",
       "      <td>77516</td>\n",
       "      <td>Bachelors</td>\n",
       "      <td>13</td>\n",
       "      <td>Never-married</td>\n",
       "      <td>Adm-clerical</td>\n",
       "      <td>Not-in-family</td>\n",
       "      <td>White</td>\n",
       "      <td>Male</td>\n",
       "      <td>2174</td>\n",
       "      <td>0</td>\n",
       "      <td>40</td>\n",
       "      <td>United-States</td>\n",
       "      <td>&lt;=50K</td>\n",
       "      <td>7</td>\n",
       "    </tr>\n",
       "    <tr>\n",
       "      <th>1</th>\n",
       "      <td>50</td>\n",
       "      <td>Self-emp-not-inc</td>\n",
       "      <td>83311</td>\n",
       "      <td>Bachelors</td>\n",
       "      <td>13</td>\n",
       "      <td>Married-civ-spouse</td>\n",
       "      <td>Exec-managerial</td>\n",
       "      <td>Husband</td>\n",
       "      <td>White</td>\n",
       "      <td>Male</td>\n",
       "      <td>0</td>\n",
       "      <td>0</td>\n",
       "      <td>13</td>\n",
       "      <td>United-States</td>\n",
       "      <td>&lt;=50K</td>\n",
       "      <td>14</td>\n",
       "    </tr>\n",
       "    <tr>\n",
       "      <th>2</th>\n",
       "      <td>38</td>\n",
       "      <td>Private</td>\n",
       "      <td>215646</td>\n",
       "      <td>HS-grad</td>\n",
       "      <td>9</td>\n",
       "      <td>Divorced</td>\n",
       "      <td>Handlers-cleaners</td>\n",
       "      <td>Not-in-family</td>\n",
       "      <td>White</td>\n",
       "      <td>Male</td>\n",
       "      <td>0</td>\n",
       "      <td>0</td>\n",
       "      <td>40</td>\n",
       "      <td>United-States</td>\n",
       "      <td>&lt;=50K</td>\n",
       "      <td>2</td>\n",
       "    </tr>\n",
       "    <tr>\n",
       "      <th>3</th>\n",
       "      <td>53</td>\n",
       "      <td>Private</td>\n",
       "      <td>234721</td>\n",
       "      <td>11th</td>\n",
       "      <td>7</td>\n",
       "      <td>Married-civ-spouse</td>\n",
       "      <td>Handlers-cleaners</td>\n",
       "      <td>Husband</td>\n",
       "      <td>Black</td>\n",
       "      <td>Male</td>\n",
       "      <td>0</td>\n",
       "      <td>0</td>\n",
       "      <td>40</td>\n",
       "      <td>United-States</td>\n",
       "      <td>&lt;=50K</td>\n",
       "      <td>2</td>\n",
       "    </tr>\n",
       "    <tr>\n",
       "      <th>4</th>\n",
       "      <td>28</td>\n",
       "      <td>Private</td>\n",
       "      <td>338409</td>\n",
       "      <td>Bachelors</td>\n",
       "      <td>13</td>\n",
       "      <td>Married-civ-spouse</td>\n",
       "      <td>Prof-specialty</td>\n",
       "      <td>Wife</td>\n",
       "      <td>Black</td>\n",
       "      <td>Female</td>\n",
       "      <td>0</td>\n",
       "      <td>0</td>\n",
       "      <td>40</td>\n",
       "      <td>Cuba</td>\n",
       "      <td>&lt;=50K</td>\n",
       "      <td>13</td>\n",
       "    </tr>\n",
       "  </tbody>\n",
       "</table>\n",
       "</div>"
      ],
      "text/plain": [
       "   age         workclass  fnlwgt  education  education-num  \\\n",
       "0   39         State-gov   77516  Bachelors             13   \n",
       "1   50  Self-emp-not-inc   83311  Bachelors             13   \n",
       "2   38           Private  215646    HS-grad              9   \n",
       "3   53           Private  234721       11th              7   \n",
       "4   28           Private  338409  Bachelors             13   \n",
       "\n",
       "       marital-status         occupation   relationship   race     sex  \\\n",
       "0       Never-married       Adm-clerical  Not-in-family  White    Male   \n",
       "1  Married-civ-spouse    Exec-managerial        Husband  White    Male   \n",
       "2            Divorced  Handlers-cleaners  Not-in-family  White    Male   \n",
       "3  Married-civ-spouse  Handlers-cleaners        Husband  Black    Male   \n",
       "4  Married-civ-spouse     Prof-specialty           Wife  Black  Female   \n",
       "\n",
       "   capital-gain  capital-loss  hours-per-week native-country income  \\\n",
       "0          2174             0              40  United-States  <=50K   \n",
       "1             0             0              13  United-States  <=50K   \n",
       "2             0             0              40  United-States  <=50K   \n",
       "3             0             0              40  United-States  <=50K   \n",
       "4             0             0              40           Cuba  <=50K   \n",
       "\n",
       "   occupation_num  \n",
       "0               7  \n",
       "1              14  \n",
       "2               2  \n",
       "3               2  \n",
       "4              13  "
      ]
     },
     "execution_count": 24,
     "metadata": {},
     "output_type": "execute_result"
    }
   ],
   "source": [
    "# add occupation-num column\n",
    "adults = adults.assign(occupation_num = occupations)\n",
    "adults.head()"
   ]
  },
  {
   "cell_type": "code",
   "execution_count": 28,
   "id": "98f1287c-84d3-44ee-9e45-fc716930bdb2",
   "metadata": {},
   "outputs": [
    {
     "name": "stderr",
     "output_type": "stream",
     "text": [
      "100%|██████████| 4000/4000 [03:47<00:00, 17.55it/s]"
     ]
    },
    {
     "name": "stdout",
     "output_type": "stream",
     "text": [
      "\n",
      "p = 0.6\n",
      "Confusion Matrix: \n",
      " [[3007    0]\n",
      " [ 993    0]]\n"
     ]
    },
    {
     "name": "stderr",
     "output_type": "stream",
     "text": [
      "\n"
     ]
    }
   ],
   "source": [
    "occupation_income = [ (adults['occupation_num'][i], adults['income'][i]) for i in range(10000)]\n",
    "#print(occupation_income)\n",
    "\n",
    "p = 0.6\n",
    "n = len(occupation_income)\n",
    "rets = divideSets(p, occupation_income)\n",
    "list1 = rets[0] \n",
    "list2 = rets[1] \n",
    "\n",
    "# need to get the data in one array & the labels in another\n",
    "data1 = [t[0] for t in list1]\n",
    "labels1 = [t[1] for t in list1]\n",
    "#print('\\nData (List1):\\n', data1)\n",
    "#print('\\nLabels (List1):\\n', labels1)\n",
    "\n",
    "data2 = [t[0] for t in list2]\n",
    "labels2 = [t[1] for t in list2]\n",
    "#print('\\nData (List2):\\n', data2)\n",
    "#print('\\nLabels (List2):\\n', labels2)\n",
    "\n",
    "k = 3\n",
    "knn = knnalg(k)\n",
    "knn.train(data1, labels1)\n",
    "predictions_labels = []\n",
    "for i in tqdm.tqdm(range(len(data2))):\n",
    "    predictions_labels.append(knn.predict(data2[i]))\n",
    "\n",
    "# want predictions with their points\n",
    "predictions = [ (data2[i], predictions_labels[i]) for i in range(len(predictions_labels))]\n",
    "#print(predictions)\n",
    "print(f'\\np = {p:1.1}')\n",
    "print('Confusion Matrix: \\n', confusion_matrix(labels2, predictions_labels))"
   ]
  },
  {
   "cell_type": "markdown",
   "id": "a375469c-37d4-44ec-b0b6-7f4710593f5e",
   "metadata": {},
   "source": [
    "##### (b) Are there other “labels” within the dataset that can be effectively learned by the kNN classifier?"
   ]
  },
  {
   "cell_type": "code",
   "execution_count": 26,
   "id": "cab9cfe5-c8ec-4d89-baf9-3fc205fb91f9",
   "metadata": {},
   "outputs": [
    {
     "name": "stderr",
     "output_type": "stream",
     "text": [
      "100%|██████████| 400/400 [00:02<00:00, 168.74it/s]"
     ]
    },
    {
     "name": "stdout",
     "output_type": "stream",
     "text": [
      "\n",
      "p = 0.6\n",
      "Confusion Matrix: \n",
      " [[288  18]\n",
      " [ 87   7]]\n"
     ]
    },
    {
     "name": "stderr",
     "output_type": "stream",
     "text": [
      "\n"
     ]
    }
   ],
   "source": [
    "# hours-per-week to predict income\n",
    "hours = [(adults['hours-per-week'][i], adults['income'][i]) for i in range(1000)]\n",
    "#print(hours)\n",
    "\n",
    "p = 0.6\n",
    "n = len(adults['hours-per-week'])\n",
    "rets = divideSets(p, hours)\n",
    "list1 = rets[0] \n",
    "list2 = rets[1] \n",
    "\n",
    "# need to get the data in one array & the labels in another\n",
    "data1 = [t[0] for t in list1]\n",
    "labels1 = [t[1] for t in list1]\n",
    "#print('\\nData (List1):\\n', data1)\n",
    "#print('\\nLabels (List1):\\n', labels1)\n",
    "\n",
    "data2 = [t[0] for t in list2]\n",
    "labels2 = [t[1] for t in list2]\n",
    "#print('\\nData (List2):\\n', data2)\n",
    "#print('\\nLabels (List2):\\n', labels2)\n",
    "\n",
    "k = 3\n",
    "knn = knnalg(k)\n",
    "knn.train(data1, labels1)\n",
    "predictions_labels = []\n",
    "for i in tqdm.tqdm(range(len(data2))):\n",
    "    predictions_labels.append(knn.predict(data2[i]))\n",
    "\n",
    "# want predictions with their points\n",
    "predictions = [ (data2[i], predictions_labels[i]) for i in range(len(predictions_labels))]\n",
    "#print(predictions)\n",
    "print(f'\\np = {p:1.1}')\n",
    "print('Confusion Matrix: \\n', confusion_matrix(labels2, predictions_labels))"
   ]
  },
  {
   "cell_type": "markdown",
   "id": "2ae54baf-ed0c-436b-9b5b-e48474c189af",
   "metadata": {},
   "source": [
    "In the above confusion matrices for the adults set, we need to keep in mind why little to no points are being predicted to be >50k. \n",
    "\n",
    "Look at the instances of <=50k vs. >50k below, there are many more instances of <=50K in general so the above results are not necessarily suprising. Especially since the above are only being trained and predicted on 1000 data points instead of all 32000+."
   ]
  },
  {
   "cell_type": "code",
   "execution_count": 27,
   "id": "759db147-bef6-46e1-a43a-15583a756541",
   "metadata": {},
   "outputs": [
    {
     "data": {
      "text/plain": [
       "<=50K    24720\n",
       ">50K      7841\n",
       "Name: income, dtype: int64"
      ]
     },
     "execution_count": 27,
     "metadata": {},
     "output_type": "execute_result"
    }
   ],
   "source": [
    "adults['income'].value_counts()"
   ]
  }
 ],
 "metadata": {
  "kernelspec": {
   "display_name": "Python 3 (ipykernel)",
   "language": "python",
   "name": "python3"
  },
  "language_info": {
   "codemirror_mode": {
    "name": "ipython",
    "version": 3
   },
   "file_extension": ".py",
   "mimetype": "text/x-python",
   "name": "python",
   "nbconvert_exporter": "python",
   "pygments_lexer": "ipython3",
   "version": "3.8.12"
  }
 },
 "nbformat": 4,
 "nbformat_minor": 5
}
