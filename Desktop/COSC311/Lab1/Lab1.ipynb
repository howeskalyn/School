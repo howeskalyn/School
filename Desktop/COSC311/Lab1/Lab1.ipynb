{
 "cells": [
  {
   "cell_type": "markdown",
   "source": [
    "# Lab 1\n",
    "\n",
    "Kalyn Howes\n",
    "\n",
    "9.13.21\n",
    "\n",
    "Familiarity with Python & Jupyter Notebook"
   ],
   "metadata": {}
  },
  {
   "cell_type": "code",
   "execution_count": 188,
   "source": [
    "artists = [\n",
    "{ \"id\": 0, \"name\": \"Susan Tedeschi\" },\n",
    "{ \"id\": 1, \"name\": \"Bob Dylan\" },\n",
    "{ \"id\": 2, \"name\": \"Harry Styles\" },\n",
    "{ \"id\": 3, \"name\": \"Hippo Campus\" },\n",
    "{ \"id\": 4, \"name\": \"Tame Impala\" },\n",
    "{ \"id\": 5, \"name\": \"Greta Van Fleet\" },\n",
    "{ \"id\": 6, \"name\": \"Tom Petty\" },\n",
    "{ \"id\": 7, \"name\": \"Drake\" },\n",
    "{ \"id\": 8, \"name\": \"Kanye West\" },\n",
    "{ \"id\": 9, \"name\": \"John Mayer\" },\n",
    "]"
   ],
   "outputs": [],
   "metadata": {}
  },
  {
   "cell_type": "code",
   "execution_count": 189,
   "source": [
    "songs = [\n",
    "{\"id\": 0, \"name\": \"Watermelon Sugar\" },\n",
    "{\"id\": 1, \"name\": \"Don't Think Twice, It's Alright\" },\n",
    "{\"id\": 2, \"name\": \"It Hurt So Bad\" },\n",
    "{\"id\": 3, \"name\": \"Simple Twist of Fate\" },\n",
    "{\"id\": 4, \"name\": \"Free Falling\" },\n",
    "{\"id\": 5, \"name\": \"Buttercup\" },\n",
    "{\"id\": 6, \"name\": \"Borderline\" },\n",
    "{\"id\": 7, \"name\": \"Highway Tune\" },\n",
    "{\"id\": 8, \"name\": \"One Dance\" },\n",
    "{\"id\": 9, \"name\": \"Stronger\" },\n",
    "{\"id\": 10, \"name\": \"New Light\" },\n",
    "]"
   ],
   "outputs": [],
   "metadata": {}
  },
  {
   "cell_type": "code",
   "execution_count": 190,
   "source": [
    "artists_songs = [\n",
    "(0, 2), (1, 1), (1, 3),\n",
    "(2, 0), (3, 5), (4, 6),\n",
    "(5, 7), (6, 4), (7, 8),\n",
    "(8, 9), (9, 4), (9, 10)\n",
    "]"
   ],
   "outputs": [],
   "metadata": {}
  },
  {
   "cell_type": "code",
   "execution_count": 191,
   "source": [
    "# takes the name of a song as an argument and returns a list of names of artists who have covered that song\n",
    "# (In class method)\n",
    "def who_covered(songname):\n",
    "    artist_list = [] # list of artists\n",
    "    songname_id = 0 # temp hold\n",
    "\n",
    "    # find songname id first\n",
    "    for i in range(len(songs)):\n",
    "        if songs[i]['name'] == songname:\n",
    "            songname_id = songs[i]['id']\n",
    "            break\n",
    "    \n",
    "    # find artists ids\n",
    "    artist_ids = [s[0] for s in artists_songs if s[1] == songname_id]\n",
    "    \n",
    "    for id in artist_ids:  \n",
    "        for a in artists: # finds artist name\n",
    "            if a['id'] == id:\n",
    "                artist_list.append(a['name']) # must use .append(), NOT +=\n",
    "            \n",
    "    return artist_list\n",
    "    "
   ],
   "outputs": [],
   "metadata": {}
  },
  {
   "cell_type": "code",
   "execution_count": 192,
   "source": [
    "print(who_covered(\"Free Falling\"))"
   ],
   "outputs": [
    {
     "output_type": "stream",
     "name": "stdout",
     "text": [
      "['Tom Petty', 'John Mayer']\n"
     ]
    }
   ],
   "metadata": {}
  },
  {
   "cell_type": "code",
   "execution_count": 193,
   "source": [
    "# takes an artist name and returns a list of songs they share with other artists\n",
    "# (my method)\n",
    "def shared_songs(artistname):\n",
    "    song_list = [] # list of artists\n",
    "    artistname_id = 0 # temp hold\n",
    "\n",
    "    # find artistname's id number\n",
    "    for i in artists:\n",
    "        if i['name'] == artistname: # this conditional only works with ==, not is\n",
    "            artistname_id += i['id']\n",
    "            \n",
    "    for t in artists_songs:\n",
    "        if artistname_id == t[0]: # if artistname id is equal to current tuple's artist id\n",
    "            song_list.append(songs[t[1]]['name']) # add name to new list - need append\n",
    "            \n",
    "    return song_list"
   ],
   "outputs": [],
   "metadata": {}
  },
  {
   "cell_type": "code",
   "execution_count": 194,
   "source": [
    "print(shared_songs(\"John Mayer\"))"
   ],
   "outputs": [
    {
     "output_type": "stream",
     "name": "stdout",
     "text": [
      "['Free Falling', 'New Light']\n"
     ]
    }
   ],
   "metadata": {
    "scrolled": true
   }
  },
  {
   "cell_type": "code",
   "execution_count": 195,
   "source": [
    "# sort a list of tuples (slowly...) by the second item - biggest to smallest\n",
    "def sort_tuple(T):  \n",
    "    for i in range(0, len(T)): \n",
    "        for j in range(0, len(T)-i-1): \n",
    "            if (T[j][1] < T[j + 1][1]): \n",
    "                temp = T[j] \n",
    "                T[j]= T[j + 1] \n",
    "                T[j + 1]= temp \n",
    "    return T "
   ],
   "outputs": [],
   "metadata": {}
  },
  {
   "cell_type": "code",
   "execution_count": 196,
   "source": [
    "# prints out – in order from most to least covers – the name and number of times each song has been covered\n",
    "def song_popularity():\n",
    "    \n",
    "    song_frequency = [] # store song_id with its frequency in artists_songs in a tuple\n",
    "    current_song_id = 0\n",
    "    \n",
    "    # for each song\n",
    "    for s in range(len(songs)):\n",
    "        count = 0 # reset the counter\n",
    "        \n",
    "        # for each tuple, count how many times the current_song_id shows\n",
    "        for t in artists_songs:\n",
    "            if (t[1] == current_song_id):\n",
    "                count += 1\n",
    "            \n",
    "        # add current_song_id and count to a tuple\n",
    "        song_frequency.append((current_song_id, count))\n",
    "        current_song_id += 1 # increment @ end\n",
    "        \n",
    "    sort_tuple(song_frequency)\n",
    "    \n",
    "    for t in song_frequency:\n",
    "        songname = songs[t[0]]['name']\n",
    "        print(f'{songname} was covered {t[1]} time(s)')"
   ],
   "outputs": [],
   "metadata": {}
  },
  {
   "cell_type": "code",
   "execution_count": 197,
   "source": [
    "song_popularity()"
   ],
   "outputs": [
    {
     "output_type": "stream",
     "name": "stdout",
     "text": [
      "Free Falling was covered 2 time(s)\n",
      "Watermelon Sugar was covered 1 time(s)\n",
      "Don't Think Twice, It's Alright was covered 1 time(s)\n",
      "It Hurt So Bad was covered 1 time(s)\n",
      "Simple Twist of Fate was covered 1 time(s)\n",
      "Buttercup was covered 1 time(s)\n",
      "Borderline was covered 1 time(s)\n",
      "Highway Tune was covered 1 time(s)\n",
      "One Dance was covered 1 time(s)\n",
      "Stronger was covered 1 time(s)\n",
      "New Light was covered 1 time(s)\n"
     ]
    }
   ],
   "metadata": {}
  },
  {
   "cell_type": "code",
   "execution_count": 198,
   "source": [
    "keywords = [\n",
    "(0, \"blues\"), (0, \"female lead\"), (0, \"guitar\"),\n",
    "(1, \"folk\"), (1, \"guitar\"), (1, \"male lead\"),\n",
    "(2, \"pop\"), (2, \"male lead\"), (2, \"rock\"),\n",
    "(3, \"pop\"), (3, \"indie\"), (3, \"alternative\"),\n",
    "(4, \"indie\"), (4, \"alternative\"), (4, \"pop\"),\n",
    "(5, \"rock\"), (5, \"hard rock\"), (5, \"classic rock\"),\n",
    "(6, \"rock\"), (6, \"country\"), (6, \"songwriter\"),\n",
    "(7, \"rap\"), (7, \"r&b\"), (7, \"hip-hop\"),\n",
    "(8, \"rap\"), (8, \"hip-hop\"), (8, \"r&b\"),\n",
    "(9, \"pop\"), (9, \"rock\"), (9, \"guitar\"),\n",
    "]"
   ],
   "outputs": [],
   "metadata": {}
  },
  {
   "cell_type": "code",
   "execution_count": 199,
   "source": [
    "# takes an artists name and returns the top three other artists that have the most keywords in common w/ that artist\n",
    "def similar_artists(artistname):\n",
    "    results = [] # resulting list, holding artist id and commonality count\n",
    "    \n",
    "    # find input artists id\n",
    "    for a in artists:\n",
    "        if a['name'] == artistname:\n",
    "            artistname_id = a['id']\n",
    "\n",
    "    artists_keywords = [] # make list of the artist's keywords\n",
    "    for k in keywords:\n",
    "        if k[0] == artistname_id: # if the id of the keyword equals the id of the input artist, pull the keywordn\n",
    "            artists_keywords.append(k[1])\n",
    "            \n",
    "    # go through all artists\n",
    "    for a in artists:\n",
    "        count = 0 # reset count\n",
    "        current_keywords = [] # reset current keywords\n",
    "        for k in keywords:\n",
    "            if k[0] == a['id']: # if the id of the keyword equals the id of the current artist, pull the keyword\n",
    "                current_keywords.append(k[1])\n",
    "        \n",
    "        # find any matched and keep count\n",
    "        for c in current_keywords:\n",
    "            for k in artists_keywords:\n",
    "                if c == k:\n",
    "                    count += 1\n",
    "        results.append((a['id'], count)) # hold current artist id & count\n",
    "\n",
    "    sort_tuple(results)\n",
    "    \n",
    "    # start at index 1 because 0 is just the sam artist (bc they have the most in common)\n",
    "    # need to pull the name from the id in the tuple\n",
    "    names = [] # holds artists actual names\n",
    "    for r in results:\n",
    "        for A in artists:\n",
    "            if A['id'] == r[0]:\n",
    "                names.append(A['name'])\n",
    "    \n",
    "    print(f'{artistname}s top three similar artists: {names[1]}, {names[2]}, {names[3]}')\n"
   ],
   "outputs": [],
   "metadata": {}
  },
  {
   "cell_type": "code",
   "execution_count": 200,
   "source": [
    "similar_artists(\"John Mayer\")"
   ],
   "outputs": [
    {
     "output_type": "stream",
     "name": "stdout",
     "text": [
      "John Mayers top three similar artists: Harry Styles, Susan Tedeschi, Bob Dylan\n"
     ]
    }
   ],
   "metadata": {}
  }
 ],
 "metadata": {
  "kernelspec": {
   "display_name": "Python 3",
   "language": "python",
   "name": "python3"
  },
  "language_info": {
   "codemirror_mode": {
    "name": "ipython",
    "version": 3
   },
   "file_extension": ".py",
   "mimetype": "text/x-python",
   "name": "python",
   "nbconvert_exporter": "python",
   "pygments_lexer": "ipython3",
   "version": "3.8.8"
  }
 },
 "nbformat": 4,
 "nbformat_minor": 5
}